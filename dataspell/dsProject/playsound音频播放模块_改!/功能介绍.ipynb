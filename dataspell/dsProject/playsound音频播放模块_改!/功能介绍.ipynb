{
 "cells": [
  {
   "cell_type": "markdown",
   "metadata": {},
   "source": [
    "# playsound 模块"
   ]
  },
  {
   "cell_type": "raw",
   "metadata": {},
   "source": [
    "#注意事项：playsound中不支持中文路径\n",
    "\n",
    "#支持中文路径可以用其它方法，如subprocess,但是会打开系统默认播放器，所以比较low。\n",
    "    import subprocess\n",
    "    subprocess.Popen(start_path,shell=True)#os.system('a.mp3')\n",
    "\n",
    "#如果是python2.7还可以用mp3player支持\n",
    "    imprort mp3play\n",
    "    player=mp3play.load('a.mp3')\n",
    "    player.play()\n",
    "    vedioTime=player.milliseconds()\n",
    "    time.sleep(vedioTime)\n",
    "    player.stop()"
   ]
  },
  {
   "cell_type": "markdown",
   "metadata": {},
   "source": [
    "### 使用示例"
   ]
  },
  {
   "cell_type": "raw",
   "metadata": {},
   "source": [
    "from playsound import playsound\n",
    "#上方的模块与pip下载的不同是被大神修改过的，大神增加了暂停功能，我再增加了一个停止功能（仅修改了windows）。\n",
    "p=playsound()\n",
    "p.play('a.mp3')\n",
    "p.stop()#暂停，音频文件还是占用中\n",
    "p.close()#关闭，关闭音频文件"
   ]
  }
 ],
 "metadata": {
  "kernelspec": {
   "display_name": "Python 3",
   "language": "python",
   "name": "python3"
  },
  "language_info": {
   "codemirror_mode": {
    "name": "ipython",
    "version": 3
   },
   "file_extension": ".py",
   "mimetype": "text/x-python",
   "name": "python",
   "nbconvert_exporter": "python",
   "pygments_lexer": "ipython3",
   "version": "3.7.0"
  }
 },
 "nbformat": 4,
 "nbformat_minor": 2
}
