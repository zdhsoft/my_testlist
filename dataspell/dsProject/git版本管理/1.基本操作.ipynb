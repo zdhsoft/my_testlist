{
 "cells": [
  {
   "cell_type": "markdown",
   "metadata": {},
   "source": [
    "# 文件夹下初始化版本仓库"
   ]
  },
  {
   "cell_type": "markdown",
   "metadata": {},
   "source": [
    "cmd命令： git init"
   ]
  },
  {
   "cell_type": "markdown",
   "metadata": {},
   "source": [
    "创建后，当前目录即为一个版本仓库"
   ]
  },
  {
   "cell_type": "markdown",
   "metadata": {},
   "source": [
    "# 创建一个初始版本"
   ]
  },
  {
   "cell_type": "markdown",
   "metadata": {},
   "source": [
    "## 将工作区文件添加到暂存区:\n",
    "git add 文件或目录"
   ]
  },
  {
   "cell_type": "markdown",
   "metadata": {},
   "source": [
    "## 将暂存区的文件创建一个版本(注意不是工作区，而是暂存区)\n",
    "git commit -m 版本信息"
   ]
  },
  {
   "cell_type": "markdown",
   "metadata": {},
   "source": [
    "# 创建一个新的版本"
   ]
  },
  {
   "cell_type": "markdown",
   "metadata": {},
   "source": [
    "## 查看当前状态\n",
    "git status"
   ]
  },
  {
   "cell_type": "markdown",
   "metadata": {},
   "source": [
    "如果有更新的文件，使用git add加入暂存区\n",
    "\n",
    "可以使用git add 文件1 文件2 文件夹3同时添加多个文件"
   ]
  },
  {
   "cell_type": "markdown",
   "metadata": {},
   "source": [
    "## 使用 git commit -m 版本信息 创建一个新的版本"
   ]
  },
  {
   "cell_type": "markdown",
   "metadata": {},
   "source": [
    "# 撤销修改"
   ]
  },
  {
   "cell_type": "markdown",
   "metadata": {},
   "source": [
    "## 工作区的文件回到之前的状态（常用于文件修改出现问题，回退到暂存区的这个文件状态）"
   ]
  },
  {
   "cell_type": "markdown",
   "metadata": {},
   "source": [
    "git checkout --文件名"
   ]
  },
  {
   "cell_type": "markdown",
   "metadata": {},
   "source": [
    "## 当修改了工作区得到文件，还添加到了暂存区，想丢弃修改\n",
    "需要执行以下两个命令"
   ]
  },
  {
   "cell_type": "markdown",
   "metadata": {},
   "source": [
    "git reset HEAD 文件名"
   ]
  },
  {
   "cell_type": "markdown",
   "metadata": {},
   "source": [
    "git checkout --文件名"
   ]
  },
  {
   "cell_type": "markdown",
   "metadata": {},
   "source": [
    "# 查看版本记录"
   ]
  },
  {
   "cell_type": "markdown",
   "metadata": {},
   "source": [
    "git log"
   ]
  },
  {
   "cell_type": "markdown",
   "metadata": {},
   "source": [
    "以简短的形式显示版本: git log --pretty=oneline"
   ]
  },
  {
   "cell_type": "markdown",
   "metadata": {},
   "source": [
    "# 回退到某个版本"
   ]
  },
  {
   "cell_type": "markdown",
   "metadata": {},
   "source": [
    "get reset --hard HEAD^"
   ]
  },
  {
   "cell_type": "markdown",
   "metadata": {},
   "source": [
    "HEAD^代表当前版本的上一个版本<br>\n",
    "HEAD^^代表当前版本的上上一个版本，依此类推<p>\n",
    "\n",
    "HEAD~1代表当前版本的上一个版本<br>\n",
    "HEAD~100代表当前版本的上100个版本"
   ]
  },
  {
   "cell_type": "markdown",
   "metadata": {},
   "source": [
    "# 使用版本编号调用"
   ]
  },
  {
   "cell_type": "markdown",
   "metadata": {},
   "source": [
    "git reset --hard 版本编号(只需要复制版本编号的前面几位即可)"
   ]
  },
  {
   "cell_type": "markdown",
   "metadata": {},
   "source": [
    "# 查看操作记录（可以查看所有版本编号）"
   ]
  },
  {
   "cell_type": "markdown",
   "metadata": {},
   "source": [
    "git reflog"
   ]
  },
  {
   "cell_type": "markdown",
   "metadata": {},
   "source": [
    "# 查看当前状态（查看是否有未跟踪的文件）"
   ]
  },
  {
   "cell_type": "markdown",
   "metadata": {},
   "source": [
    "git status"
   ]
  },
  {
   "cell_type": "markdown",
   "metadata": {},
   "source": [
    "如果有更新的文件，使用git add加入版本库"
   ]
  }
 ],
 "metadata": {
  "kernelspec": {
   "display_name": "Python 3",
   "language": "python",
   "name": "python3"
  },
  "language_info": {
   "codemirror_mode": {
    "name": "ipython",
    "version": 3
   },
   "file_extension": ".py",
   "mimetype": "text/x-python",
   "name": "python",
   "nbconvert_exporter": "python",
   "pygments_lexer": "ipython3",
   "version": "3.7.0"
  }
 },
 "nbformat": 4,
 "nbformat_minor": 2
}
