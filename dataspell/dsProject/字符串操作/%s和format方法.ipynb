{
 "cells": [
  {
   "cell_type": "markdown",
   "metadata": {},
   "source": [
    "# %s和format方法\n",
    "## 1.%s方法"
   ]
  },
  {
   "cell_type": "code",
   "execution_count": 2,
   "metadata": {},
   "outputs": [
    {
     "name": "stdout",
     "output_type": "stream",
     "text": [
      "dorlolo在哈哈大笑\n",
      "dorlolo在哈哈大笑,最后晕倒啦!\n"
     ]
    }
   ],
   "source": [
    "a=\"在哈哈大笑\"\n",
    "b='最后晕倒啦!'\n",
    "print(\"dorlolo%s\"%a)\n",
    "print(\"dorlolo%s,%s\"%(a,b))"
   ]
  },
  {
   "cell_type": "markdown",
   "metadata": {},
   "source": [
    "## 2.format用法\n",
    "    出于个人习惯format方法本人只在%s失效时使用,其实是个很好的东西。.\n",
    "    这个方法经常性容易忘记，好多程序员会习惯性使用该方法"
   ]
  },
  {
   "cell_type": "code",
   "execution_count": 5,
   "metadata": {},
   "outputs": [
    {
     "name": "stdout",
     "output_type": "stream",
     "text": [
      "my name is dorlolo,i'm a boy\n",
      "my name is dorlolo,i'm a boy\n"
     ]
    }
   ],
   "source": [
    "names2=\"my name is {name},i'm a {sex}\"\n",
    "print(names2.format(name=\"dorlolo\",sex=\"boy\"))\n",
    "print(names2.format_map({\"name\":\"dorlolo\",\"sex\":\"boy\"}))"
   ]
  }
 ],
 "metadata": {
  "kernelspec": {
   "display_name": "Python 3",
   "language": "python",
   "name": "python3"
  },
  "language_info": {
   "codemirror_mode": {
    "name": "ipython",
    "version": 3
   },
   "file_extension": ".py",
   "mimetype": "text/x-python",
   "name": "python",
   "nbconvert_exporter": "python",
   "pygments_lexer": "ipython3",
   "version": "3.7.0"
  }
 },
 "nbformat": 4,
 "nbformat_minor": 2
}
