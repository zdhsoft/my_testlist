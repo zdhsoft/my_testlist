{
 "cells": [
  {
   "cell_type": "markdown",
   "metadata": {},
   "source": [
    "# 将字符串用指定字符隔开——join\n",
    "## 1.将字符串用“-”分隔开"
   ]
  },
  {
   "cell_type": "code",
   "execution_count": 14,
   "metadata": {},
   "outputs": [
    {
     "name": "stdout",
     "output_type": "stream",
     "text": [
      "n-i-h-a-o\n"
     ]
    }
   ],
   "source": [
    "a=\"nihao\"\n",
    "print(\"-\".join(a))#结果还是字符串"
   ]
  },
  {
   "cell_type": "markdown",
   "metadata": {},
   "source": [
    "## 2.将数组转化为以“，”分隔的字符串"
   ]
  },
  {
   "cell_type": "code",
   "execution_count": 9,
   "metadata": {},
   "outputs": [
    {
     "name": "stdout",
     "output_type": "stream",
     "text": [
      "ni,hao\n",
      "ni,hao,ni,hao\n",
      "nihao\n"
     ]
    }
   ],
   "source": [
    "b= ['ni','hao']\n",
    "print(\",\".join(b))\n",
    "\n",
    "print(\",\".join(b*2))#b*2为并执行两次\n",
    "\n",
    "print(\"\".join(b))#可以直接转化成连续的字符串！"
   ]
  },
  {
   "cell_type": "markdown",
   "metadata": {},
   "source": [
    "## 3.将元组转化为以-分隔的字符串"
   ]
  },
  {
   "cell_type": "code",
   "execution_count": 10,
   "metadata": {},
   "outputs": [
    {
     "name": "stdout",
     "output_type": "stream",
     "text": [
      "\n",
      "ni-hao-ni-hao\n"
     ]
    }
   ],
   "source": [
    "c=('ni','hao')\n",
    "print(\"\")\n",
    "print(\"-\".join(c*2))"
   ]
  },
  {
   "cell_type": "markdown",
   "metadata": {},
   "source": [
    "## 4.将字典转化为以\"-\"分隔的字符串"
   ]
  },
  {
   "cell_type": "code",
   "execution_count": 12,
   "metadata": {},
   "outputs": [
    {
     "name": "stdout",
     "output_type": "stream",
     "text": [
      "ni-hao\n"
     ]
    }
   ],
   "source": [
    "d={'ni':1,'hao':2}\n",
    "print(\"-\".join(d))"
   ]
  }
 ],
 "metadata": {
  "kernelspec": {
   "display_name": "Python 3",
   "language": "python",
   "name": "python3"
  },
  "language_info": {
   "codemirror_mode": {
    "name": "ipython",
    "version": 3
   },
   "file_extension": ".py",
   "mimetype": "text/x-python",
   "name": "python",
   "nbconvert_exporter": "python",
   "pygments_lexer": "ipython3",
   "version": "3.7.0"
  }
 },
 "nbformat": 4,
 "nbformat_minor": 2
}
