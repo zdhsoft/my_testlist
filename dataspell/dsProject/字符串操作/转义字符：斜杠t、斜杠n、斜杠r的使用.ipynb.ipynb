{
 "cells": [
  {
   "cell_type": "markdown",
   "metadata": {},
   "source": [
    "## python 转义字符\n",
    "    \\t 的意思是 横向跳到下一制表符位置\n",
    "    \\r 的意思是 回车\n",
    "    \\n 的意思是回车换行"
   ]
  },
  {
   "cell_type": "code",
   "execution_count": 2,
   "metadata": {},
   "outputs": [
    {
     "name": "stdout",
     "output_type": "stream",
     "text": [
      "aa\tbb\n"
     ]
    }
   ],
   "source": [
    "#\\t 制表符tab\n",
    "print(\"aa\\tbb\")"
   ]
  },
  {
   "cell_type": "code",
   "execution_count": 5,
   "metadata": {},
   "outputs": [
    {
     "name": "stdout",
     "output_type": "stream",
     "text": [
      "aa\n",
      "bb\n"
     ]
    }
   ],
   "source": [
    "# \\n 换行\n",
    "print(\"aa\\nbb\")"
   ]
  },
  {
   "cell_type": "markdown",
   "metadata": {},
   "source": [
    "## 其它转义符"
   ]
  },
  {
   "cell_type": "code",
   "execution_count": 2,
   "metadata": {},
   "outputs": [
    {
     "name": "stdout",
     "output_type": "stream",
     "text": [
      "aa\r",
      "bb\n",
      "aabb\n"
     ]
    }
   ],
   "source": [
    "#\\r 将当前位置 置于本行开头\n",
    "a=\"aa\\rbb\"\n",
    "print(a)\n",
    "print(a.replace(\"\\r\",''))#aa还是存在的，没有删除。"
   ]
  },
  {
   "cell_type": "code",
   "execution_count": 12,
   "metadata": {},
   "outputs": [
    {
     "name": "stdout",
     "output_type": "stream",
     "text": [
      "aa\bbb\n"
     ]
    }
   ],
   "source": [
    "# \\b 退格\n",
    "print(\"aa\\bbb\")"
   ]
  },
  {
   "cell_type": "code",
   "execution_count": 8,
   "metadata": {},
   "outputs": [
    {
     "name": "stdout",
     "output_type": "stream",
     "text": [
      "aa\f",
      "bb\n"
     ]
    }
   ],
   "source": [
    "# \\f 换页 没什么卵用\n",
    "print (\"aa\\fbb\")"
   ]
  },
  {
   "cell_type": "code",
   "execution_count": 9,
   "metadata": {},
   "outputs": [
    {
     "name": "stdout",
     "output_type": "stream",
     "text": [
      "aa\u000b",
      "fbb\n"
     ]
    }
   ],
   "source": [
    "# \\v 垂直制表符\n",
    "print (\"aa\\vfbb\")"
   ]
  },
  {
   "cell_type": "code",
   "execution_count": 10,
   "metadata": {},
   "outputs": [
    {
     "name": "stdout",
     "output_type": "stream",
     "text": [
      "aa\u0000fbb\n"
     ]
    }
   ],
   "source": [
    "# \\0 空字符NULL 貌似也没什么用\n",
    "print (\"aa\\0fbb\")"
   ]
  }
 ],
 "metadata": {
  "kernelspec": {
   "display_name": "Python 3",
   "language": "python",
   "name": "python3"
  },
  "language_info": {
   "codemirror_mode": {
    "name": "ipython",
    "version": 3
   },
   "file_extension": ".py",
   "mimetype": "text/x-python",
   "name": "python",
   "nbconvert_exporter": "python",
   "pygments_lexer": "ipython3",
   "version": "3.7.0"
  }
 },
 "nbformat": 4,
 "nbformat_minor": 2
}
