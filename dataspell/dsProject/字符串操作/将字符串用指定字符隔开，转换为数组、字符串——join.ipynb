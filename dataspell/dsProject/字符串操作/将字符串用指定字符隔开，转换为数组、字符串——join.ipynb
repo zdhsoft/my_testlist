{
 "cells": [
  {
   "cell_type": "markdown",
   "metadata": {},
   "source": [
    "jion用法1\n",
    "将数据转换为字符串，用字符隔开"
   ]
  },
  {
   "cell_type": "code",
   "execution_count": 2,
   "metadata": {},
   "outputs": [
    {
     "name": "stdout",
     "output_type": "stream",
     "text": [
      "将数组转化为以-分隔的字符串\n",
      "n-i-h-a-o\n",
      "将数组转化为以-分隔的字符串,执行两次\n",
      "ni,hao,ni,hao\n",
      "将元组转化为以-分隔的字符串,执行两次\n",
      "ni-hao-ni-hao\n",
      "将字典转化为以-分隔的字符串\n",
      "ni-hao\n"
     ]
    }
   ],
   "source": [
    "a=\"nihao\"\n",
    "print(\"将数组转化为以-分隔的字符串\")\n",
    "print(\"-\".join(a))\n",
    "\n",
    "b= ['ni','hao']\n",
    "print(\"将数组转化为以-分隔的字符串,执行两次\")\n",
    "print(\",\".join(b*2))\n",
    "\n",
    "c=('ni','hao')\n",
    "print(\"将元组转化为以-分隔的字符串,执行两次\")\n",
    "print(\"-\".join(c*2))\n",
    "\n",
    "d={'ni':1,'hao':2}\n",
    "print(\"将字典转化为以-分隔的字符串\")\n",
    "print(\"-\".join(d))"
   ]
  },
  {
   "cell_type": "code",
   "execution_count": 4,
   "metadata": {},
   "outputs": [
    {
     "name": "stdout",
     "output_type": "stream",
     "text": [
      "['n', 'i', 'h', 'a', 'o']\n"
     ]
    }
   ],
   "source": [
    "e='nihao'\n",
    "res='-'.join(e).split('-')#在字符中插入-，在用split方法通过-切割开\n",
    "print(res)"
   ]
  },
  {
   "cell_type": "code",
   "execution_count": 1,
   "metadata": {},
   "outputs": [
    {
     "ename": "NameError",
     "evalue": "name 'names2' is not defined",
     "output_type": "error",
     "traceback": [
      "\u001b[1;31m---------------------------------------------------------------------------\u001b[0m",
      "\u001b[1;31mNameError\u001b[0m                                 Traceback (most recent call last)",
      "\u001b[1;32m<ipython-input-1-97d0ab156962>\u001b[0m in \u001b[0;36m<module>\u001b[1;34m()\u001b[0m\n\u001b[0;32m      2\u001b[0m \u001b[1;33m\u001b[0m\u001b[0m\n\u001b[0;32m      3\u001b[0m \u001b[1;33m\u001b[0m\u001b[0m\n\u001b[1;32m----> 4\u001b[1;33m \u001b[0mprint\u001b[0m\u001b[1;33m(\u001b[0m\u001b[0mnames2\u001b[0m\u001b[1;33m.\u001b[0m\u001b[0mformat\u001b[0m\u001b[1;33m(\u001b[0m\u001b[0mname\u001b[0m\u001b[1;33m=\u001b[0m\u001b[1;34m\"dorlolo\"\u001b[0m\u001b[1;33m,\u001b[0m\u001b[0msex\u001b[0m\u001b[1;33m=\u001b[0m\u001b[1;34m\"boy\"\u001b[0m\u001b[1;33m)\u001b[0m\u001b[1;33m)\u001b[0m\u001b[1;33m\u001b[0m\u001b[0m\n\u001b[0m\u001b[0;32m      5\u001b[0m \u001b[0mprint\u001b[0m\u001b[1;33m(\u001b[0m\u001b[0mnames2\u001b[0m\u001b[1;33m.\u001b[0m\u001b[0mformat_map\u001b[0m\u001b[1;33m(\u001b[0m\u001b[1;33m{\u001b[0m\u001b[1;34m\"name\"\u001b[0m\u001b[1;33m:\u001b[0m\u001b[1;34m\"dorlolo\"\u001b[0m\u001b[1;33m,\u001b[0m\u001b[1;34m\"sex\"\u001b[0m\u001b[1;33m:\u001b[0m\u001b[1;34m\"boy\"\u001b[0m\u001b[1;33m}\u001b[0m\u001b[1;33m)\u001b[0m\u001b[1;33m)\u001b[0m\u001b[1;33m\u001b[0m\u001b[0m\n\u001b[0;32m      6\u001b[0m \u001b[1;33m\u001b[0m\u001b[0m\n",
      "\u001b[1;31mNameError\u001b[0m: name 'names2' is not defined"
     ]
    }
   ],
   "source": [
    "\n",
    "\n",
    "\n",
    "print(names2.format(name=\"dorlolo\",sex=\"boy\"))\n",
    "print(names2.format_map({\"name\":\"dorlolo\",\"sex\":\"boy\"}))\n",
    "\n",
    "print(''.join(['1','2','3']),\n",
    "      '+'.join(['1','2','3']))#加入字符串,用字符串的内容间隔开\n",
    "\n",
    "\n",
    "\n"
   ]
  }
 ],
 "metadata": {
  "kernelspec": {
   "display_name": "Python 3",
   "language": "python",
   "name": "python3"
  },
  "language_info": {
   "codemirror_mode": {
    "name": "ipython",
    "version": 3
   },
   "file_extension": ".py",
   "mimetype": "text/x-python",
   "name": "python",
   "nbconvert_exporter": "python",
   "pygments_lexer": "ipython3",
   "version": "3.7.0"
  }
 },
 "nbformat": 4,
 "nbformat_minor": 2
}
