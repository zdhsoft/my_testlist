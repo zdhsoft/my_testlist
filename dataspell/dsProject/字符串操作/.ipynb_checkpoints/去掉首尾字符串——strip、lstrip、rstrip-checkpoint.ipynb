{
 "cells": [
  {
   "cell_type": "markdown",
   "metadata": {},
   "source": [
    "# strip的用法"
   ]
  },
  {
   "cell_type": "markdown",
   "metadata": {},
   "source": [
    "### 去首尾的空格和回车"
   ]
  },
  {
   "cell_type": "code",
   "execution_count": 13,
   "metadata": {},
   "outputs": [
    {
     "name": "stdout",
     "output_type": "stream",
     "text": [
      "hahahaha\n",
      "________\n"
     ]
    }
   ],
   "source": [
    "a=\" hahahaha\\n\"\n",
    "print(a.strip())\n",
    "print(\"________\")#回车符没有了"
   ]
  },
  {
   "cell_type": "markdown",
   "metadata": {},
   "source": [
    "### 去首尾的其它字符"
   ]
  },
  {
   "cell_type": "code",
   "execution_count": 12,
   "metadata": {},
   "outputs": [
    {
     "name": "stdout",
     "output_type": "stream",
     "text": [
      "hehehehe\n",
      "\n",
      "________\n"
     ]
    }
   ],
   "source": [
    "b=\",hehehehe\\n\"\n",
    "print(b.strip(\",\"))\n",
    "print(\"________\")#并不会去除回车符"
   ]
  },
  {
   "cell_type": "markdown",
   "metadata": {},
   "source": [
    "### strip是去掉首尾的所有相同的字符"
   ]
  },
  {
   "cell_type": "code",
   "execution_count": 4,
   "metadata": {},
   "outputs": [
    {
     "name": "stdout",
     "output_type": "stream",
     "text": [
      "yayaya\n"
     ]
    }
   ],
   "source": [
    "\n",
    "c=\"00000yayaya\"\n",
    "print(c.strip(\"0\"))"
   ]
  },
  {
   "cell_type": "markdown",
   "metadata": {},
   "source": [
    "### 每个字符都是独立的，与线后顺序无关 "
   ]
  },
  {
   "cell_type": "code",
   "execution_count": 5,
   "metadata": {},
   "outputs": [
    {
     "name": "stdout",
     "output_type": "stream",
     "text": [
      "aiyaya\n"
     ]
    }
   ],
   "source": [
    "d=\"+=aiyaya=+\"\n",
    "print(d.strip(\"+ =\"))#空格也算一共独立字符。"
   ]
  },
  {
   "cell_type": "markdown",
   "metadata": {},
   "source": [
    "### lstrip和rstrip 单独去掉左侧或右侧的操作"
   ]
  },
  {
   "cell_type": "code",
   "execution_count": 6,
   "metadata": {},
   "outputs": [
    {
     "name": "stdout",
     "output_type": "stream",
     "text": [
      "aiyaya=+\n",
      "+=aiyaya\n"
     ]
    }
   ],
   "source": [
    "#只删除左侧的关键字符\n",
    "print(d.lstrip(\"+=\"))\n",
    "#只删除右侧的关键字符\n",
    "print(d.rstrip(\"+=\"))"
   ]
  }
 ],
 "metadata": {
  "kernelspec": {
   "display_name": "Python 3",
   "language": "python",
   "name": "python3"
  },
  "language_info": {
   "codemirror_mode": {
    "name": "ipython",
    "version": 3
   },
   "file_extension": ".py",
   "mimetype": "text/x-python",
   "name": "python",
   "nbconvert_exporter": "python",
   "pygments_lexer": "ipython3",
   "version": "3.7.0"
  }
 },
 "nbformat": 4,
 "nbformat_minor": 2
}
