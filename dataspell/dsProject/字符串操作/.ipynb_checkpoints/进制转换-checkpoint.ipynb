{
 "cells": [
  {
   "cell_type": "code",
   "execution_count": 4,
   "metadata": {},
   "outputs": [
    {
     "name": "stdout",
     "output_type": "stream",
     "text": [
      "去火星合啤酒\n"
     ]
    }
   ],
   "source": [
    "msg =\"去火星合啤酒\"\n",
    "print(msg)"
   ]
  },
  {
   "cell_type": "code",
   "execution_count": 6,
   "metadata": {},
   "outputs": [
    {
     "name": "stdout",
     "output_type": "stream",
     "text": [
      "b'\\xe5\\x8e\\xbb\\xe7\\x81\\xab\\xe6\\x98\\x9f\\xe5\\x90\\x88\\xe5\\x95\\xa4\\xe9\\x85\\x92'\n"
     ]
    }
   ],
   "source": [
    "#转换为二进制，用于数据传输。编码不填默认也是utf-8\n",
    "msg_2=msg.encode(\"utf-8\")\n",
    "print(msg_2)"
   ]
  },
  {
   "cell_type": "code",
   "execution_count": 7,
   "metadata": {},
   "outputs": [
    {
     "name": "stdout",
     "output_type": "stream",
     "text": [
      "去火星合啤酒\n"
     ]
    }
   ],
   "source": [
    "#二进制转换为string。编码两种写法，不填默认utf-8\n",
    "msg_3=msg_2.decode(encoding =\"utf-8\")\n",
    "print(msg_3)"
   ]
  }
 ],
 "metadata": {
  "kernelspec": {
   "display_name": "Python 3",
   "language": "python",
   "name": "python3"
  },
  "language_info": {
   "codemirror_mode": {
    "name": "ipython",
    "version": 3
   },
   "file_extension": ".py",
   "mimetype": "text/x-python",
   "name": "python",
   "nbconvert_exporter": "python",
   "pygments_lexer": "ipython3",
   "version": "3.7.0"
  }
 },
 "nbformat": 4,
 "nbformat_minor": 2
}
