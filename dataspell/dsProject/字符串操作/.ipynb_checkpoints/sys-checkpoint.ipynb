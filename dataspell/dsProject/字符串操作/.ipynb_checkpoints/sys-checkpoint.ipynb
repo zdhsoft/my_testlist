{
 "cells": [
  {
   "cell_type": "code",
   "execution_count": 4,
   "metadata": {},
   "outputs": [
    {
     "name": "stdout",
     "output_type": "stream",
     "text": [
      "['D:\\\\design\\\\jupyterNotebook\\\\字符串操作', 'c:\\\\users\\\\徐俊杰\\\\appdata\\\\local\\\\programs\\\\python\\\\python37-32\\\\python37.zip', 'c:\\\\users\\\\徐俊杰\\\\appdata\\\\local\\\\programs\\\\python\\\\python37-32\\\\DLLs', 'c:\\\\users\\\\徐俊杰\\\\appdata\\\\local\\\\programs\\\\python\\\\python37-32\\\\lib', 'c:\\\\users\\\\徐俊杰\\\\appdata\\\\local\\\\programs\\\\python\\\\python37-32', '', 'c:\\\\users\\\\徐俊杰\\\\appdata\\\\local\\\\programs\\\\python\\\\python37-32\\\\lib\\\\site-packages', 'c:\\\\users\\\\徐俊杰\\\\appdata\\\\local\\\\programs\\\\python\\\\python37-32\\\\lib\\\\site-packages\\\\mnemosyne-2.6.1-py3.7.egg', 'c:\\\\users\\\\徐俊杰\\\\appdata\\\\local\\\\programs\\\\python\\\\python37-32\\\\lib\\\\site-packages\\\\win32', 'c:\\\\users\\\\徐俊杰\\\\appdata\\\\local\\\\programs\\\\python\\\\python37-32\\\\lib\\\\site-packages\\\\win32\\\\lib', 'c:\\\\users\\\\徐俊杰\\\\appdata\\\\local\\\\programs\\\\python\\\\python37-32\\\\lib\\\\site-packages\\\\Pythonwin', 'c:\\\\users\\\\徐俊杰\\\\appdata\\\\local\\\\programs\\\\python\\\\python37-32\\\\lib\\\\site-packages\\\\IPython\\\\extensions', 'C:\\\\Users\\\\徐俊杰\\\\.ipython']\n",
      "['c:\\\\users\\\\徐俊杰\\\\appdata\\\\local\\\\programs\\\\python\\\\python37-32\\\\lib\\\\site-packages\\\\ipykernel_launcher.py', '-f', 'C:\\\\Users\\\\徐俊杰\\\\AppData\\\\Roaming\\\\jupyter\\\\runtime\\\\kernel-1b0e42ab-62ff-44a6-b683-227fb66eaea9.json']\n"
     ]
    }
   ],
   "source": [
    "import sys\n",
    "print(sys.path)#打印环境变量\n",
    "#第三方库位置F:\\\\importprogram\\\\phython\\\\lib\\\\site-packages\n",
    "#标准库位置F:\\\\importprogram\\\\phython\\\\lib\n",
    "\n",
    "\n"
   ]
  },
  {
   "cell_type": "code",
   "execution_count": 5,
   "metadata": {},
   "outputs": [
    {
     "name": "stdout",
     "output_type": "stream",
     "text": [
      "['c:\\\\users\\\\徐俊杰\\\\appdata\\\\local\\\\programs\\\\python\\\\python37-32\\\\lib\\\\site-packages\\\\ipykernel_launcher.py', '-f', 'C:\\\\Users\\\\徐俊杰\\\\AppData\\\\Roaming\\\\jupyter\\\\runtime\\\\kernel-1b0e42ab-62ff-44a6-b683-227fb66eaea9.json']\n"
     ]
    }
   ],
   "source": [
    "print(sys.argv)#在pucharm中可以打印绝对地址，在cmd中打印相对地址"
   ]
  },
  {
   "cell_type": "code",
   "execution_count": 28,
   "metadata": {},
   "outputs": [
    {
     "name": "stdout",
     "output_type": "stream",
     "text": [
      "-->  驱动器 D 中的卷是 新加卷\n",
      " 卷的序列号是 F2AC-C017\n",
      "\n",
      " D:\\design\\jupyterNotebook\\EXCEL数据处理-pandas 的目录\n",
      "\n",
      "2019-03-21  23:54    <DIR>          .\n",
      "2019-03-21  23:54    <DIR>          ..\n",
      "2019-03-21  23:54    <DIR>          .ipynb_checkpoints\n",
      "2019-01-15  22:46    <DIR>          file\n",
      "2019-03-17  22:32           101,450 pandas第一章（数据处理）.ipynb\n",
      "               1 个文件        101,450 字节\n",
      "               4 个目录 204,316,708,864 可用字节\n",
      "\n"
     ]
    }
   ],
   "source": [
    "import os\n",
    "\n",
    "#cmd_res=os.system(\"dir\")#只执行命令不执行结果,不会保存。执行成功显示0，所以值为0\n",
    "cmd_res=os.popen(\"dir\").read()\n",
    "print(\"-->\",cmd_res)\n",
    "\n",
    "#当前文件夹中创建新目录\n",
    "#os.mkdir(\"new_dir\")"
   ]
  },
  {
   "cell_type": "code",
   "execution_count": 27,
   "metadata": {},
   "outputs": [
    {
     "name": "stdout",
     "output_type": "stream",
     "text": [
      "D:\\design\\jupyterNotebook\\EXCEL数据处理-pandas\n"
     ]
    }
   ],
   "source": [
    "#获得当前工作路径\n",
    "a=os.getcwd()\n",
    "print(a)\n",
    "# 修改当前工作目录\n",
    "os.chdir( path )"
   ]
  },
  {
   "cell_type": "code",
   "execution_count": 14,
   "metadata": {},
   "outputs": [
    {
     "name": "stdout",
     "output_type": "stream",
     "text": [
      "True\n"
     ]
    }
   ],
   "source": [
    "#判断文件是否存在\n",
    "path=r'D:\\\\design\\\\jupyterNotebook\\\\字符串操作'\n",
    "if os.path.exists(path):\n",
    "    print(True)"
   ]
  },
  {
   "cell_type": "code",
   "execution_count": 16,
   "metadata": {},
   "outputs": [
    {
     "data": {
      "text/plain": [
       "['.ipynb_checkpoints',\n",
       " 'for循环.ipynb',\n",
       " 'new_dir',\n",
       " 'Untitled.ipynb',\n",
       " '字符串.ipynb',\n",
       " '进制转换.ipynb']"
      ]
     },
     "execution_count": 16,
     "metadata": {},
     "output_type": "execute_result"
    }
   ],
   "source": [
    "#获得路径下的所有文件名和文件夹名称\n",
    "path=r'D:\\\\design\\\\jupyterNotebook\\\\字符串操作'\n",
    "os.listdir(path)"
   ]
  },
  {
   "cell_type": "code",
   "execution_count": 25,
   "metadata": {},
   "outputs": [
    {
     "name": "stdout",
     "output_type": "stream",
     "text": [
      "文件夹中的文件名： ('D:\\\\\\\\design\\\\\\\\jupyterNotebook\\\\\\\\EXCEL数据处理-pandas', ['.ipynb_checkpoints', 'file'], ['pandas第一章（数据处理）.ipynb'])\n",
      "文件夹中的文件名： ('D:\\\\\\\\design\\\\\\\\jupyterNotebook\\\\\\\\EXCEL数据处理-pandas\\\\.ipynb_checkpoints', [], ['pandas第一章（数据处理）-checkpoint.ipynb'])\n",
      "文件夹中的文件名： ('D:\\\\\\\\design\\\\\\\\jupyterNotebook\\\\\\\\EXCEL数据处理-pandas\\\\file', [], ['1.png', '2.png', '3.png', '员工综合素质评价表.xlsx'])\n"
     ]
    }
   ],
   "source": [
    "#遍历所有子文件夹和子文件名称\n",
    "path=r'D:\\\\design\\\\jupyterNotebook\\\\EXCEL数据处理-pandas'\n",
    "for dirs in os.walk(path):\n",
    "    print(\"文件夹中的文件名：\",dirs)"
   ]
  },
  {
   "cell_type": "code",
   "execution_count": null,
   "metadata": {},
   "outputs": [],
   "source": [
    "#获取某个文件夹下所有指定格式的文件，这里是mht\n",
    "result_list=[]\n",
    "import os\n",
    "def read_file_name(dir_path):\n",
    "    for root, dirs, files in os.walk(dir_path):\n",
    "        #print(\"检测%s文件夹下的文件\"%root)  # 当前目录路径\n",
    "        #print(dirs)  # 当前路径下所有子目录\n",
    "        for fileName in files:\n",
    "            if os.path.splitext(fileName)[1]=='.mht':\n",
    "                #print(dirs)\n",
    "                #print(fileName)  # 当前路径下所有非目录子文件\n",
    "                file_path=root+'\\\\'+fileName\n",
    "                result_list.append(file_path)"
   ]
  }
 ],
 "metadata": {
  "kernelspec": {
   "display_name": "Python 3",
   "language": "python",
   "name": "python3"
  },
  "language_info": {
   "codemirror_mode": {
    "name": "ipython",
    "version": 3
   },
   "file_extension": ".py",
   "mimetype": "text/x-python",
   "name": "python",
   "nbconvert_exporter": "python",
   "pygments_lexer": "ipython3",
   "version": "3.7.0"
  }
 },
 "nbformat": 4,
 "nbformat_minor": 2
}
