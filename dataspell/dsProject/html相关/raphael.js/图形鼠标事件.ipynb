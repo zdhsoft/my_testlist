{
 "cells": [
  {
   "cell_type": "markdown",
   "metadata": {},
   "source": [
    "# click()\n",
    "click()方法是用来为Raphael元素绑定单击事件的方法，语法如下："
   ]
  },
  {
   "cell_type": "code",
   "execution_count": null,
   "metadata": {},
   "outputs": [],
   "source": [
    "rect.click(function(){ \n",
    "  //点击之后的动作\n",
    "  alert(\"clicked rectangle\");\n",
    "})"
   ]
  },
  {
   "cell_type": "markdown",
   "metadata": {},
   "source": [
    "# dbclick()\n",
    "dbclick()方法和click语法一样，触发为双击触发。语法如下：\n"
   ]
  },
  {
   "cell_type": "code",
   "execution_count": null,
   "metadata": {},
   "outputs": [],
   "source": [
    "cir.dblclick(function(){ \n",
    "  alert(\"It's a double click !\");\n",
    "})"
   ]
  },
  {
   "cell_type": "markdown",
   "metadata": {},
   "source": [
    "\n",
    "# mousedown()\n",
    "mousedown()方法为Raphael元素绑定鼠标键按下的动作，任何鼠标键按下都是触发事件。语法如下：\n"
   ]
  },
  {
   "cell_type": "code",
   "execution_count": null,
   "metadata": {},
   "outputs": [],
   "source": [
    "rect.mousedown(function(){ \n",
    "  rect.animate({\n",
    "    'width':'200' \n",
    "  },400) \n",
    "})"
   ]
  },
  {
   "cell_type": "markdown",
   "metadata": {},
   "source": [
    "# mouseup()\n",
    "mouseup()方法与上面mousedown()相反，触发条件为鼠标按下的键被释放，语法也和上面完全一致。"
   ]
  },
  {
   "cell_type": "markdown",
   "metadata": {},
   "source": [
    "# mousemove()\n",
    "mousemove()方法为鼠标在一个Raphael元素上面移过时触发。\n"
   ]
  },
  {
   "cell_type": "markdown",
   "metadata": {},
   "source": [
    "# mouseover()\n",
    "mousemove()方法为鼠标进入元素时触发。这里需要说明，mouseover()和上面mousemove()的区别，你从外面移动到一个Raphael元素时，两个方法都可以触发事件。但是如果你把事件执行完成，继续移动鼠标（假设此时鼠标光标还在元素中），mouseover()将不再继续执行事件，而mousemove() 会持续触发事件。"
   ]
  },
  {
   "cell_type": "markdown",
   "metadata": {},
   "source": [
    "# mouseout()\n",
    "mouseout()方法触发为鼠标移出一个Raphael元素时，它只有在移出时触发，进入不触发。"
   ]
  }
 ],
 "metadata": {
  "kernelspec": {
   "display_name": "Python 3",
   "language": "python",
   "name": "python3"
  },
  "language_info": {
   "codemirror_mode": {
    "name": "ipython",
    "version": 3
   },
   "file_extension": ".py",
   "mimetype": "text/x-python",
   "name": "python",
   "nbconvert_exporter": "python",
   "pygments_lexer": "ipython3",
   "version": "3.7.0"
  }
 },
 "nbformat": 4,
 "nbformat_minor": 2
}
