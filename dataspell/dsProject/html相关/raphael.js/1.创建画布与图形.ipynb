{
 "cells": [
  {
   "cell_type": "markdown",
   "metadata": {},
   "source": [
    "# 如何创建画布"
   ]
  },
  {
   "cell_type": "markdown",
   "metadata": {},
   "source": [
    "## html中添加div元素,里面不需要添加任何内容"
   ]
  },
  {
   "cell_type": "code",
   "execution_count": null,
   "metadata": {},
   "outputs": [],
   "source": [
    "<div id=\"svg_draw\">  </div>"
   ]
  },
  {
   "cell_type": "markdown",
   "metadata": {},
   "source": [
    "## js代码中添加以下内容"
   ]
  },
  {
   "cell_type": "code",
   "execution_count": null,
   "metadata": {},
   "outputs": [],
   "source": [
    "window.onload = function () {\n",
    "    //获取div元素\n",
    "    var draw_div = document.getElementById('svg_draw');\n",
    "    //创建画布\n",
    "    window.paper = Raphael(draw_div, draw_div.width, draw_div.height);\n",
    "    \n",
    "    ssvg.addEventListener(\"mousemove\", function (e) {\n",
    "        var bbox = ssvg.getBoundingClientRect();\n",
    "        window.curx = e.clientX - bbox.left;\n",
    "        window.cury = e.clientY - bbox.top;\n",
    "        console.log(curx + \",\" + cury)\n",
    "    });"
   ]
  },
  {
   "cell_type": "markdown",
   "metadata": {},
   "source": [
    "## 画布属性用法"
   ]
  },
  {
   "cell_type": "code",
   "execution_count": null,
   "metadata": {},
   "outputs": [],
   "source": [
    "//获取画布宽度和高度\n",
    "var width=paper.width;\n",
    "var height=paper.height;\n",
    "\n",
    "//---通过js的document方法如何获取画布宽度\n",
    "var ssvg = document.getElementById(\"svg\");//获取画布\n",
    "var paper_width = ssvg.width.animVal.valueAsString;\n",
    "\n",
    "//重设画布尺寸\n",
    "paper.setSize(600,800);//宽和高\n",
    "\n",
    "//清空画布\n",
    "paper.clear()\n",
    "\n",
    "//给画布添加id属性\n",
    "document.getElementsByTagName('svg')[0].setAttribute('id', 'svg');//添加id属性，应该用不到"
   ]
  },
  {
   "cell_type": "markdown",
   "metadata": {},
   "source": []
  },
  {
   "cell_type": "markdown",
   "metadata": {},
   "source": [
    "# 基本图形的绘制"
   ]
  },
  {
   "cell_type": "code",
   "execution_count": null,
   "metadata": {},
   "outputs": [],
   "source": [
    "paper.circle()\n",
    "paper.rect()\n",
    "paper.ellipse()\n",
    "paper.path()\n",
    "paper.image()"
   ]
  },
  {
   "cell_type": "markdown",
   "metadata": {},
   "source": [
    "## 复杂图形绘制 Paper.path([pathString])"
   ]
  },
  {
   "cell_type": "markdown",
   "metadata": {},
   "source": [
    "| command | 名称 | 参数 |\n",
    "| :------| :------ | :------: |\n",
    "| M\t      | 移动到（moveTo) | (x y)+ |\n",
    "| Z\t      | 闭合路径（closepath）| (none) |\n",
    "| L\t      | 直线（lineTo）\t| (x y)+ |\n",
    "| H       | 水平直线\t| x+ |\n",
    "| V\t      | 垂直直线\t| y+ |\n",
    "| C\t      | 曲线（curveto）\t| (x1 y1 x2 y2 x y)+ |\n",
    "| S\t      | 平滑曲线\t| (x2 y2 x y)+ |\n",
    "| Q\t      | 二次贝赛尔曲线\t| (x1 y1 x y)+ |\n",
    "| T\t      | 平滑二次贝塞尔曲线\t| (x y)+ |\n",
    "| A\t      | 椭圆弧\t| (rx ry x-axis-rotation large-arc-flag sweep-flag x y)+ |\n",
    "| R\t      | Catmull-Rom 曲线*\t| x1 y1 (x y)+ |"
   ]
  },
  {
   "cell_type": "markdown",
   "metadata": {},
   "source": [
    "## clone() 复制一个图形"
   ]
  },
  {
   "cell_type": "code",
   "execution_count": null,
   "metadata": {},
   "outputs": [],
   "source": [
    "var rect=paper.rect(x,y,w,h,radius);\n",
    "\n",
    "//下面这个是我们想要的效果的代码：\n",
    "var newrect=rect.clone().attr({\"x\":50,\"y\":50});\n",
    "//而不是这个：\n",
    "var newrect=rect.attr({\"x\":50,\"y\":50});"
   ]
  }
 ],
 "metadata": {
  "kernelspec": {
   "display_name": "Python 3",
   "language": "python",
   "name": "python3"
  },
  "language_info": {
   "codemirror_mode": {
    "name": "ipython",
    "version": 3
   },
   "file_extension": ".py",
   "mimetype": "text/x-python",
   "name": "python",
   "nbconvert_exporter": "python",
   "pygments_lexer": "ipython3",
   "version": "3.7.0"
  }
 },
 "nbformat": 4,
 "nbformat_minor": 2
}
