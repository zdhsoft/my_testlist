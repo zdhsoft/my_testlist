{
 "cells": [
  {
   "cell_type": "markdown",
   "metadata": {},
   "source": [
    "# for....in"
   ]
  },
  {
   "cell_type": "code",
   "execution_count": null,
   "metadata": {},
   "outputs": [],
   "source": [
    "const obj = {\n",
    "            id:1,\n",
    "            name:'zhangsan',\n",
    "            age:18\n",
    "}\n",
    "\n",
    " for(let key  in obj){\n",
    "        console.log(key + '---' + obj[key])\n",
    "  }\n"
   ]
  },
  {
   "cell_type": "markdown",
   "metadata": {},
   "source": [
    "# Object.keys（obj）和 Object.values（obj）"
   ]
  },
  {
   "cell_type": "code",
   "execution_count": null,
   "metadata": {},
   "outputs": [],
   "source": [
    "const obj = {\n",
    "　　　　id:1,\n",
    "　　　　name:'zhangsan',\n",
    "　　　　age:18\n",
    "}\n",
    "\n",
    "console.log(Object.keys(obj))\n",
    "\n",
    "console.log(Object.values(obj))"
   ]
  },
  {
   "cell_type": "markdown",
   "metadata": {},
   "source": [
    "# Object.getOwnPropertyNames(obj)\n",
    "返回一个数组，包含对象自身的所有属性（包含不可枚举属性）</br>\n",
    "遍历可以获取key和value"
   ]
  },
  {
   "cell_type": "code",
   "execution_count": null,
   "metadata": {},
   "outputs": [],
   "source": [
    "const obj = {\n",
    "            id:1,\n",
    "            name:'zhangsan',\n",
    "            age:18\n",
    "    }\n",
    "    Object.getOwnPropertyNames(obj).forEach(function(key){\n",
    "        console.log(key+ '---'+obj[key])\n",
    "    })"
   ]
  }
 ],
 "metadata": {
  "kernelspec": {
   "display_name": "Python 3",
   "language": "python",
   "name": "python3"
  },
  "language_info": {
   "codemirror_mode": {
    "name": "ipython",
    "version": 3
   },
   "file_extension": ".py",
   "mimetype": "text/x-python",
   "name": "python",
   "nbconvert_exporter": "python",
   "pygments_lexer": "ipython3",
   "version": "3.7.0"
  }
 },
 "nbformat": 4,
 "nbformat_minor": 2
}
