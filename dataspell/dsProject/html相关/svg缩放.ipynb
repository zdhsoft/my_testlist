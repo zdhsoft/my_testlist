{
 "cells": [
  {
   "cell_type": "code",
   "execution_count": null,
   "metadata": {},
   "outputs": [],
   "source": [
    "//html中\n",
    "<div onload=\"zoom(this)\">哈哈哈 </div>"
   ]
  },
  {
   "cell_type": "code",
   "execution_count": null,
   "metadata": {},
   "outputs": [],
   "source": [
    "//js中\n",
    "引用res文件夹中的svg-pan-zoom.js"
   ]
  },
  {
   "cell_type": "code",
   "execution_count": null,
   "metadata": {},
   "outputs": [],
   "source": [
    "//js中\n",
    "function zoom(obj) {\n",
    "    // 此处获取的元素Id是SVG文件中的<g>标签的id值\n",
    "    $(obj.getSVGDocument().getElementById('svg_draw')).show();\n",
    "    svgPanZoom(obj, {\n",
    "        zoomEnabled: true, //开启缩放功能\n",
    "        controlIconsEnabled: true //开启右下角缩放控件功能\n",
    "    });\n",
    "    console.log(\"自动缩放移动程序运行！\")\n",
    "}"
   ]
  }
 ],
 "metadata": {
  "kernelspec": {
   "display_name": "Python 3",
   "language": "python",
   "name": "python3"
  },
  "language_info": {
   "codemirror_mode": {
    "name": "ipython",
    "version": 3
   },
   "file_extension": ".py",
   "mimetype": "text/x-python",
   "name": "python",
   "nbconvert_exporter": "python",
   "pygments_lexer": "ipython3",
   "version": "3.7.0"
  }
 },
 "nbformat": 4,
 "nbformat_minor": 2
}
