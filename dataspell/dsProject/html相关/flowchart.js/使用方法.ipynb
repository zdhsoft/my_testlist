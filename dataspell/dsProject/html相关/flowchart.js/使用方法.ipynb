{
 "cells": [
  {
   "cell_type": "code",
   "execution_count": null,
   "metadata": {},
   "outputs": [],
   "source": [
    "//=================================流程代码https://github.com/adrai/flowchart.js\n",
    "    //只能话简单的流程图，判断选项一多就会紊乱\n",
    "    // var tree = \"st=>start: 开始\\n\" +\n",
    "    //     'op1=>operation: 选项1\\n' +\n",
    "    //     'op2=>operation: 选项2\\n' +\n",
    "    //     'op3=>operation: 选项3\\n' +\n",
    "    //     'op4=>operation: 选项4\\n' +\n",
    "    //     'e=>end: 结束\\n' +\n",
    "    ////-------------棱形多选项，只能设置yes和no两个\n",
    "    // 'cond=>condition: 判断判断判断断\\n'+\n",
    "    // 'st->cond\\n'+\n",
    "    // 'cond(yes)->op1->e\\n'+\n",
    "    // 'cond(no)->op2->e\\n';//链接符后面不能有空格\n",
    "    ////----------------矩形多选\n",
    "    // 'par=>parallel: 多选\\n'+\n",
    "    // 'st->par\\n'+\n",
    "    // 'par(path1,bottom)->op1->e\\n'+\n",
    "    // 'par(path2,right)->op2->e\\n';\n",
    "    //\n",
    "    // var diagram = flowchart.parse(tree);\n",
    "    // diagram.drawSVG('svg_draw');"
   ]
  }
 ],
 "metadata": {
  "kernelspec": {
   "display_name": "Python 3",
   "language": "python",
   "name": "python3"
  },
  "language_info": {
   "codemirror_mode": {
    "name": "ipython",
    "version": 3
   },
   "file_extension": ".py",
   "mimetype": "text/x-python",
   "name": "python",
   "nbconvert_exporter": "python",
   "pygments_lexer": "ipython3",
   "version": "3.7.0"
  }
 },
 "nbformat": 4,
 "nbformat_minor": 2
}
