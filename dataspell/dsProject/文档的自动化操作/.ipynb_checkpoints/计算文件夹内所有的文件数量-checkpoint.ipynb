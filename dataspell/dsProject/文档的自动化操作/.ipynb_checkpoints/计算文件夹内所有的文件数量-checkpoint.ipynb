{
 "cells": [
  {
   "cell_type": "code",
   "execution_count": null,
   "metadata": {},
   "outputs": [],
   "source": [
    "#计算文件数量\n",
    "def countFile(dir):\n",
    "    tmp = 0\n",
    "    for item in os.listdir(dir):\n",
    "        if os.path.isfile(os.path.join(dir, item)):\n",
    "            tmp += 1\n",
    "        else:\n",
    "            tmp += countFile(os.path.join(dir, item))\n",
    "    return tmp"
   ]
  }
 ],
 "metadata": {
  "kernelspec": {
   "display_name": "Python 3",
   "language": "python",
   "name": "python3"
  },
  "language_info": {
   "codemirror_mode": {
    "name": "ipython",
    "version": 3
   },
   "file_extension": ".py",
   "mimetype": "text/x-python",
   "name": "python",
   "nbconvert_exporter": "python",
   "pygments_lexer": "ipython3",
   "version": "3.7.0"
  }
 },
 "nbformat": 4,
 "nbformat_minor": 2
}
