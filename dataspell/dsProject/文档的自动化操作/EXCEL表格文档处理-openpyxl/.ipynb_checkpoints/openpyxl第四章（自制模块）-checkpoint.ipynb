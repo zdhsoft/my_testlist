{
 "cells": [
  {
   "cell_type": "markdown",
   "metadata": {},
   "source": [
    "### 自制模块"
   ]
  },
  {
   "cell_type": "markdown",
   "metadata": {},
   "source": [
    "1.读取表格数据"
   ]
  },
  {
   "cell_type": "code",
   "execution_count": 20,
   "metadata": {},
   "outputs": [],
   "source": [
    "\n",
    "import openpyxl\n",
    "#获取数据\n",
    "import openpyxl\n",
    "#获取数据\n",
    "def get_excel_Info(path,sheetName=None):\n",
    "    '''\n",
    "    :param path: excel表格存储路径\n",
    "    :param sheetName: excel表格中的工作表名称，如果未填写则获取最近保存时的活动工作表\n",
    "    #返回值:fieldNameList字段名,fieldLengthList值的长度,valuesList#值组成的列表\n",
    "    :return:\n",
    "    '''\n",
    "    #print(path)\n",
    "    if sheetName:#如果工作表名称未填写则自动获取保存时的活动工作表。\n",
    "        #data=openpyxl.load_workbook(path).get_sheet_by_name(sheetName)\n",
    "        wb=openpyxl.load_workbook(path,data_only=True)#data_only,只获取值不获取公式\n",
    "        data=wb[sheetName]\n",
    "        print(\"读取指定工作表完成\", sheetName)\n",
    "    else:\n",
    "        wb=openpyxl.load_workbook(path,data_only=True)\n",
    "        data=wb.active\n",
    "        print(\"读取活动工作表完成\")\n",
    "    #按行获取内容\n",
    "    fieldNameList=[]\n",
    "    valuesList=[]\n",
    "    for timer,row in enumerate(data.values):\n",
    "        for value in row:\n",
    "            if timer ==0:\n",
    "                #print(\"字段名\")\n",
    "                fieldNameList.append(value)\n",
    "            else:\n",
    "                #print(\"value:\")\n",
    "                if value==None:\n",
    "                    value=\"0\"\n",
    "                valuesList.append(value)\n",
    "\n",
    "            #print(\"提取表格内容：\",valuesList)\n",
    "        #print(value)\n",
    "    #获取每个字段中值的最大字符长度\n",
    "    goalLength=0\n",
    "    fieldLengthList=[]\n",
    "    for timer,n in enumerate(fieldNameList):\n",
    "        for i in data.rows:\n",
    "            #print(i[timer].value)\n",
    "            lengthValue=len(str(i[timer].value))\n",
    "            if lengthValue>goalLength:\n",
    "                goalLength=lengthValue\n",
    "        #print(\"最大值%s：%s\"%(goalLength,i[timer].value))\n",
    "        fieldLengthList.append(goalLength)\n",
    "        goalLength=0\n",
    "    print(\"excel读取结束\")\n",
    "    wb.close()\n",
    "    #print(fieldLengthList)\n",
    "    return fieldNameList,fieldLengthList,valuesList"
   ]
  },
  {
   "cell_type": "code",
   "execution_count": 23,
   "metadata": {},
   "outputs": [],
   "source": [
    "#调用方法\n",
    "ExcelPath=r\"D:\\员工培训\\新人培训\\20190305新人培训\\员工信息.xlsx\"\n",
    "fieldNameList, fieldLengthList, valuesList=get_excel_info(ExcelPath,sheetName=\"（yalu的标准格式）员工信息\")\n",
    "# print(fieldNameList)\n",
    "# print(fieldLengthList)\n",
    "# print(valuesList)"
   ]
  },
  {
   "cell_type": "code",
   "execution_count": null,
   "metadata": {},
   "outputs": [],
   "source": []
  }
 ],
 "metadata": {
  "kernelspec": {
   "display_name": "Python 3",
   "language": "python",
   "name": "python3"
  },
  "language_info": {
   "codemirror_mode": {
    "name": "ipython",
    "version": 3
   },
   "file_extension": ".py",
   "mimetype": "text/x-python",
   "name": "python",
   "nbconvert_exporter": "python",
   "pygments_lexer": "ipython3",
   "version": "3.7.0"
  }
 },
 "nbformat": 4,
 "nbformat_minor": 2
}
