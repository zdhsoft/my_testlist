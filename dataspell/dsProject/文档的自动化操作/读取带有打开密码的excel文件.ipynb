{
 "cells": [
  {
   "cell_type": "markdown",
   "metadata": {},
   "source": [
    "# 读取带有打开密码的excel文件"
   ]
  },
  {
   "cell_type": "markdown",
   "metadata": {},
   "source": [
    "### openpyxl、xlrd等excel模块无法打开具有打开密码的exccel。需要使用以下方式打开\n",
    "该模块返回的是一个列表。例[ [1,2,3] , [4,5,6] ]"
   ]
  },
  {
   "cell_type": "code",
   "execution_count": null,
   "metadata": {},
   "outputs": [],
   "source": [
    "#该模块返回的是一个列表。例[[1,2,3],[4,5,6]]\n",
    "def read_excel(filepath,password='',SheetName='Sheet1'):\n",
    "    if (password == '') or (not isinstance(password, str)):\n",
    "        password = ' '\n",
    "    try:\n",
    "        in_file = filepath#path.abspath(filepath)\n",
    "        excel = client.DispatchEx('Excel.Application')\n",
    "        excel.Visible = 0\n",
    "        wb =excel.Workbooks.Open(in_file, 0, 1, None, password)\n",
    "        '''\n",
    "        # full_text = []\n",
    "        # for sheet in wb.Sheets:\n",
    "        #     usedrange = sheet.UsedRange()\n",
    "        #     if usedrange == None: continue\n",
    "        #     for row in usedrange:\n",
    "        #         rowtext = '\\t'.join(str(cell) for cell in row if cell != None)\n",
    "        #         full_text.append(rowtext)\n",
    "        # text = '\\n'.join(full_text)\n",
    "        # wb.Close()\n",
    "        '''\n",
    "    except com_error as e:\n",
    "        if e.hresult == -2147352567:\n",
    "            raise Exception('Incorrect password.')\n",
    "        else:\n",
    "            raise\n",
    "\n",
    "    for sheet in wb.Sheets:\n",
    "        if sheet.Name == 'Sheet1':\n",
    "            tuple_rows = sheet.usedRange()\n",
    "            list_rows = []\n",
    "            for row in tuple_rows:\n",
    "                list_rows.append(list(row))\n",
    "            return list_rows"
   ]
  }
 ],
 "metadata": {
  "kernelspec": {
   "display_name": "Python 3",
   "language": "python",
   "name": "python3"
  },
  "language_info": {
   "codemirror_mode": {
    "name": "ipython",
    "version": 3
   },
   "file_extension": ".py",
   "mimetype": "text/x-python",
   "name": "python",
   "nbconvert_exporter": "python",
   "pygments_lexer": "ipython3",
   "version": "3.7.0"
  }
 },
 "nbformat": 4,
 "nbformat_minor": 2
}
