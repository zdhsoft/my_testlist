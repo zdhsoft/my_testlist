{
 "cells": [
  {
   "cell_type": "markdown",
   "metadata": {},
   "source": [
    "# 打包exe文件"
   ]
  },
  {
   "cell_type": "raw",
   "metadata": {},
   "source": [
    "遗留问题\n",
    "1.使用spec文件打包时，命令中加入-F无法打包成单独的exe文件。目前需要更换虚拟机作为尝试"
   ]
  },
  {
   "cell_type": "markdown",
   "metadata": {},
   "source": [
    "## 一、命令行基本操作"
   ]
  },
  {
   "cell_type": "raw",
   "metadata": {},
   "source": [
    "pyinstaller -F myscript.py #下次尝试pyinstaller的p大写，貌似能支持中文路径"
   ]
  },
  {
   "cell_type": "raw",
   "metadata": {},
   "source": [
    "–icon=图标路径\n",
    "-F 打包成一个exe文件\n",
    "-w 使用窗口，无控制台\n",
    "-c 使用控制台，无窗口\n",
    "-D 创建一个目录，里面包含exe以及其他一些依赖性文件\n",
    "-h 来查看参数"
   ]
  },
  {
   "cell_type": "markdown",
   "metadata": {},
   "source": [
    "### 添加资源文件 \n",
    "    资源文件意为不会被pyinstaller打包的文件，如*.txt、*.mp3、*.docx等文件。\n",
    "- 命令行格式： --add-data 'import path: export path'<p>\n",
    "    <code> pyinstaller --add-data 'src/README.txt:.' myscript.py</code>\n",
    "\n",
    "    意为从src/README.txt 导入到打包文件的根目录。其中“：”为导入到，“ .”意思为根目录。<p>\n",
    "    \n",
    "- 在spec文件中格式为：<p>\n",
    "datas= [  ('src/README.txt', '.'),('/mygame/sfx/*.mp3', 'sfx' ) ] <p>\n",
    " *.mp3意为把所有mp3文件导入到打包文件中的sfx文件夹。"
   ]
  },
  {
   "cell_type": "markdown",
   "metadata": {},
   "source": [
    "### 添加python的第三方库\n",
    "- 命令行的格式：<p>\n",
    "    <code>pyinstaller --add-binary '/usr/lib/libiodbc.2.dylib:.' myscript.py</code><p>\n",
    "        \n",
    "- 在spec文件中格式为：<p>\n",
    "    binaries=[('C:/Users/Administrator/PycharmProjects/send lists/venv/Lib/site-packages/cpca','cpca')]<p>\n",
    "    此处将虚拟环境中的库添加到打包文件中，在打包的根目录中会直接生成cpca文件夹"
   ]
  },
  {
   "cell_type": "markdown",
   "metadata": {},
   "source": [
    "## 二、spec文件介绍 "
   ]
  },
  {
   "cell_type": "raw",
   "metadata": {},
   "source": [
    "1.Analysis：#打包文件\n",
    "\n",
    "a = Analysis(['C:\\\\alats\\\\sendlist\\\\main.py'],#主程序路径，路径不包含中文\n",
    "             pathex=['C:\\\\alats'],#导出位置\n",
    "             binaries=[\n",
    "             ('C:/Users/Administrator/PycharmProjects/send lists/venv/Lib/site-packages/cpca','cpca'),\n",
    "             ],\n",
    "             datas=[],#用于导入图片、文件等。这类文件应该在根目录下，并用相对路径引用。避免移到其它电脑找不到文件\n",
    "             hiddenimports=['lib.adress','lib.myxl'],\n",
    "             hookspath=[],\n",
    "             runtime_hooks=[],\n",
    "             excludes=[],\n",
    "             win_no_prefer_redirects=False,\n",
    "             win_private_assemblies=False,\n",
    "             cipher=block_cipher,\n",
    "             noarchive=False)\n",
    "\n",
    "1.pathex：打包后exe文件存放路径\n",
    "2.binaries：\n",
    "    （1）说明：用于在打包在py文件开头没有使用import声明的第三方库。（自己写的包时其它地方导入，不是这里！）如果第三方库是个文件夹，导出位置子只需要写import 后面的模块名即可。\n",
    "    （2）格式：('模块路径，如果模块是文件夹，那么只需要该文件夹的路径','导出位置，就是你import的文件名或文件夹')\n",
    "    （3）导出位置说明：'.'表示根目录，'dd'表示存放在根目录明为dd的文件夹中。\n",
    "    （4）重点注意：a.路径需要\\\\或/，而不能是\\！！！！！！\n",
    "              b.每个）后面要有逗号！！！！！最后一个）后面可以没有！\n",
    " \n",
    "3.datas：\n",
    "    （1）说明：用于导入存放的图片、文件等。这类文件应该在程序根目录下，按照其它文档介绍，优先用相对路径引用。避免移到其它电脑后找不到文件\n",
    "    （2）格式：应该同binaries\n",
    "    \n",
    "4.hiddenimports：\n",
    "    （1）说明：用于导入自己的库。\n",
    "    （2）格式：['模块1','模块2']，如本来时import lib.adress,那么填入['lib.adress']\n",
    "\n"
   ]
  },
  {
   "cell_type": "raw",
   "metadata": {},
   "source": [
    "exe = EXE(pyz,\n",
    "          a.scripts,\n",
    "          [],\n",
    "          exclude_binaries=True,#排出二进制文件。\n",
    "          name='sendList',#打包后的exe文件名\n",
    "          debug=False,\n",
    "          bootloader_ignore_signals=False,\n",
    "          strip=False,\n",
    "          upx=True,\n",
    "          console=True #Ture：打开exe文件时会弹出命令框\n",
    "          )\n",
    "#exclude_binaries:\n",
    "#name：exe文件名\n",
    "#debug：\n",
    "#bootloader_ignore_signals：\n",
    "#strip：将single-table 应用于可执行文件或共享lib，windows不推荐开启。single——table 可能指的是这个spec文件？\n",
    "#upx:可以压缩大量的文件数据，使exe文件更小\n",
    "#console：允许打开exe文件后，弹出cmd窗口"
   ]
  },
  {
   "cell_type": "raw",
   "metadata": {},
   "source": [
    "#coll：收集前三个部分的内容进行整合，包含输出的大文件夹名称\n",
    "coll = COLLECT(exe,\n",
    "               a.binaries,\n",
    "               a.zipfiles,\n",
    "               a.datas,\n",
    "               strip=False,\n",
    "               upx=True,\n",
    "               upx_exclude=[],\n",
    "               name='install')\n",
    "#name:打包文件所在的目录名，一般为/dist/name/exe folder"
   ]
  },
  {
   "cell_type": "markdown",
   "metadata": {},
   "source": [
    "## 一、如何导入自己的模块"
   ]
  },
  {
   "cell_type": "markdown",
   "metadata": {},
   "source": [
    "## 二、提示no moule named XXX如何处理？"
   ]
  },
  {
   "cell_type": "raw",
   "metadata": {},
   "source": [
    "修改spec文件"
   ]
  },
  {
   "cell_type": "markdown",
   "metadata": {},
   "source": [
    "## 三、相关问题"
   ]
  },
  {
   "cell_type": "raw",
   "metadata": {},
   "source": [
    "1.关于安装pyinstaller\n",
    "p大写，貌似能支持中文路径\n",
    "\n",
    "2.pycharm的venv虚拟环境下安装报错问题\n",
    "3.使用spec文件安装 加入-F无法打包成单独的exe文件\n",
    "、\n",
    "一.关于图片打包的问题\n",
    "\n",
    "1.经过科学搜索后有以下几种打包方式：\n",
    "\n",
    "①将图片转化为py文件中的变量，通过import该文件来生成需要的图片，使用后移除图片（该方法可以通过库base64和wxpython实现）\n",
    "\n",
    "②将图片放在同一目录下的文件夹中，随程序一起使用\n",
    "\n",
    "③使用工具对exe文件和图片进行二次打包\n",
    "\n",
    "#具体方法见file文件夹"
   ]
  },
  {
   "cell_type": "raw",
   "metadata": {},
   "source": [
    "D:\\dist>Pyinstaller -F main.spec\n",
    "95 INFO: PyInstaller: 3.4\n",
    "95 INFO: Python: 3.7.0\n",
    "96 INFO: Platform: Windows-10-10.0.17134-SP0\n",
    "102 INFO: UPX is not available.\n",
    "Traceback (most recent call last):\n",
    "  File \"c:\\users\\徐俊杰\\appdata\\local\\programs\\python\\python37-32\\lib\\runpy.py\", line 193, in _run_module_as_main\n",
    "    \"__main__\", mod_spec)\n",
    "  File \"c:\\users\\徐俊杰\\appdata\\local\\programs\\python\\python37-32\\lib\\runpy.py\", line 85, in _run_code\n",
    "    exec(code, run_globals)\n",
    "  File \"C:\\Users\\徐俊杰\\AppData\\Local\\Programs\\Python\\Python37-32\\Scripts\\pyinstaller.exe\\__main__.py\", line 9, in <module>\n",
    "  File \"c:\\users\\徐俊杰\\appdata\\local\\programs\\python\\python37-32\\lib\\site-packages\\PyInstaller\\__main__.py\", line 111, in run\n",
    "    run_build(pyi_config, spec_file, **vars(args))\n",
    "  File \"c:\\users\\徐俊杰\\appdata\\local\\programs\\python\\python37-32\\lib\\site-packages\\PyInstaller\\__main__.py\", line 63, in run_build\n",
    "    PyInstaller.building.build_main.main(pyi_config, spec_file, **kwargs)\n",
    "  File \"c:\\users\\徐俊杰\\appdata\\local\\programs\\python\\python37-32\\lib\\site-packages\\PyInstaller\\building\\build_main.py\", line 838, in main\n",
    "    build(specfile, kw.get('distpath'), kw.get('workpath'), kw.get('clean_build'))\n",
    "  File \"c:\\users\\徐俊杰\\appdata\\local\\programs\\python\\python37-32\\lib\\site-packages\\PyInstaller\\building\\build_main.py\", line 783, in build\n",
    "    text = f.read()\n",
    "UnicodeDecodeError: 'gbk' codec can't decode byte 0x84 in position 127: illegal multibyte sequence"
   ]
  },
  {
   "cell_type": "raw",
   "metadata": {},
   "source": [
    " #spec文件中存在中文，去除中文即可\n",
    " #2.找到提示的build_main.py打开并修改，加入utf-8编码。无效  会导致其它问题\n",
    "    with open(spec, 'r',encoding='utf-8') as f:\n",
    "        text = f.read()"
   ]
  },
  {
   "cell_type": "raw",
   "metadata": {},
   "source": [
    " File \"c:\\users\\徐俊杰\\appdata\\local\\programs\\python\\python37-32\\lib\\site-packages\\PyInstaller\\utils\\hooks\\qt.py\", line 117, in qt_plugins_dir\n",
    "    \"\"\".format(namespace, \", \".join(paths)))\n",
    "Exception:\n",
    "            Cannot find existing PyQt5 plugin directories\n",
    "            Paths checked: C:/users/Ðì¿¡½Ü/appdata/local/programs/python/python37-32/lib/site-packages/PyQt5/Qt/plugins"
   ]
  },
  {
   "cell_type": "raw",
   "metadata": {},
   "source": [
    "路径问题，修改路径\n",
    "    if namespace == 'PyQt5':\n",
    "        paths = [pyqt5_library_info.location['PluginsPath']]\n",
    "        paths=[paths[0].replace('Ðì¿¡½Ü','徐俊杰')]#加入这段，将乱码变为电脑账户名\n",
    "\n",
    "实际测试后面路径中的文件还是会找不到。无效操作。直接修改账号名为英文了\n",
    "\n",
    "\n",
    "方法二运行报错：\n",
    "    OSError: dlopen() failed to load a library: cairo / cairo-2 / cairo-gobject-2 / cairo.so.2\n",
    "    和\n",
    "      File \"c:\\users\\徐俊杰\\appdata\\local\\programs\\python\\python37-32\\lib\\site-packages\\PyInstaller\\compat.py\", line 370, in exec_command\n",
    "    out = out.decode(encoding)\n",
    "UnicodeDecodeError: 'utf-8' codec can't decode byte 0xd0 in position 22: invalid continuation byte"
   ]
  },
  {
   "cell_type": "raw",
   "metadata": {},
   "source": [
    "尝试：\n",
    "            if encoding:\n",
    "                out = out.decode(encoding)改为 out = out.decode('utf8','ignore')\n",
    "成功\n",
    "\n",
    "又报错：\n",
    "    INFO: Executing - strip C:\\Users\\徐俊杰\\AppData\\Roaming\\pyinstaller\\bincache10_py37_32bit\\api-ms-win-crt-locale-l1-1-0.dll\n",
    "Execution failed: [WinError 2] 系统找不到指定的文件。\n",
    "    \n",
    "但是已经生成exe文件，运行exe文件报错  没找到python37.dll\n",
    "将上述路径bincache10_py37_32bit文件夹中找到python37.dll放到exe文件夹相同目录 解决\n",
    "\n",
    "又报错ModuleNotFoundError: No module named 'encodings'\n",
    "网上了解到的可能的原因 虚拟环境virtualenvwrapper 出现错误。可能是电脑里面安装了python和ancod的原因."
   ]
  }
 ],
 "metadata": {
  "kernelspec": {
   "display_name": "Python 3",
   "language": "python",
   "name": "python3"
  },
  "language_info": {
   "codemirror_mode": {
    "name": "ipython",
    "version": 3
   },
   "file_extension": ".py",
   "mimetype": "text/x-python",
   "name": "python",
   "nbconvert_exporter": "python",
   "pygments_lexer": "ipython3",
   "version": "3.7.0"
  }
 },
 "nbformat": 4,
 "nbformat_minor": 2
}
