{
 "cells": [
  {
   "cell_type": "markdown",
   "metadata": {},
   "source": [
    "# ini文件读取\n",
    "---"
   ]
  },
  {
   "cell_type": "markdown",
   "metadata": {},
   "source": [
    "### 优点：</p>\n",
    "    ini文件的存储格式简单、便于手动修改。适合存储一些变量参数。\n",
    "### 缺点：\n",
    "##### 1.保存的数据都是字符串，bool类型读取后需要转换\n",
    "##### 2.编码问题：\n",
    "    当ini文件重新使用编码UTF-8或者unicode存储后，会在文件开头自动添加字符“\\xff\\xfe”或“\\xef\\xbb\\xbf”（文件中看不到的），导致读取出文件时会碰到如下报错：“ConfigParser.MissingSectionHeaderError: File contains no section headers.”解决方案见下文。\n",
    "    解决方案1：\n",
    "\n",
    "___"
   ]
  },
  {
   "cell_type": "markdown",
   "metadata": {},
   "source": [
    "## 一、ini文件格式"
   ]
  },
  {
   "cell_type": "markdown",
   "metadata": {},
   "source": [
    "<img style=\"float: left;\" src=\"./file/format.jpg\" width=\"25%\">"
   ]
  },
  {
   "cell_type": "markdown",
   "metadata": {},
   "source": [
    "## 二、文件的读取"
   ]
  },
  {
   "cell_type": "markdown",
   "metadata": {},
   "source": [
    "### 解决编码问题的方法思路：\n",
    "#### 解决方案1：\n",
    "        使用txt打开文件，重新保存，编码格式改为asicii。这样程序可以正常读取，但是你打开文档查看是乱码....\n",
    "#### 解决方案2（适用于经常性手动修改ini文件的场景）：\n",
    "        remove_BOM函数读取ini文件，去掉文件开头的无用字符。然后保存为另外一个ascii编码的文件用来读取。\n",
    "        也就是说一个文件可以给使用者来查看与修改。程序读取时将文件另存为ascii编码专门用来读取。这样既能解决显示问题，又能解决读取问题，一举两得。"
   ]
  },
  {
   "cell_type": "code",
   "execution_count": 1,
   "metadata": {},
   "outputs": [],
   "source": [
    "def remove_BOM(config_path):#去掉配置文件开头的BOM字节\n",
    "    content = open(config_path).read()#,encoding='utf-8'\n",
    "    content = re.sub(r\"\\xfe\\xff\",\"\", content)\n",
    "    content = re.sub(r\"\\xff\\xfe\",\"\", content)\n",
    "    content = re.sub(r\"\\xef\\xbb\\xbf\",\"\", content)\n",
    "    open('read.ini', 'w').write(content)\n",
    "\n",
    "def read_config(file='config.ini'):\n",
    "    remove_BOM(file)#去除文件开头字符并另存为read.ini\n",
    "    cfg = ConfigParser()\n",
    "    try:\n",
    "        cfg.read('read.ini')#读取read.ini\n",
    "        n = cfg.get('user', 'name')#读取key中的键值\n",
    "        d = cfg.get('list', 'description')\n",
    "        de = cfg.get('mode', 'demo')\n",
    "        st=cfg.get('mode','chromeState')\n",
    "        if de == 'False':\n",
    "            de = False\n",
    "        else:\n",
    "            de = True\n",
    "        return [n, d, de, st]\n",
    "    except Exception as e:\n",
    "        #print(e)\n",
    "        raise Exception(\"\\033[0;31;mRead false! Please check file config.ini !\\033[0;30;m\")"
   ]
  },
  {
   "cell_type": "markdown",
   "metadata": {},
   "source": [
    "## 写文件 "
   ]
  },
  {
   "cell_type": "code",
   "execution_count": 2,
   "metadata": {},
   "outputs": [],
   "source": [
    "\n",
    "import configparser\n",
    "\n",
    "config = configparser.ConfigParser()\n",
    "config['DEFAULT'] = {'ServerAliveInterval': '45',\n",
    "                    'Compression': 'yes',\n",
    "                    'Compression': 'yes',\n",
    "                    'CompressionLevel': '9'}\n",
    "config['bitbucket.org'] = {}\n",
    "config['bitbucket.org']['User'] = 'hg'\n",
    "config['topsecret.server.com'] = {}\n",
    "topsecret = config['topsecret.server.com']\n",
    "topsecret['Port'] = '50022'     # mutates the parser\n",
    "topsecret['ForwardX11'] = 'no'  # same here\n",
    "config['DEFAULT']['ForwardX11'] = 'yes'\n",
    "with open('configTest.ini', 'w') as configfile:\n",
    "    config.write(configfile)"
   ]
  }
 ],
 "metadata": {
  "kernelspec": {
   "display_name": "Python 3",
   "language": "python",
   "name": "python3"
  },
  "language_info": {
   "codemirror_mode": {
    "name": "ipython",
    "version": 3
   },
   "file_extension": ".py",
   "mimetype": "text/x-python",
   "name": "python",
   "nbconvert_exporter": "python",
   "pygments_lexer": "ipython3",
   "version": "3.7.0"
  }
 },
 "nbformat": 4,
 "nbformat_minor": 2
}
