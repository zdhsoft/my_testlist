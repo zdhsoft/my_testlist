{
 "cells": [
  {
   "cell_type": "markdown",
   "metadata": {},
   "source": [
    "print的常用功能"
   ]
  },
  {
   "cell_type": "code",
   "execution_count": 5,
   "metadata": {},
   "outputs": [
    {
     "name": "stdout",
     "output_type": "stream",
     "text": [
      "\u001b[0;31;m失败\u001b[0;30;m\n"
     ]
    }
   ],
   "source": [
    "#改变字体颜色，在jupyter notebook中没有效果。。\n",
    "print(\"\\033[0;31;m失败\\033[0;30;m\")"
   ]
  },
  {
   "cell_type": "markdown",
   "metadata": {},
   "source": [
    "\\033[背景色;前景色;m<p>\n",
    "前景色：30黑色，31红色，32绿色"
   ]
  },
  {
   "cell_type": "code",
   "execution_count": null,
   "metadata": {},
   "outputs": [],
   "source": [
    "print(\"你好\",end='')\n",
    "print(\"我不好\")\n",
    "\n",
    "#输出： 你好我不好"
   ]
  },
  {
   "cell_type": "markdown",
   "metadata": {},
   "source": [
    "将打印出的文本存放到文件中"
   ]
  },
  {
   "cell_type": "code",
   "execution_count": 1,
   "metadata": {},
   "outputs": [],
   "source": [
    "\n",
    "import sys\n",
    "import os\n",
    " \n",
    "class Logger(object):\n",
    "    def __init__(self, filename=\"Default.log\"):\n",
    "        self.terminal = sys.stdout\n",
    "        self.log = open(filename, \"a\")\n",
    " \n",
    "    def write(self, message):\n",
    "        self.terminal.write(message)\n",
    "        self.log.write(message)\n",
    " \n",
    "    def flush(self):\n",
    "        pass\n",
    "#取消注释\n",
    "#path = os.path.abspath(os.path.dirname(__file__))\n",
    "#type = sys.getfilesystemencoding()\n",
    "#sys.stdout = Logger('a.txt')\n",
    " \n",
    "#print(path)\n",
    "#print(os.path.dirname(__file__))"
   ]
  },
  {
   "cell_type": "markdown",
   "metadata": {},
   "source": [
    "在同一行显示加载进度。 （如果纯文本貌似没办法在同一行刷新）"
   ]
  },
  {
   "cell_type": "code",
   "execution_count": null,
   "metadata": {},
   "outputs": [],
   "source": [
    "import time\n",
    "for i in range(19):\n",
    "    print('\\rCompleted {}%'.format(i), end=\"\")\n",
    "    time.sleep(0.5)"
   ]
  }
 ],
 "metadata": {
  "kernelspec": {
   "display_name": "Python 3",
   "language": "python",
   "name": "python3"
  },
  "language_info": {
   "codemirror_mode": {
    "name": "ipython",
    "version": 3
   },
   "file_extension": ".py",
   "mimetype": "text/x-python",
   "name": "python",
   "nbconvert_exporter": "python",
   "pygments_lexer": "ipython3",
   "version": "3.7.0"
  }
 },
 "nbformat": 4,
 "nbformat_minor": 2
}
