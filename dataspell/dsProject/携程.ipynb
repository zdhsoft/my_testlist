{
 "cells": [
  {
   "cell_type": "markdown",
   "metadata": {
    "raw_mimetype": "-"
   },
   "source": [
    "# 携程"
   ]
  },
  {
   "cell_type": "code",
   "execution_count": 11,
   "metadata": {},
   "outputs": [
    {
     "name": "stdout",
     "output_type": "stream",
     "text": [
      "111 a is start\n",
      "222 b is star\n",
      "333 a is start\n"
     ]
    }
   ],
   "source": [
    "import greenlet\n",
    "def a(t):\n",
    "    print('111',t)\n",
    "    b1.switch('b is star')\n",
    "    print('333',t)#这里不再更改参数t，还是原先的值 a is start\n",
    "\n",
    "def b(t):\n",
    "    print('222',t)\n",
    "    a1.switch('return to a')#返回a函数，参数不再被接收\n",
    "    \n",
    "\n",
    "a1=greenlet.greenlet(a)\n",
    "b1=greenlet.greenlet(b)\n",
    "a1.switch('a is start')"
   ]
  },
  {
   "cell_type": "markdown",
   "metadata": {},
   "source": [
    "## 查看携程是否结束"
   ]
  },
  {
   "cell_type": "code",
   "execution_count": 17,
   "metadata": {},
   "outputs": [
    {
     "name": "stdout",
     "output_type": "stream",
     "text": [
      "111 a is start\n",
      "222 b is star\n",
      "a is end\n",
      "a1 die: True\n",
      "b1 die: False\n"
     ]
    }
   ],
   "source": [
    "import greenlet\n",
    "def a(t):\n",
    "    print('111',t)\n",
    "    b1.switch('b is star')\n",
    "    print('a is end')\n",
    "\n",
    "def b(t):\n",
    "    print('222',t)\n",
    "    a1.switch()#返回a函数，参数不再被接收\n",
    "    print('b1 is end')\n",
    "    \n",
    "\n",
    "a1=greenlet.greenlet(a)\n",
    "b1=greenlet.greenlet(b)\n",
    "a1.switch('a is start')\n",
    "print('a1 die:',a1.dead)\n",
    "print('b1 die:',b1.dead)#a函数中没有在最后调用 b1.switch()，所有b1没有执行结束"
   ]
  },
  {
   "cell_type": "markdown",
   "metadata": {},
   "source": [
    "综上，参数只能在第一次调用switch时传入，后面再调用switch无法传入参数"
   ]
  }
 ],
 "metadata": {
  "kernelspec": {
   "display_name": "Python 3",
   "language": "python",
   "name": "python3"
  },
  "language_info": {
   "codemirror_mode": {
    "name": "ipython",
    "version": 3
   },
   "file_extension": ".py",
   "mimetype": "text/x-python",
   "name": "python",
   "nbconvert_exporter": "python",
   "pygments_lexer": "ipython3",
   "version": "3.7.0"
  }
 },
 "nbformat": 4,
 "nbformat_minor": 2
}
