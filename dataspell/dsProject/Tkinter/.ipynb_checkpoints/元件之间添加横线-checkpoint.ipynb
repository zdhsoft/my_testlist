{
 "cells": [
  {
   "cell_type": "markdown",
   "metadata": {},
   "source": [
    "元件之间添加横线"
   ]
  },
  {
   "cell_type": "code",
   "execution_count": null,
   "metadata": {},
   "outputs": [],
   "source": [
    "from tkinter import *\n",
    "Label(text=\"天王盖地虎\").pack()\n",
    "separator = Frame(height=2, bd=1,relief=SUNKEN)\n",
    "separator.pack(fill=X, padx=5, pady=5)\n",
    "Label(text=\"小鸡炖蘑菇\").pack()\n",
    "mainloop()"
   ]
  }
 ],
 "metadata": {
  "kernelspec": {
   "display_name": "Python 3",
   "language": "python",
   "name": "python3"
  },
  "language_info": {
   "codemirror_mode": {
    "name": "ipython",
    "version": 3
   },
   "file_extension": ".py",
   "mimetype": "text/x-python",
   "name": "python",
   "nbconvert_exporter": "python",
   "pygments_lexer": "ipython3",
   "version": "3.7.0"
  }
 },
 "nbformat": 4,
 "nbformat_minor": 2
}
