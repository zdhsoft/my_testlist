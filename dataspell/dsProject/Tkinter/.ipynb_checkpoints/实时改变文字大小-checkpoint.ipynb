{
 "cells": [
  {
   "cell_type": "code",
   "execution_count": null,
   "metadata": {},
   "outputs": [],
   "source": [
    "#coding:utf-8\n",
    "#GUI界面编程\n",
    "from tkinter import *  #控件基础包，导入这个包后，这个包下的所有函数可以直接调用\n",
    "import tkinter\n",
    "from tkinter import Label, Button, END\n",
    "from tkinter.tix import Tk, Control, ComboBox  #升级的组合控件包\n",
    "from tkinter.messagebox import showinfo, showwarning, showerror #各种类型的提示框\n",
    "#除此之外还有很多界面编程的包\n",
    "\n",
    "#顶层窗口\n",
    "top = tkinter.Tk()  #创建顶层窗口\n",
    "top.geometry('250x150')  #初始化窗口大小\n",
    "top.title(\"标题\")\n",
    "top.tk.eval('package require Tix')  #引入升级包，这样才能使用升级的组合控件\n",
    "\n",
    "\n",
    "#标签控件\n",
    "label = tkinter.Label(top, text='Hello World!',font='Helvetica -12 bold')   #创建标签\n",
    "label.pack(fill=Y, expand=1)  #填充到界面\n",
    "\n",
    "#按钮控件\n",
    "button = tkinter.Button(top, text='QUIT',command=top.quit,activeforeground='white',activebackground='red', bg='red', fg='white')  #创建按钮，command为回调函数\n",
    "button.pack(fill=tkinter.X, expand=1) #fill=tkinter.X表示横向拉伸完全\n",
    "\n",
    "\n",
    "#自定义函数，控制控件的缩放\n",
    "def resize(ev=None):\n",
    "    label.config(font='Helvetica -%d bold' % scale.get())\n",
    "\n",
    "#比例尺控件\n",
    "scale = Scale(top, from_=10, to=40,orient=HORIZONTAL, command=resize)  #缩放比例尺\n",
    "scale.set(12)  #初始值\n",
    "scale.pack(fill=X, expand=1)  #填充到界面\n",
    "\n",
    "#NumericUpDown控件\n",
    "ct = Control(top, label='Number:',integer=True, max=12, min=2, value=2, step=2)\n",
    "ct.label.config(font='Helvetica -14 bold')\n",
    "ct.pack()\n",
    "\n",
    "#ComboBox控件\n",
    "cb = ComboBox(top, label='Type:', editable=True)\n",
    "for animal in ('dog', 'cat', 'hamster', 'python'):\n",
    "    cb.insert(END, animal)\n",
    "cb.pack()\n",
    "\n",
    "\n",
    "tkinter.mainloop()  #运行这个GUI应用"
   ]
  }
 ],
 "metadata": {
  "kernelspec": {
   "display_name": "Python 3",
   "language": "python",
   "name": "python3"
  },
  "language_info": {
   "codemirror_mode": {
    "name": "ipython",
    "version": 3
   },
   "file_extension": ".py",
   "mimetype": "text/x-python",
   "name": "python",
   "nbconvert_exporter": "python",
   "pygments_lexer": "ipython3",
   "version": "3.7.0"
  }
 },
 "nbformat": 4,
 "nbformat_minor": 2
}
