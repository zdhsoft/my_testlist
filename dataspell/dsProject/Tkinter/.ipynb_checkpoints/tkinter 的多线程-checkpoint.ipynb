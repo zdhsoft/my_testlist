{
 "cells": [
  {
   "cell_type": "markdown",
   "metadata": {},
   "source": [
    "tkinter 的多线程"
   ]
  },
  {
   "cell_type": "markdown",
   "metadata": {},
   "source": [
    "#!/usr/bin/env python\n",
    "# -*- coding:utf-8 -*-\n",
    "#author:June_xu\n",
    "\n",
    "# coding:utf-8\n",
    "from tkinter import *\n",
    "from tkinter import ttk\n",
    "from tkinter import scrolledtext\n",
    "#from ScrolledText import ScrolledText  # 文本滚动条\n",
    "import threading\n",
    "import time\n",
    "from PIL import ImageTk, Image\n",
    "\n",
    "\n",
    "def count(i):\n",
    "    for k in range(1, 100 + 1):\n",
    "        text.insert(END, '第' + str(i) + '线程count:  ' + str(k) + '\\n')\n",
    "        time.sleep(0.001)\n",
    "\n",
    "\n",
    "def fun():\n",
    "    for i in range(1, 5 + 1):\n",
    "        th = threading.Thread(target=count, args=(i,))\n",
    "        th.setDaemon(True)  # 守护线程\n",
    "        th.start()\n",
    "    var.set('MDZZ')\n",
    "\n",
    "\n",
    "root = Tk()\n",
    "root.title('九日王朝')  # 窗口标题\n",
    "root.geometry('+600+100')  # 窗口呈现位置\n",
    "#image2 = Image.open(r'ParticleSmoke.png')\n",
    "#background_image = ImageTk.PhotoImage(image2)\n",
    "#textlabel = Label(root, image=background_image)\n",
    "#textlabel.grid()\n",
    "text =scrolledtext.ScrolledText(root, font=('微软雅黑', 10), fg='blue')\n",
    "text.grid()\n",
    "button = Button(root, text='屠龙宝刀 点击就送', font=('微软雅黑', 10), command=fun)\n",
    "button.grid()\n",
    "var = StringVar()  # 设置变量\n",
    "label = Label(root, font=('微软雅黑', 10), fg='red', textvariable=var)\n",
    "label.grid()\n",
    "var.set('我不断的洗澡，油腻的师姐在哪里')\n",
    "root.mainloop()"
   ]
  }
 ],
 "metadata": {
  "kernelspec": {
   "display_name": "Python 3",
   "language": "python",
   "name": "python3"
  },
  "language_info": {
   "codemirror_mode": {
    "name": "ipython",
    "version": 3
   },
   "file_extension": ".py",
   "mimetype": "text/x-python",
   "name": "python",
   "nbconvert_exporter": "python",
   "pygments_lexer": "ipython3",
   "version": "3.7.0"
  }
 },
 "nbformat": 4,
 "nbformat_minor": 2
}
