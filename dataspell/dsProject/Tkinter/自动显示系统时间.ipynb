{
 "cells": [
  {
   "cell_type": "markdown",
   "metadata": {},
   "source": [
    "自动显示系统时间"
   ]
  },
  {
   "cell_type": "code",
   "execution_count": 1,
   "metadata": {},
   "outputs": [],
   "source": [
    "#!/usr/bin/env python\n",
    "# -*- coding:utf-8 -*-\n",
    "#author:June_xu\n",
    "import sys\n",
    "from tkinter import *\n",
    "import time\n",
    "def tick():\n",
    "    global time1\n",
    "    # 从运行程序的计算机上面获取当前的系统时间\n",
    "    time2 = time.strftime('%H:%M:%S')\n",
    "    # 如果时间发生变化，代码自动更新显示的系统时间\n",
    "    if time2 != time1:\n",
    "        time1 = time2\n",
    "        clock.config(text=time2)\n",
    "        # calls itself every 200 milliseconds\n",
    "        # to update the time display as needed\n",
    "        # could use >200 ms, but display gets jerky\n",
    "    clock.after(200, tick)\n",
    "root = Tk()\n",
    "time1 = ''\n",
    "status = Label(root, text=\"v1.0\", bd=1, relief=SUNKEN, anchor=W)\n",
    "status.grid(row=0, column=0)\n",
    "clock = Label(root, font=('times', 20, 'bold'), bg='green')\n",
    "clock.grid(row=0, column=1)\n",
    "tick()\n",
    "root.mainloop()\n"
   ]
  },
  {
   "cell_type": "code",
   "execution_count": null,
   "metadata": {},
   "outputs": [],
   "source": []
  }
 ],
 "metadata": {
  "kernelspec": {
   "display_name": "Python 3",
   "language": "python",
   "name": "python3"
  },
  "language_info": {
   "codemirror_mode": {
    "name": "ipython",
    "version": 3
   },
   "file_extension": ".py",
   "mimetype": "text/x-python",
   "name": "python",
   "nbconvert_exporter": "python",
   "pygments_lexer": "ipython3",
   "version": "3.7.0"
  }
 },
 "nbformat": 4,
 "nbformat_minor": 2
}
