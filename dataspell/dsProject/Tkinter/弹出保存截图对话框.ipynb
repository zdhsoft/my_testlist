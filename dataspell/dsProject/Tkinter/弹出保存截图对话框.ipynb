{
 "cells": [
  {
   "cell_type": "code",
   "execution_count": null,
   "metadata": {},
   "outputs": [],
   "source": [
    "#弹出保存截图对话框\n",
    "fileName = -tkinter.filedialog.asksaveasfilename(title='保存截图', filetypes=[('image','*.jpg'),( 'PNG','*.png')])\n",
    "if fileName:\n",
    "    pic.save(fileName)"
   ]
  }
 ],
 "metadata": {
  "kernelspec": {
   "display_name": "Python 3",
   "language": "python",
   "name": "python3"
  },
  "language_info": {
   "codemirror_mode": {
    "name": "ipython",
    "version": 3
   },
   "file_extension": ".py",
   "mimetype": "text/x-python",
   "name": "python",
   "nbconvert_exporter": "python",
   "pygments_lexer": "ipython3",
   "version": "3.7.0"
  }
 },
 "nbformat": 4,
 "nbformat_minor": 2
}
