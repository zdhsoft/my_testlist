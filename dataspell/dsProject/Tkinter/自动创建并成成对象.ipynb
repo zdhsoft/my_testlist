{
 "cells": [
  {
   "cell_type": "code",
   "execution_count": 6,
   "metadata": {},
   "outputs": [],
   "source": [
    "import tkinter\n",
    "class biaoge():\n",
    "    def __init__(self,maxr,maxc):\n",
    "        self.maxr=maxr#行数\n",
    "        self.maxc=maxc#列数\n",
    "        #一、通过locals方法自动生成变量名，这里先声明使用方法\n",
    "        self.textList=locals()\n",
    "    def autoCreat_Text(self):\n",
    "        for r in range(self.maxr):\n",
    "            for c in range(self.maxc):\n",
    "                index = str(r) + str(c)\n",
    "                name=\"text\"+index\n",
    "                #二、通过在textList中填写文本来生成变量\n",
    "                self.textList[name]=tkinter.Text(root, width=10, height=2)\n",
    "                self.textList[name].grid(row=r, column=c)"
   ]
  },
  {
   "cell_type": "code",
   "execution_count": 8,
   "metadata": {},
   "outputs": [],
   "source": [
    "root = tkinter.Tk()\n",
    "a=biaoge(3,6)\n",
    "a.autoCreat_Text()\n",
    "textList=a.textList\n",
    "nameList=[\"name\" ,\"phone\",\"email\",\"homeAdess\",\"class\",\"love\",\"sex\",\"object\",\"score\"]\n",
    "nL=iter(nameList)#生成迭代器\n",
    "#在文本框中插入内容\n",
    "for r in range(3):\n",
    "    for c in range(6):\n",
    "        if c%2 ==0:\n",
    "            index = str(r) + str(c)\n",
    "            name = \"text\" + index\n",
    "            #三、通过文本方法调用textList中的变量，方便快捷\n",
    "            textList[name].insert(\"end\",nL.__next__())\n",
    "            textList[name].configure(state='disabled',bg=\"Gainsboro\")\n",
    "        else:\n",
    "            pass#这里可以输入值\n",
    "\n",
    "\n",
    "\n",
    "root.mainloop()"
   ]
  },
  {
   "attachments": {
    "2.PNG": {
     "image/png": "[encoded data removed]"
    }
   },
   "cell_type": "markdown",
   "metadata": {},
   "source": [
    "效果：![2.PNG](attachment:2.PNG)"
   ]
  },
  {
   "cell_type": "markdown",
   "metadata": {},
   "source": [
    "### 以前思考过的方法\n",
    "vars（）[\"text\"]"
   ]
  },
  {
   "cell_type": "code",
   "execution_count": null,
   "metadata": {},
   "outputs": [],
   "source": [
    "class Button:\n",
    "    def __init__(self):\n",
    "        pass\n",
    "    def creatbut(self,farther,name,textname,x=0,y=0,event=None):\n",
    "        if event==None:\n",
    "            def cheat():\n",
    "                pass\n",
    "            enent=cheat()\n",
    "        vars()[name] = ttk.Button(farther, text=textname, command=lambda: event)\n",
    "        vars()[name].grid(row=x, column=y)\n",
    "        self.but = vars()[name]#通过but作为按钮名可以增加其它设置\n"
   ]
  },
  {
   "cell_type": "markdown",
   "metadata": {},
   "source": [
    "### 总结：\n",
    "vars()[name]在def或者class中使用后，外部无法直接使用，如果使用self.vars()[name]会报错。还需要专门使用一共变量来引用，如上面的self.but。\n",
    "所以如果只是简单的小程序，不适用def和class的情况下用vars()[name]创建对象，也能像locals()一样的方法使用。"
   ]
  },
  {
   "cell_type": "code",
   "execution_count": null,
   "metadata": {},
   "outputs": [],
   "source": []
  }
 ],
 "metadata": {
  "kernelspec": {
   "display_name": "Python 3",
   "language": "python",
   "name": "python3"
  },
  "language_info": {
   "codemirror_mode": {
    "name": "ipython",
    "version": 3
   },
   "file_extension": ".py",
   "mimetype": "text/x-python",
   "name": "python",
   "nbconvert_exporter": "python",
   "pygments_lexer": "ipython3",
   "version": "3.7.0"
  }
 },
 "nbformat": 4,
 "nbformat_minor": 2
}
