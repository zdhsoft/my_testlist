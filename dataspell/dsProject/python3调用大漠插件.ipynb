{
 "cells": [
  {
   "cell_type": "markdown",
   "metadata": {},
   "source": [
    "python3 调用大漠插件"
   ]
  },
  {
   "attachments": {
    "%E5%B0%86%E5%A4%A7%E6%BC%A0%E6%8F%92%E4%BB%B6%E6%B3%A8%E5%86%8C%E5%88%B0%E7%B3%BB%E7%BB%9F%E4%B8%AD.PNG": {
     "image/png": "[encoded data removed]"
    }
   },
   "cell_type": "markdown",
   "metadata": {},
   "source": [
    "    第一步将大漠插件注册到系统中，需要以管理员身份运行cmd，然后输入 regsvr32 dm.dll的路径。 如regsvr32 D:\\design\\python工具包\\大漠工具17年版免注册\\dm.dll\n",
    "![%E5%B0%86%E5%A4%A7%E6%BC%A0%E6%8F%92%E4%BB%B6%E6%B3%A8%E5%86%8C%E5%88%B0%E7%B3%BB%E7%BB%9F%E4%B8%AD.PNG](attachment:%E5%B0%86%E5%A4%A7%E6%BC%A0%E6%8F%92%E4%BB%B6%E6%B3%A8%E5%86%8C%E5%88%B0%E7%B3%BB%E7%BB%9F%E4%B8%AD.PNG)\n"
   ]
  },
  {
   "cell_type": "code",
   "execution_count": null,
   "metadata": {},
   "outputs": [],
   "source": [
    "import win32com.client\n",
    "dm = win32com.client.Dispatch('dm.dmsoft')  #调用大漠插件\n",
    "#下面这个是添加注册码，可以使用vip函数，没有注册码可以删除\n",
    "'''\n",
    "register_result=dm.reg('a712372688fa03bab9566470b2e4a5e9363a569924',\"woyun741\")\n",
    "if register_result !=1:\n",
    "    print(\"注册失败\",register_result)\n",
    "else:\n",
    "    print(\"注册成功\",dm.ver())#输出版本号\n",
    "'''\n",
    "print(dm.ver())#输出版本号\n",
    "\n",
    "dm.MoveTo(1674, 648)#鼠标移动\n",
    "dm.LeftClick()#点击"
   ]
  },
  {
   "cell_type": "markdown",
   "metadata": {},
   "source": [
    "# 卸载大漠插件\n",
    "    regsvr32 dm.dll /u"
   ]
  }
 ],
 "metadata": {
  "kernelspec": {
   "display_name": "Python 3",
   "language": "python",
   "name": "python3"
  },
  "language_info": {
   "codemirror_mode": {
    "name": "ipython",
    "version": 3
   },
   "file_extension": ".py",
   "mimetype": "text/x-python",
   "name": "python",
   "nbconvert_exporter": "python",
   "pygments_lexer": "ipython3",
   "version": "3.7.0"
  }
 },
 "nbformat": 4,
 "nbformat_minor": 2
}
