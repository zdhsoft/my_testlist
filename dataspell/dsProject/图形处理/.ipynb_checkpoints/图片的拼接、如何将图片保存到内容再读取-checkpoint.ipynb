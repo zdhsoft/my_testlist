{
 "cells": [
  {
   "cell_type": "markdown",
   "metadata": {
    "pycharm": {
     "name": "#%% md\n"
    }
   },
   "source": [
    "主要功能：\n",
    "1.手机屏幕截图\n",
    "2.格式化图片转存到内存中，并读取\n",
    "3.基于PIL模块的图形拼接与保存"
   ]
  },
  {
   "cell_type": "code",
   "execution_count": null,
   "metadata": {
    "pycharm": {
     "name": "#%%\n"
    }
   },
   "outputs": [],
   "source": [
    "import time\n",
    "import requests\n",
    "import subprocess\n",
    "from io import BytesIO\n",
    "from PIL import Image\n",
    "from aip import AipOcr\n",
    "def get_screenshot():\n",
    "    \"手机截图\"\n",
    "    process = subprocess.Popen(\"adb shell screencap -o\",shell=True,stdout=subprocess.PIPE)\n",
    "   #获取图片二进制内容\n",
    "    screenshot = process.stdout.read()\n",
    "    #格式化，使安卓和windows可以读取\n",
    "    screenshot = screenshot.replace(b'\\r\\r\\n',b'\\n')\n",
    "    #保存成图片并打开，因为io会降低速度所以不用\n",
    "    # with open('test.png','wb') as f:\n",
    "    #     f.write(screenshot.getvalue())\n",
    "\n",
    "    #把图片存储到内存，运行会快一些\n",
    "    img_fb = BytesIO()\n",
    "    img_fb.write(screenshot)\n",
    "    #图片处理\n",
    "    img =Image.open(img_fb)\n",
    "    #切出不需要内容\n",
    "    title_img = img.crop((80,500,1000,280))\n",
    "    #切出答案\n",
    "    answers_img = img.crop((80,960,1000,1720))\n",
    "    #图片拼接\n",
    "    new_img= Image.new('RGBA',(920,1140))#新建空白图片\n",
    "    new_img.paste(title_img,(0,0,920,380))#粘贴题目\n",
    "    new_img.paste(answers_img,(0,380,920,1140))#粘贴答案\n",
    "    #内存对象\n",
    "    new_img_fb = BytesIO()\n",
    "    new_img.save(new_img_fb,'png')\n",
    "    # with open('test.png','wb') as f:\n",
    "    #     f.write(new_img_fb.getvalue())\n",
    "    return new_img_fb"
   ]
  }
 ],
 "metadata": {
  "kernelspec": {
   "display_name": "Python 3",
   "language": "python",
   "name": "python3"
  },
  "language_info": {
   "codemirror_mode": {
    "name": "ipython",
    "version": 3
   },
   "file_extension": ".py",
   "mimetype": "text/x-python",
   "name": "python",
   "nbconvert_exporter": "python",
   "pygments_lexer": "ipython3",
   "version": "3.7.0"
  }
 },
 "nbformat": 4,
 "nbformat_minor": 2
}