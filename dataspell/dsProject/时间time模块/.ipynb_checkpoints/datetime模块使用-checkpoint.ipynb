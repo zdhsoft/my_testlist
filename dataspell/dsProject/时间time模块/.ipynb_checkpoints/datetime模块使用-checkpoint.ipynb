{
 "cells": [
  {
   "cell_type": "markdown",
   "metadata": {},
   "source": [
    "# datetime模块的常用操作"
   ]
  },
  {
   "cell_type": "markdown",
   "metadata": {},
   "source": [
    "### 1.获取今日时间"
   ]
  },
  {
   "cell_type": "code",
   "execution_count": 3,
   "metadata": {},
   "outputs": [
    {
     "name": "stdout",
     "output_type": "stream",
     "text": [
      "2020-04-04 21:01:06.836682\n"
     ]
    }
   ],
   "source": [
    "import datetime\n",
    "date=datetime.datetime.now()\n",
    "print(date)"
   ]
  },
  {
   "cell_type": "markdown",
   "metadata": {},
   "source": [
    "### 2.把时间转换成年月日组成的元组"
   ]
  },
  {
   "cell_type": "code",
   "execution_count": 4,
   "metadata": {},
   "outputs": [
    {
     "name": "stdout",
     "output_type": "stream",
     "text": [
      "(2020, 14, 6) <class 'tuple'>\n"
     ]
    }
   ],
   "source": [
    "tuple_date=datetime.datetime.isocalendar(date)\n",
    "print(tuple_date,type(tuple_date))"
   ]
  },
  {
   "cell_type": "markdown",
   "metadata": {},
   "source": [
    "### 3.将字符串转化为时间 + 将时间转化为字符串"
   ]
  },
  {
   "cell_type": "code",
   "execution_count": 5,
   "metadata": {},
   "outputs": [
    {
     "name": "stdout",
     "output_type": "stream",
     "text": [
      "2019-03-05 00:00:00 <class 'datetime.datetime'>\n",
      "20200404 <class 'str'>\n"
     ]
    }
   ],
   "source": [
    "#字符串转化为时间\n",
    "str_date=\"20190305\"\n",
    "trans_date=datetime.datetime.strptime(str_date, \"%Y%m%d\")#小时：%H 分钟：%M 秒：%s\n",
    "print(trans_date,type(trans_date))\n",
    "\n",
    "#时间转化为字符串\n",
    "trans_str_date=date.strftime('%Y%m%d')#小时：%H 分钟：%M 秒：%S\n",
    "print(trans_str_date,type(trans_str_date))"
   ]
  },
  {
   "cell_type": "markdown",
   "metadata": {},
   "source": [
    "### 4.时间的计算"
   ]
  },
  {
   "cell_type": "markdown",
   "metadata": {},
   "source": [
    "timedelta参数：year,month,day,huor,minutes"
   ]
  },
  {
   "cell_type": "code",
   "execution_count": 6,
   "metadata": {},
   "outputs": [
    {
     "name": "stdout",
     "output_type": "stream",
     "text": [
      "2020-04-05 21:01:06.836682\n"
     ]
    }
   ],
   "source": [
    "#时间的加减\n",
    "endDate=date+datetime.timedelta(days=1)#增加一天时间。里面还是年月日等可选参数\n",
    "print(endDate)"
   ]
  },
  {
   "cell_type": "code",
   "execution_count": 9,
   "metadata": {},
   "outputs": [
    {
     "name": "stdout",
     "output_type": "stream",
     "text": [
      "2020-04-04 21:11:24.688629\n"
     ]
    }
   ],
   "source": [
    "date=datetime.datetime.now()\n",
    "endDate=date+datetime.timedelta(minutes=10)#增加一天时间。里面还是年月日等可选参数\n",
    "print(endDate)"
   ]
  },
  {
   "cell_type": "markdown",
   "metadata": {},
   "source": [
    "### 5.单个获取年月日星期"
   ]
  },
  {
   "cell_type": "code",
   "execution_count": null,
   "metadata": {},
   "outputs": [],
   "source": [
    "d=date.date()#返回年月日\n",
    "print(\"date.date():\",d)\n",
    "print(\"不会影响时间的计算\",d+datetime.timedelta(days=1))\n",
    "\n",
    "t=date.time()#返回几点几分几秒\n",
    "print(\"date.time():\",t)\n",
    "\n",
    "y=date.year\n",
    "d=date.day\n",
    "m=date.month\n",
    "h=date.hour\n",
    "s=date.second\n",
    "print(\"year,momth,day,hour,second:\",[y,m,d,h,s])\n",
    "\n",
    "w=date.weekday()#返回0~6代表周一到周日,\n",
    "iw=date.isoweekday()#返回1~7表周一到周日\n",
    "print(\"星期:\",[w,iw])"
   ]
  },
  {
   "cell_type": "markdown",
   "metadata": {},
   "source": [
    "### 6.将单独的年、月、日组合起来"
   ]
  },
  {
   "cell_type": "code",
   "execution_count": null,
   "metadata": {},
   "outputs": [],
   "source": [
    "year,month,day,hour,minute=2019,4,5,18,22\n",
    "print(year,type(year))\n",
    "getday=datetime.date(year,month,day).strftime('%Y%m%d')#无法添加小时及以下的内容\n",
    "getday2=datetime.datetime(year,month,day,hour,minute).strftime('%Y%m%d %H:%M')\n",
    "print(getday,type(getday))\n",
    "print(getday2,type(getday2))"
   ]
  },
  {
   "cell_type": "code",
   "execution_count": null,
   "metadata": {},
   "outputs": [],
   "source": [
    "year,month,day='2019',4,5\n",
    "datetime.date(year,month,day)"
   ]
  },
  {
   "cell_type": "code",
   "execution_count": null,
   "metadata": {},
   "outputs": [],
   "source": []
  }
 ],
 "metadata": {
  "anaconda-cloud": {},
  "kernelspec": {
   "display_name": "Python 3",
   "language": "python",
   "name": "python3"
  },
  "language_info": {
   "codemirror_mode": {
    "name": "ipython",
    "version": 3
   },
   "file_extension": ".py",
   "mimetype": "text/x-python",
   "name": "python",
   "nbconvert_exporter": "python",
   "pygments_lexer": "ipython3",
   "version": "3.7.0"
  }
 },
 "nbformat": 4,
 "nbformat_minor": 2
}
