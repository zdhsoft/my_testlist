{
 "cells": [
  {
   "cell_type": "markdown",
   "metadata": {},
   "source": [
    "# 时间字符格式"
   ]
  },
  {
   "cell_type": "markdown",
   "metadata": {},
   "source": [
    "%a  本地（locale）简化星期名称\t \n",
    "%A\t本地完整星期名称\t \n",
    "%b\t本地简化月份名称\t \n",
    "%B\t本地完整月份名称\t \n",
    "%c\t本地相应的日期和时间表示\t \n",
    "%d\t一个月中的第几天（01 - 31）\t \n",
    "%H\t一天中的第几个小时（24小时制，00 - 23）\t \n",
    "%I\t第几个小时（12小时制，01 - 12）\t \n",
    "%j\t一年中的第几天（001 - 366）\t \n",
    "%m\t月份（01 - 12）\t \n",
    "%M\t分钟数（00 - 59）\t \n",
    "%p\t本地am或者pm的相应符\t\n",
    "%S\t秒（01 - 61）\t\n",
    "%U\t一年中的星期数。（00 - 53星期天是一个星期的开始。）第一个星期天之前的所有天数都放在第0周。\t\n",
    "%w\t一个星期中的第几天（0 - 6，0是星期天）\t\n",
    "%W\t和%U基本相同，不同的是%W以星期一为一个星期的开始。\t \n",
    "%x\t本地相应日期\t \n",
    "%X\t本地相应时间\t \n",
    "%y\t去掉世纪的年份（00 - 99）\t \n",
    "%Y\t完整的年份\t \n",
    "%Z\t时区的名字（如果不存在为空字符）\t \n",
    "%%\t‘%’字符"
   ]
  },
  {
   "cell_type": "code",
   "execution_count": 1,
   "metadata": {},
   "outputs": [
    {
     "name": "stdout",
     "output_type": "stream",
     "text": [
      "('2019', '11', '06', 45)\n"
     ]
    }
   ],
   "source": [
    "#例子：获取年月日\n",
    "import time\n",
    "def getDateAndWeek(str=False):\n",
    "    year=time.strftime(\"%Y\")\n",
    "    month=time.strftime(\"%m\")\n",
    "    day=time.strftime(\"%d\")\n",
    "    week=int(time.strftime(\"%W\"))+1\n",
    "    #date=\"%s年WW%s周\"%(year,week)\n",
    "    if str==False:\n",
    "        return year,month,day,week\n",
    "    else:\n",
    "        date=\"%s年第%s周\"%(year,week)\n",
    "        return date\n",
    "date=getDateAndWeek()\n",
    "print(date)"
   ]
  }
 ],
 "metadata": {
  "kernelspec": {
   "display_name": "Python 3",
   "language": "python",
   "name": "python3"
  },
  "language_info": {
   "codemirror_mode": {
    "name": "ipython",
    "version": 3
   },
   "file_extension": ".py",
   "mimetype": "text/x-python",
   "name": "python",
   "nbconvert_exporter": "python",
   "pygments_lexer": "ipython3",
   "version": "3.7.0"
  }
 },
 "nbformat": 4,
 "nbformat_minor": 2
}
