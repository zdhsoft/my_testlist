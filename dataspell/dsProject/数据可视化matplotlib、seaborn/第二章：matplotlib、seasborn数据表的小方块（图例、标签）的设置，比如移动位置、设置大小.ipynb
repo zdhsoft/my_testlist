{
 "cells": [
  {
   "cell_type": "markdown",
   "metadata": {},
   "source": [
    "# 图例的相关参数\n",
    "*legend(x, y = NULL, legend, fill = NULL, col = par(\"col\"),\n",
    "\n",
    "         border =\"black\", lty, lwd, pch,\n",
    "\n",
    "         angle = 45,density = NULL, bty = \"o\", bg = par(\"bg\"),\n",
    "\n",
    "         box.lwd = par(\"lwd\"),box.lty = par(\"lty\"), box.col = par(\"fg\"),\n",
    "\n",
    "         pt.bg = NA, cex =1, pt.cex = cex, pt.lwd = lwd,\n",
    "\n",
    "         xjust = 0, yjust= 1, x.intersp = 1, y.intersp = 1,\n",
    "\n",
    "         adj = c(0, 0.5),text.width = NULL, text.col = par(\"col\"),\n",
    "\n",
    "         text.font = NULL,merge = do.lines && has.pch, trace = FALSE,\n",
    "\n",
    "         plot = TRUE, ncol= 1, horiz = FALSE, title = NULL,\n",
    "\n",
    "         inset = 0, xpd,title.col = text.col, title.adj = 0.5,\n",
    "\n",
    "         seg.len = 2)\n",
    "* 参考文档：https://blog.csdn.net/zhangqilong120/article/details/72633115\n",
    "* 参考文档：https://blog.csdn.net/yzxnuaa/article/details/79550665"
   ]
  },
  {
   "cell_type": "code",
   "execution_count": null,
   "metadata": {},
   "outputs": [],
   "source": [
    "import pandas as pd\n",
    "\n",
    "file_path=r'D:\\design\\python\\考试成绩可视化2\\员工综合素质评价表.xlsx'\n",
    "#xlsx_to_csv_pd(file_path)#读取csv文件\n",
    "#------------------------------------------------------------------\n",
    "#如果直接读xlsx文件，需要要指定工作表名称\n",
    "csv=pd.read_excel(file_path,sheet_name='新版综合评价')"
   ]
  }
 ],
 "metadata": {
  "kernelspec": {
   "display_name": "Python 3",
   "language": "python",
   "name": "python3"
  },
  "language_info": {
   "codemirror_mode": {
    "name": "ipython",
    "version": 3
   },
   "file_extension": ".py",
   "mimetype": "text/x-python",
   "name": "python",
   "nbconvert_exporter": "python",
   "pygments_lexer": "ipython3",
   "version": "3.7.0"
  }
 },
 "nbformat": 4,
 "nbformat_minor": 2
}
