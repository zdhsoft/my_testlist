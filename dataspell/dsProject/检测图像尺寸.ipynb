{
 "cells": [
  {
   "cell_type": "markdown",
   "metadata": {},
   "source": [
    "检测图像尺寸"
   ]
  },
  {
   "cell_type": "code",
   "execution_count": 2,
   "metadata": {},
   "outputs": [
    {
     "name": "stdout",
     "output_type": "stream",
     "text": [
      "(26, 75, 3)\n"
     ]
    }
   ],
   "source": [
    "import cv2\n",
    "img=cv2.imread(r'D:\\design\\python\\mhxy\\auto\\login\\xiayibu.PNG')\n",
    "size=img.shape\n",
    "print(size)\n",
    "#一共三个值：宽度、高度、深度。这个深度不知道什么意思。。"
   ]
  }
 ],
 "metadata": {
  "kernelspec": {
   "display_name": "Python 3",
   "language": "python",
   "name": "python3"
  },
  "language_info": {
   "codemirror_mode": {
    "name": "ipython",
    "version": 3
   },
   "file_extension": ".py",
   "mimetype": "text/x-python",
   "name": "python",
   "nbconvert_exporter": "python",
   "pygments_lexer": "ipython3",
   "version": "3.7.0"
  }
 },
 "nbformat": 4,
 "nbformat_minor": 2
}
