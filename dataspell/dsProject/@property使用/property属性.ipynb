{
 "cells": [
  {
   "cell_type": "markdown",
   "metadata": {},
   "source": [
    "# 1. 什么是property属性\n",
    "    一种用起来像是使用的实例属性一样的特殊属性，\n",
    "    可以对应于某个方法,希望能够像调用属性一样来调用方法 此时可以将一个方法加上property\n",
    "    将该函数方法,当做属性,不用()也可以执行"
   ]
  },
  {
   "cell_type": "code",
   "execution_count": 5,
   "metadata": {},
   "outputs": [],
   "source": [
    "# ############### 定义 ###############\n",
    "class Foo:\n",
    "    def func(self):\n",
    "        pass\n",
    "\n",
    "    # 定义property属性\n",
    "    @property\n",
    "    def prop(self):\n",
    "        pass\n",
    "\n",
    "# ############### 调用 ###############\n",
    "foo_obj = Foo()\n",
    "foo_obj.func()  # 调用实例方法\n",
    "foo_obj.prop  # 调用property属性\n",
    "\n"
   ]
  },
  {
   "cell_type": "markdown",
   "metadata": {},
   "source": [
    "    property属性的定义和调用要注意一下几点：\n",
    "    定义时，在实例方法的基础上添加 @property 装饰器；\n",
    "    并且仅有一个self参数调用时，无需括号"
   ]
  },
  {
   "cell_type": "markdown",
   "metadata": {},
   "source": [
    "# 3.1 　在类的实例方法上应用@property装饰器\n",
    "    Python中的类有经典类和新式类，新式类的属性比经典类的属性丰富。(如果类继object，那么该类是新式类)\n",
    "    经典类，具有一种@property装饰器"
   ]
  },
  {
   "cell_type": "markdown",
   "metadata": {},
   "source": [
    "## （1）经典类"
   ]
  },
  {
   "cell_type": "code",
   "execution_count": 8,
   "metadata": {},
   "outputs": [
    {
     "name": "stdout",
     "output_type": "stream",
     "text": [
      "laowang\n"
     ]
    }
   ],
   "source": [
    "# ############### 定义 ###############    \n",
    "class Goods:\n",
    "    @property\n",
    "    def price(self):\n",
    "        return \"laowang\"\n",
    "# ############### 调用 ###############\n",
    "obj = Goods()\n",
    "result = obj.price  # 自动执行 @property 修饰的 price 方法，并获取方法的返回值\n",
    "print(result)"
   ]
  },
  {
   "cell_type": "markdown",
   "metadata": {},
   "source": [
    "# （2）新式类\n",
    "    三个方法定义为对同一个属性：获取、修改、删除\n",
    "    注意：def的函数名都是一样的"
   ]
  },
  {
   "cell_type": "code",
   "execution_count": 10,
   "metadata": {},
   "outputs": [
    {
     "name": "stdout",
     "output_type": "stream",
     "text": [
      "@property\n",
      "@price.setter，value： 123\n",
      "@price.deleter\n"
     ]
    }
   ],
   "source": [
    "#coding=utf-8\n",
    "# ############### 定义 ###############\n",
    "class Goods:\n",
    "    \"\"\"python3中默认继承object类\n",
    "        以python2、3执行此程序的结果不同，因为只有在python3中才有@xxx.setter  @xxx.deleter\n",
    "    \"\"\"\n",
    "    @property\n",
    "    def price(self):\n",
    "        print('@property')\n",
    "\n",
    "    @price.setter\n",
    "    def price(self, value):\n",
    "        print('@price.setter，value：',value)\n",
    "\n",
    "    @price.deleter\n",
    "    def price(self):\n",
    "        print('@price.deleter')\n",
    "\n",
    "# ############### 调用 ###############\n",
    "obj = Goods()\n",
    "obj.price          # 自动执行 @property 修饰的 price 方法，并获取方法的返回值\n",
    "obj.price = 123    # 自动执行 @price.setter 修饰的 price 方法，并将  123 赋值给方法的参数\n",
    "del obj.price      # 自动执行 @price.deleter 修饰的 price 方法"
   ]
  },
  {
   "cell_type": "markdown",
   "metadata": {},
   "source": [
    "# 实际应用"
   ]
  },
  {
   "cell_type": "code",
   "execution_count": 17,
   "metadata": {},
   "outputs": [],
   "source": [
    "class Goods(object):\n",
    "\n",
    "    def __init__(self):\n",
    "        # 原价\n",
    "        self.original_price = 100\n",
    "        # 折扣\n",
    "        self.discount = 0.8\n",
    "\n",
    "    @property\n",
    "    def price(self):\n",
    "        # 实际价格 = 原价 * 折扣\n",
    "        new_price = self.original_price * self.discount\n",
    "        return new_price\n",
    "\n",
    "    @price.setter\n",
    "    def price(self, value):\n",
    "        self.original_price = value\n",
    "\n",
    "    @price.deleter\n",
    "    def price(self):\n",
    "        del self.original_price\n",
    "\n",
    "obj = Goods()\n",
    "obj.price         # 获取商品价格\n",
    "obj.price = 200   # 修改商品原价\n",
    "del obj.price     # 删除商品原价"
   ]
  },
  {
   "cell_type": "markdown",
   "metadata": {},
   "source": [
    "# 3.2 　类属性方式，创建值为property对象的类属性\n",
    "    当使用类属性的方式创建property属性时，经典类和新式类无区别"
   ]
  },
  {
   "cell_type": "code",
   "execution_count": 19,
   "metadata": {},
   "outputs": [
    {
     "name": "stdout",
     "output_type": "stream",
     "text": [
      "laowang\n"
     ]
    }
   ],
   "source": [
    "class Foo:\n",
    "    def get_bar(self):\n",
    "        return 'laowang'\n",
    "\n",
    "    BAR = property(get_bar)\n",
    "\n",
    "obj = Foo()\n",
    "reuslt = obj.BAR  # 自动调用get_bar方法，并获取方法的返回值\n",
    "print(reuslt)"
   ]
  },
  {
   "cell_type": "markdown",
   "metadata": {},
   "source": [
    "  ### property方法中有个四个参数 -\n",
    "\n",
    "    第一个参数是方法名，调用 对象.属性 时自动触发执行方法\n",
    "    第二个参数是方法名，调用 对象.属性 ＝ XXX 时自动触发执行方法\n",
    "    第三个参数是方法名，调用 del 对象.属性 时自动触发执行方法\n",
    "    第四个参数是字符串，调用 对象.属性.doc ，此参数是该属性的描述信息"
   ]
  },
  {
   "cell_type": "code",
   "execution_count": 4,
   "metadata": {},
   "outputs": [
    {
     "name": "stdout",
     "output_type": "stream",
     "text": [
      "getter...\n",
      "setter...\n",
      "description...\n",
      "deleter...\n"
     ]
    }
   ],
   "source": [
    "#coding=utf-8\n",
    "class Foo(object):\n",
    "    def get_bar(self):\n",
    "        print(\"getter...\")\n",
    "        return 'laowang'\n",
    "\n",
    "    def set_bar(self, value): \n",
    "        \"\"\"必须两个参数\"\"\"\n",
    "        print(\"setter...\")\n",
    "        return 'set value' + value\n",
    "\n",
    "    def del_bar(self):\n",
    "        print(\"deleter...\")\n",
    "        return 'laowang'\n",
    "\n",
    "    BAR = property(get_bar, set_bar, del_bar, \"description...\")\n",
    "\n",
    "obj = Foo()\n",
    "\n",
    "obj.BAR  # 自动调用第一个参数中定义的方法：get_bar\n",
    "obj.BAR = \"alex\"  # 自动调用第二个参数中定义的方法：set_bar方法，并将“alex”当作参数传入\n",
    "\n",
    "#注意下方不是obj.BAR而是Foo.BAR\n",
    "desc = Foo.BAR.__doc__  # 自动获取第四个参数中设置的值：description...\n",
    "print(desc)\n",
    "del obj.BAR  # 自动调用第三个参数中定义的方法：del_bar方法"
   ]
  },
  {
   "cell_type": "markdown",
   "metadata": {},
   "source": [
    "# 实际应用"
   ]
  },
  {
   "cell_type": "code",
   "execution_count": 3,
   "metadata": {},
   "outputs": [
    {
     "name": "stdout",
     "output_type": "stream",
     "text": [
      "Convert a string or number to a floating point number, if possible.\n"
     ]
    }
   ],
   "source": [
    "class Goods(object):\n",
    "\n",
    "    def __init__(self):\n",
    "        # 原价\n",
    "        self.original_price = 100\n",
    "        # 折扣\n",
    "        self.discount = 0.8\n",
    "\n",
    "    def get_price(self):\n",
    "        # 实际价格 = 原价 * 折扣\n",
    "        new_price = self.original_price * self.discount\n",
    "        return new_price\n",
    "\n",
    "    def set_price(self, value):\n",
    "        self.original_price = value\n",
    "\n",
    "    def del_price(self):\n",
    "        del self.original_price\n",
    "\n",
    "    PRICE = property(get_price, set_price, del_price, '价格属性描述...')\n",
    "\n",
    "obj = Goods()\n",
    "obj.PRICE         # 获取商品价格\n",
    "obj.PRICE = 200   # 修改商品原价\n",
    "print(obj.PRICE.__doc__)\n",
    "del obj.PRICE     # 删除商品原价"
   ]
  }
 ],
 "metadata": {
  "kernelspec": {
   "display_name": "Python 3",
   "language": "python",
   "name": "python3"
  },
  "language_info": {
   "codemirror_mode": {
    "name": "ipython",
    "version": 3
   },
   "file_extension": ".py",
   "mimetype": "text/x-python",
   "name": "python",
   "nbconvert_exporter": "python",
   "pygments_lexer": "ipython3",
   "version": "3.7.0"
  }
 },
 "nbformat": 4,
 "nbformat_minor": 2
}
