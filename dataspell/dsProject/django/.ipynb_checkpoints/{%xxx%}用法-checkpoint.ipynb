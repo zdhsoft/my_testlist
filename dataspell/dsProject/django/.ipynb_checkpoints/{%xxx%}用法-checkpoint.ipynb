{
 "cells": [
  {
   "cell_type": "markdown",
   "metadata": {},
   "source": [
    "# {% csrf_token %}"
   ]
  },
  {
   "cell_type": "markdown",
   "metadata": {},
   "source": [
    "csrf:跨站请求伪造,防止其他人改造，盗取信息，反正就是一种网站的防护措施"
   ]
  },
  {
   "cell_type": "markdown",
   "metadata": {},
   "source": [
    "#添加后，在form表单请求时会自动带上token<p>\n",
    "<img style=\"float: left;\" src=\"./img/crfs_token.png\" width=\"50%\">"
   ]
  },
  {
   "cell_type": "code",
   "execution_count": null,
   "metadata": {},
   "outputs": [],
   "source": []
  }
 ],
 "metadata": {
  "kernelspec": {
   "display_name": "Python 3",
   "language": "python",
   "name": "python3"
  },
  "language_info": {
   "codemirror_mode": {
    "name": "ipython",
    "version": 3
   },
   "file_extension": ".py",
   "mimetype": "text/x-python",
   "name": "python",
   "nbconvert_exporter": "python",
   "pygments_lexer": "ipython3",
   "version": "3.7.0"
  }
 },
 "nbformat": 4,
 "nbformat_minor": 2
}
