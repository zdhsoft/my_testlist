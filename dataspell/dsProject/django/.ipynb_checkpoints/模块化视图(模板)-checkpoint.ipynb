{
 "cells": [
  {
   "cell_type": "markdown",
   "metadata": {},
   "source": [
    "django相关链接https://docs.djangoproject.com/zh-hans/2.1/ref/templates/language/#template-inheritance"
   ]
  },
  {
   "cell_type": "markdown",
   "metadata": {},
   "source": [
    "# 创建一个html模板"
   ]
  },
  {
   "cell_type": "code",
   "execution_count": null,
   "metadata": {},
   "outputs": [],
   "source": [
    "<!doctype html>\n",
    "<html lang=\"en\">\n",
    "  <head>\n",
    "    <meta charset=\"utf-8\">\n",
    "      <title>{% block title %}{% endblock %}</title>\n",
    "\n",
    "      {% load staticfiles %}\n",
    "      <link href={% static \"bootstrap/css/bootstrap.min.css\" %} rel=\"stylesheet\">\n",
    "      {% block link %}{% endblock %}\n",
    "\n",
    "  </head>\n",
    "    <style>\n",
    "      .bd-placeholder-img {\n",
    "        font-size: 1.125rem;\n",
    "        text-anchor: middle;\n",
    "      }\n",
    "\n",
    "      @media (min-width: 768px) {\n",
    "        .bd-placeholder-img-lg {\n",
    "          font-size: 3.5rem;\n",
    "        }\n",
    "      }\n",
    "    </style>\n",
    "    <!-- Custom styles for this template -->\n",
    "  <body class=\"text-center\">\n",
    "    {% block content %}{% endblock %}\n",
    "  </body>\n",
    "</html>"
   ]
  },
  {
   "cell_type": "markdown",
   "metadata": {},
   "source": [
    "# 调用此模板"
   ]
  },
  {
   "cell_type": "code",
   "execution_count": null,
   "metadata": {},
   "outputs": [],
   "source": [
    "#声明要使用的模板\n",
    "{% extends 'sign_in/user_manager.html' %}\n",
    "\n",
    "#这里只需要编辑{% block xxxx %}与{% end block %}之间的内容内容即可\n",
    "#名为link的模块将变为以下内容\n",
    "{% block link %}\n",
    "     {% load staticfiles %}#内容\n",
    "    <link href={% static \"sgin_in/signin.css\" %} rel=\"stylesheet\">%}#内容\n",
    "{% endblock %}"
   ]
  },
  {
   "cell_type": "markdown",
   "metadata": {},
   "source": [
    "## extends声明主模板"
   ]
  },
  {
   "cell_type": "markdown",
   "metadata": {},
   "source": [
    "* 用法:副模板中添加入 {% extends 'sign_in/user_manager.html' %}"
   ]
  },
  {
   "cell_type": "markdown",
   "metadata": {},
   "source": [
    "* 用于在副模板中声明主模板位置，主模板和副模板应当都在templates文件夹中"
   ]
  },
  {
   "cell_type": "markdown",
   "metadata": {},
   "source": [
    "## block 调用主模板"
   ]
  },
  {
   "cell_type": "markdown",
   "metadata": {},
   "source": [
    "* 用法:主模板中添加{% block 模块名 %}{% endblock %}，副模板中添加{% block 模块名 %} 内容内容内容 {% endblock %}<p>这样副模板被调用时，会将主模板block中的内容替换掉。"
   ]
  },
  {
   "cell_type": "markdown",
   "metadata": {},
   "source": [
    "##  {% load staticfiles %}，加载static静态文件"
   ]
  },
  {
   "cell_type": "code",
   "execution_count": null,
   "metadata": {},
   "outputs": [],
   "source": [
    "{% block link %}\n",
    "     {% load staticfiles %}\n",
    "    <link href={% static \"sgin_in/signin.css\" %} rel=\"stylesheet\">\n",
    "{% endblock %}"
   ]
  }
 ],
 "metadata": {
  "kernelspec": {
   "display_name": "Python 3",
   "language": "python",
   "name": "python3"
  },
  "language_info": {
   "codemirror_mode": {
    "name": "ipython",
    "version": 3
   },
   "file_extension": ".py",
   "mimetype": "text/x-python",
   "name": "python",
   "nbconvert_exporter": "python",
   "pygments_lexer": "ipython3",
   "version": "3.7.0"
  }
 },
 "nbformat": 4,
 "nbformat_minor": 2
}
