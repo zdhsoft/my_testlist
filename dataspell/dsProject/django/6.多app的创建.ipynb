{
 "cells": [
  {
   "cell_type": "markdown",
   "metadata": {},
   "source": [
    "# 创建第二个app"
   ]
  },
  {
   "cell_type": "code",
   "execution_count": null,
   "metadata": {},
   "outputs": [],
   "source": [
    "python manage.py startapp appname（app名称）"
   ]
  },
  {
   "cell_type": "markdown",
   "metadata": {},
   "source": [
    "<img style=\"float: left;\" src=\"./img/creat1.png\" width=\"30%\">"
   ]
  },
  {
   "cell_type": "markdown",
   "metadata": {},
   "source": [
    "下图中的副app就是用上方命令创建的<br>\n",
    "<img style=\"float: left;\" src=\"./img/creat0.png\" width=\"20%\">"
   ]
  },
  {
   "cell_type": "markdown",
   "metadata": {},
   "source": [
    "# 在settings.py中添加配置"
   ]
  },
  {
   "cell_type": "markdown",
   "metadata": {},
   "source": [
    "* 先确认一下确认副apps.py中的名称<br>\n",
    "<img style=\"float: left;\" src=\"./img/creat2.png\" width=\"30%\">"
   ]
  },
  {
   "cell_type": "markdown",
   "metadata": {},
   "source": [
    "* 在主app的setting.py中添加配置<br>\n",
    "<img style=\"float: left;\" src=\"./img/creat3.png\" width=\"50%\">"
   ]
  },
  {
   "cell_type": "markdown",
   "metadata": {},
   "source": [
    "# 副app与主app进行关联"
   ]
  },
  {
   "cell_type": "markdown",
   "metadata": {},
   "source": [
    "## 主app的urls中添加如下内容<br>\n",
    "下图中的写法为，只要请求链接中包含chat字样，都交由chatRobot的urls.py文件来处理"
   ]
  },
  {
   "cell_type": "markdown",
   "metadata": {},
   "source": [
    "<img style=\"float: left;\" src=\"./img/contact0.png\" width=\"50%\">"
   ]
  },
  {
   "cell_type": "markdown",
   "metadata": {},
   "source": [
    "备注： 在副app的urls.py文件中，链接开头无需加入chat<br>\n",
    "<img style=\"float: left;\" src=\"./img/contact1.png\" width=\"50%\">"
   ]
  },
  {
   "cell_type": "markdown",
   "metadata": {},
   "source": [
    "## 在副app的urls.py中一定要添加变量app_name=\"app名称\"，很奇怪的设定..<br>\n",
    "<img style=\"float: left;\" src=\"./img/contact1.png\" width=\"50%\">"
   ]
  },
  {
   "cell_type": "markdown",
   "metadata": {},
   "source": [
    "# 各种坑"
   ]
  },
  {
   "cell_type": "markdown",
   "metadata": {},
   "source": [
    "## django.core.exceptions.ImproperlyConfigured: Specifying a namespace in include() without providing an app_name is not supported. Set the app_name attribute in the included module, or pass a 2-tuple containing the list of patterns and app_name inste"
   ]
  },
  {
   "cell_type": "markdown",
   "metadata": {},
   "source": [
    "* 在各app的urls.py文件中，需要添加app_name,坑了我好久"
   ]
  },
  {
   "cell_type": "markdown",
   "metadata": {},
   "source": [
    "<img style=\"float: left;\" src=\"./img/debug1.png\" width=\"40%\">"
   ]
  },
  {
   "cell_type": "markdown",
   "metadata": {},
   "source": [
    "## 关于已经配置完成或修改了主app，但是启动djago 后，访问链接找不到网页的问题"
   ]
  },
  {
   "cell_type": "markdown",
   "metadata": {},
   "source": [
    "在主app的settings.py文件中,ROT_URLCON要设置成'主app.urls'<br>\n",
    "看到下方还有一个WSGI_APPLACTION顺便也一起改了，官方文档说这是一个中间件，目前没明白干嘛用的。"
   ]
  },
  {
   "cell_type": "markdown",
   "metadata": {},
   "source": [
    "<img style=\"float: left;\" src=\"./img/debug2.png\" width=\"40%\">"
   ]
  }
 ],
 "metadata": {
  "kernelspec": {
   "display_name": "Python 3",
   "language": "python",
   "name": "python3"
  },
  "language_info": {
   "codemirror_mode": {
    "name": "ipython",
    "version": 3
   },
   "file_extension": ".py",
   "mimetype": "text/x-python",
   "name": "python",
   "nbconvert_exporter": "python",
   "pygments_lexer": "ipython3",
   "version": "3.7.0"
  }
 },
 "nbformat": 4,
 "nbformat_minor": 2
}
