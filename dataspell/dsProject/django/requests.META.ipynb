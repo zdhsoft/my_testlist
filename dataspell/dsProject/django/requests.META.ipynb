{
 "cells": [
  {
   "cell_type": "markdown",
   "metadata": {
    "pycharm": {
     "name": "#%% md\n"
    }
   },
   "source": [
    "# request.META 获取浏览器提交的数据 "
   ]
  },
  {
   "cell_type": "markdown",
   "metadata": {
    "pycharm": {
     "name": "#%% md\n"
    }
   },
   "source": [
    "request.META是一个字典值，包含了本次http请求的所有hearder信息，使用范例如下："
   ]
  },
  {
   "cell_type": "code",
   "execution_count": null,
   "metadata": {
    "pycharm": {
     "name": "#%%\n"
    }
   },
   "outputs": [],
   "source": [
    "request.META.get('HTTP_USER_AGENT','unknown')"
   ]
  },
  {
   "cell_type": "markdown",
   "metadata": {
    "pycharm": {
     "name": "#%% md\n"
    }
   },
   "source": [
    "意思为获取HTTP_USER_AGENT的值，否则返回unknown"
   ]
  },
  {
   "cell_type": "code",
   "execution_count": null,
   "metadata": {
    "pycharm": {
     "name": "#%%\n"
    }
   },
   "outputs": [],
   "source": [
    "常用参数\n",
    "1.HTTP_REFERER ：进站前链接网页，如果有的话。 （请注意，它是REFERRER的笔误。）\n",
    "2.HTTP_USER_AGENT ：用户浏览器的user-agent字符串，例如： \"Mozilla/5.0 (X11; U; Linux i686; fr-FR; rv:1.8.1.17) Gecko/20080829 Firefox/2.0.0.17\" .\n",
    "3.REMOTE_ADDR 客户端IP，如：\"12.345.67.89\" 。(如果申请是经过代理服务器的话，那么它可能是以逗号分割的多个IP地址，如：\"12.345.67.89,23.456.78.90\" 。)"
   ]
  }
 ],
 "metadata": {
  "kernelspec": {
   "display_name": "Python 3",
   "language": "python",
   "name": "python3"
  },
  "language_info": {
   "codemirror_mode": {
    "name": "ipython",
    "version": 3
   },
   "file_extension": ".py",
   "mimetype": "text/x-python",
   "name": "python",
   "nbconvert_exporter": "python",
   "pygments_lexer": "ipython3",
   "version": "3.7.0"
  }
 },
 "nbformat": 4,
 "nbformat_minor": 2
}