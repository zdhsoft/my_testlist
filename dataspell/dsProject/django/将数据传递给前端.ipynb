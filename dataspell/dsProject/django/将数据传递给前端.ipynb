{
 "cells": [
  {
   "cell_type": "markdown",
   "metadata": {},
   "source": [
    "# 将数据传递给前端"
   ]
  },
  {
   "cell_type": "code",
   "execution_count": null,
   "metadata": {},
   "outputs": [],
   "source": [
    "#views.py中的设置\n",
    "def register(request):\n",
    "    tables =  [1,2,3,4,5]\n",
    "    return  render(request,'sign_in/register.html',{\"tables\":tables})#将tables传递给网页"
   ]
  },
  {
   "cell_type": "code",
   "execution_count": null,
   "metadata": {},
   "outputs": [],
   "source": [
    "#网页端设置\n",
    "\n",
    " <div class=\"result-style\">\n",
    "    #for 循环显示数据\n",
    "    {% for i in tables %}#tables对应上大括号中的\"tables\"\n",
    "        <table class=\"table-style\">\n",
    "\n",
    "            <tr >\n",
    "                <a href='download/?path={{ i}}' id=\"show_result\">i</a>#i为tables表中的值 [1,2,3,4,5]\n",
    "            </tr>\n",
    "        </table>\n",
    "    {% endfor %}\n",
    "    \n",
    "    \n",
    "</div>"
   ]
  },
  {
   "cell_type": "markdown",
   "metadata": {},
   "source": [
    "# 多参数传递"
   ]
  },
  {
   "cell_type": "code",
   "execution_count": null,
   "metadata": {},
   "outputs": [],
   "source": [
    "# views.py中的设置\n",
    "def register(request):\n",
    "    tbles=[\n",
    "        {'a':1,'b':2},\n",
    "        {'a':3,'b':5}\n",
    "    ]\n",
    "    \n",
    "    return  render(request,'sign_in/register.html',{'tables':Tables})#这里不能直接传入tables变量，要以字典方式传递！！！！！！坑了自己好多遍了"
   ]
  },
  {
   "cell_type": "code",
   "execution_count": null,
   "metadata": {},
   "outputs": [],
   "source": [
    "#网页端设置\n",
    " <div class=\"result-style\">\n",
    "    #for 循环显示数据\n",
    "    {% for i in tables %}#tables对应上大括号中的\"tables\"\n",
    "        <table class=\"table-style\">\n",
    "\n",
    "            <tr >\n",
    "                <a href='download/?path={{i.a}}' id=\"show_result\">i</a>#i.a即为a的值。\n",
    "                <a href='download/?path={{i.b}}' id=\"show_result\">i</a>#i.b即为b的值。\n",
    "            </tr>\n",
    "        </table>\n",
    "    {% endfor %}\n",
    "</div>"
   ]
  }
 ],
 "metadata": {
  "kernelspec": {
   "display_name": "Python 3",
   "language": "python",
   "name": "python3"
  },
  "language_info": {
   "codemirror_mode": {
    "name": "ipython",
    "version": 3
   },
   "file_extension": ".py",
   "mimetype": "text/x-python",
   "name": "python",
   "nbconvert_exporter": "python",
   "pygments_lexer": "ipython3",
   "version": "3.7.0"
  }
 },
 "nbformat": 4,
 "nbformat_minor": 2
}
