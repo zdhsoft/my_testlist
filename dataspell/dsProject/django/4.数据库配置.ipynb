{
 "cells": [
  {
   "cell_type": "markdown",
   "metadata": {},
   "source": [
    "# 安装pymysql并再mysql中创建好对应的数据库"
   ]
  },
  {
   "cell_type": "code",
   "execution_count": null,
   "metadata": {},
   "outputs": [],
   "source": [
    "conda install pymysql\n",
    "#或\n",
    "pip install pymysql"
   ]
  },
  {
   "cell_type": "markdown",
   "metadata": {},
   "source": [
    "# setting.py中配置databases"
   ]
  },
  {
   "cell_type": "code",
   "execution_count": null,
   "metadata": {},
   "outputs": [],
   "source": [
    "DATABASES = {\n",
    "    'default': {\n",
    "        'ENGINE': 'django.db.backends.mysql',#sqlite3需要修改为mysql\n",
    "        'NAME': os.path.join(BASE_DIR, 'db.sqlite3'),\n",
    "        'USER': 'dorlolo',\n",
    "        'PASSWORD': 'dd3l',\n",
    "        'HOST': '127.0.0.1',\n",
    "        'PORT': '3306',\n",
    "    }\n",
    "}"
   ]
  },
  {
   "cell_type": "code",
   "execution_count": 4,
   "metadata": {},
   "outputs": [],
   "source": [
    "DATABASES = {\n",
    "    'default': {\n",
    "    'ENGINE': 'django.db.backends.mysql',\n",
    "    'NAME':'数据库名',\n",
    "    'USER': '用户名',\n",
    "    'PASSWORD': '密码',\n",
    "    'HOST': '计算机名,如localhost、127.0.0.1',\n",
    "    'PORT': '3306（一般win7内数据库所在的端口地址）',\n",
    "    #执行6中的代码报错可尝试添加，具体报错忘记了'OPTIONS': {'init_command': 'SET sql_mode=\"STRICT_TRANS_TABLES\",storage_engine=INNODB;'},\n",
    "    }\n",
    "}"
   ]
  },
  {
   "cell_type": "markdown",
   "metadata": {},
   "source": [
    "# setting.py中添加app名"
   ]
  },
  {
   "cell_type": "code",
   "execution_count": null,
   "metadata": {},
   "outputs": [],
   "source": [
    "INSTALLED_APPS = [\n",
    "    'django.contrib.admin',\n",
    "    'django.contrib.auth',\n",
    "    'django.contrib.contenttypes',\n",
    "    'django.contrib.sessions',\n",
    "    'django.contrib.messages',\n",
    "    'django.contrib.staticfiles',\n",
    "    'mysite_web', #我所创建的app名字\n",
    "]"
   ]
  },
  {
   "cell_type": "markdown",
   "metadata": {},
   "source": [
    "# 创建__init__.py件并添加以下内容"
   ]
  },
  {
   "cell_type": "code",
   "execution_count": 2,
   "metadata": {},
   "outputs": [],
   "source": [
    "#在app目录中创建__init__.py件并添加以下内容（与setting.py同一级目录）\n",
    "import  pymysql\n",
    "pymysql.install_as_MySQLdb()"
   ]
  },
  {
   "cell_type": "markdown",
   "metadata": {},
   "source": [
    "# 创建models.py 设置数据库类"
   ]
  },
  {
   "cell_type": "code",
   "execution_count": null,
   "metadata": {},
   "outputs": [],
   "source": [
    "from django.db import models\n",
    "\n",
    "class students(models.Model):\n",
    "    CNname=models.CharField(max_length=12 )\n",
    "    ENname=models.CharField(max_length=20)\n",
    "    sex=models.CharField(max_length=3)\n",
    "    id_identy=models.CharField(max_length=22)\n",
    "    id_car=models.CharField(max_length=20)\n",
    "    id_bank=models.CharField(max_length=23)\n",
    "    marriage = models.NullBooleanField()\n",
    "    project=models.CharField(max_length=12)#学历\n",
    "    date_enrollment=models.DateField()#入职日期\n",
    "    id_Employee=models.CharField(max_length=10)\n",
    "    trainer=models.CharField(max_length=20)\n",
    "    phoneNum=models.CharField(max_length=32)\n",
    "    address=models.CharField(max_length=128)\n",
    "    batch=models.CharField(max_length=10)#批次\n",
    "    \n",
    "    #下面两个不知道干吗用的\n",
    "    def __str__(self):\n",
    "        return \"%s --- %s\"%(self.id,self.name)\n",
    "    # 据说这里是数据可视化，不知道干吗用的\n",
    "    class Meta:\n",
    "        managed=False\n",
    "        db_table='students'\n"
   ]
  },
  {
   "cell_type": "markdown",
   "metadata": {},
   "source": [
    "# pycharm中 在底下的Terminal中执行以下命令\n",
    "* 每次更新数据可靠都需要执行这两命令"
   ]
  },
  {
   "cell_type": "code",
   "execution_count": null,
   "metadata": {},
   "outputs": [],
   "source": [
    "#1 首次创建(Django会重新对照你的models类与数据库中的映射表，如果你的model类被删除，则Django会生成一个删除迁移)\n",
    "python manage.py makemigrations app(你所创建的app名字)\n",
    "#2 更新数据库（执行删除迁移，删除数据库中对应的model映射表）\n",
    "python manage.py migrate"
   ]
  },
  {
   "cell_type": "markdown",
   "metadata": {},
   "source": [
    "主要参考文档：https://www.jianshu.com/p/3b46b98b39cd"
   ]
  },
  {
   "cell_type": "markdown",
   "metadata": {},
   "source": [
    "# 报错相关解决方案"
   ]
  },
  {
   "cell_type": "markdown",
   "metadata": {},
   "source": [
    "## django.core.exceptions.ImproperlyConfigured: mysqlclient 1.3.13 or newer is required; you have 0.9.3.\n"
   ]
  },
  {
   "cell_type": "markdown",
   "metadata": {},
   "source": [
    "### 解决方案"
   ]
  },
  {
   "cell_type": "markdown",
   "metadata": {},
   "source": [
    "1. 打开报错路径E:\\condaSystem\\lib\\site-packages\\django\\db\\backends\\mysql\\base.py<p>\n",
    "2. 注释掉以下内容：<p>\n",
    "if version < (1, 3, 13):\n",
    "    raise ImproperlyConfigured(‘mysqlclient 1.3.13 or newer is required; you have %s.’ % Database.version) <p>\n",
    "\n",
    "3. 打开文件E:\\condaSystem\\lib\\site-packages\\django\\db\\backends\\mysql\\operations.py\n",
    "4. 修改140行的decode为encode"
   ]
  },
  {
   "cell_type": "markdown",
   "metadata": {},
   "source": [
    "## 运行报错django.db.utils.OperationalError: (2003, \"Can't connect to MySQL server on '127.0.0.1' ([WinError 10061] 由于目标计算机积极拒绝\n",
    "，无法连接。)\")\n",
    "\n"
   ]
  },
  {
   "cell_type": "markdown",
   "metadata": {},
   "source": [
    "### __解决方案__\n",
    "1. 系统服务中 找到mysql并启动。该死的360\n",
    "2. C:\\Windows\\System32\\drivers\\etc\\hosts，取消注释127.0.0.1       localhost"
   ]
  },
  {
   "cell_type": "markdown",
   "metadata": {},
   "source": [
    "## 运行报错 django.db.utils.OperationalError: (1045, \"Access denied for user 'dorlolo'@'localhost' (using password: YES)\")"
   ]
  },
  {
   "cell_type": "markdown",
   "metadata": {},
   "source": [
    "### 解决方案"
   ]
  },
  {
   "cell_type": "markdown",
   "metadata": {},
   "source": [
    "1. setting.py中设置的用户名密码与mysql中的不匹配</br>\n",
    "    修改mysql用户名密码，忘记怎么设置了，据说登陆mysql后再user表中可以修改。\n",
    "    默认用户名root，密码为空<p>\n",
    "2. 没有对应数据库</br>\n",
    "    使用自制数据库模块创建数据库。"
   ]
  },
  {
   "cell_type": "markdown",
   "metadata": {},
   "source": [
    "--__end__--"
   ]
  }
 ],
 "metadata": {
  "kernelspec": {
   "display_name": "Python 3",
   "language": "python",
   "name": "python3"
  },
  "language_info": {
   "codemirror_mode": {
    "name": "ipython",
    "version": 3
   },
   "file_extension": ".py",
   "mimetype": "text/x-python",
   "name": "python",
   "nbconvert_exporter": "python",
   "pygments_lexer": "ipython3",
   "version": "3.7.0"
  }
 },
 "nbformat": 4,
 "nbformat_minor": 2
}
