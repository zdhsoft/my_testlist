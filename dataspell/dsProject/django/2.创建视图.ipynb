{
 "cells": [
  {
   "cell_type": "markdown",
   "metadata": {},
   "source": [
    "# 创建视图"
   ]
  },
  {
   "cell_type": "markdown",
   "metadata": {},
   "source": [
    "## 创建views.py文件（文件名、存放位置没有特殊要求，只是为了统一口径，也可以直接写在urls.py文件中。)"
   ]
  },
  {
   "cell_type": "code",
   "execution_count": 2,
   "metadata": {},
   "outputs": [],
   "source": [
    "# 打开views.py文件，添加以下内容\n",
    "from django.http import HttpResponse\n",
    "\n",
    "\n",
    "def index(request):\n",
    "    return HttpResponse(\"Hello, world. You're at the polls index.\")"
   ]
  },
  {
   "cell_type": "markdown",
   "metadata": {},
   "source": [
    "## 创建urls.py(与views.py同一目录)"
   ]
  },
  {
   "cell_type": "code",
   "execution_count": null,
   "metadata": {},
   "outputs": [],
   "source": [
    "from django.urls import path\n",
    "from . import views\n",
    "\n",
    "urlpatterns = [\n",
    "    path('', views.index, name='index'),\n",
    "]"
   ]
  },
  {
   "cell_type": "markdown",
   "metadata": {},
   "source": [
    "* ''表示网页地址,不填写则用默认地址 http://127.0.0.1:8000/打开<p>\n",
    "* views.index表示引用views.py文件中的index函数<p>\n",
    "* name='index'表示在浏览器中展示的网页名称<p>"
   ]
  },
  {
   "cell_type": "markdown",
   "metadata": {},
   "source": [
    "### 从url获取参数--django路径转换器"
   ]
  },
  {
   "cell_type": "markdown",
   "metadata": {},
   "source": [
    "* ps：传递给网页通过js处理数据，在url地址后面加?参数名1=值&参数名2=值的方法，url=‘www.baidu.com?time=2019&month=12’\n"
   ]
  },
  {
   "cell_type": "code",
   "execution_count": null,
   "metadata": {},
   "outputs": [],
   "source": [
    "#urls.py中定义url路径\n",
    "from django.urls import path\n",
    "from . import views\n",
    "\n",
    "urlpatterns = [\n",
    "    path('time/<int:year>/<int:month>/<day:day>',views.test_get_arguments,name='getTime' ),\n",
    "]"
   ]
  },
  {
   "cell_type": "code",
   "execution_count": 6,
   "metadata": {},
   "outputs": [],
   "source": [
    "#views.py中url的参数\n",
    "from django.http import HttpResponse\n",
    "\n",
    "def test_get_arguments(requests,year,month,day=1):#将使day的默认参数\n",
    "    return HttpResponse(\"Hello, get time:\\nyear:{0}\\nmonth:{1}\\nday:{2}\".format(year,month,day))\n",
    "\n",
    "#输出值\n",
    "#Hello, get time: year:2019 month:12 day:3"
   ]
  },
  {
   "cell_type": "markdown",
   "metadata": {},
   "source": [
    "路径转换器¶\n",
    "默认情况下，以下路径转换器可用：\n",
    "\n",
    "* str-匹配任何非空字符串，但路径分隔符除外'/'。如果表达式中不包含转换器，则为默认设置。\n",
    "* int-匹配零或任何正整数。返回一个int。\n",
    "* slug-匹配由ASCII字母或数字以及连字符和下划线字符组成的任何条形字符串。例如， building-your-1st-django-site。\n",
    "* uuid-匹配格式化的UUID。为防止多个URL映射到同一页面，必须包含破折号并且字母必须小写。例如，075194d3-6885-417e-a8a8-6c931e272f00。返回一个 UUID实例。\n",
    "* path-匹配任何非空字符串，包括路径分隔符 '/'。这样，您就可以与完整的URL路径进行匹配，而不仅仅是与URL路径的一部分进行匹配str。"
   ]
  },
  {
   "cell_type": "markdown",
   "metadata": {},
   "source": [
    "### 定义url参数值的范围，不正确返回404————使用repath"
   ]
  },
  {
   "cell_type": "code",
   "execution_count": null,
   "metadata": {},
   "outputs": [],
   "source": [
    "from django.urls import path, re_path\n",
    "\n",
    "from . import views\n",
    "\n",
    "urlpatterns = [\n",
    "    path('articles/2003/', views.special_case_2003),\n",
    "    re_path(r'^articles/(?P<year>[0-9]{4})/$', views.year_archive),\n",
    "    re_path(r'^articles/(?P<year>[0-9]{4})/(?P<month>[0-9]{2})/$', views.month_archive),\n",
    "    re_path(r'^articles/(?P<year>[0-9]{4})/(?P<month>[0-9]{2})/(?P<slug>[\\w-]+)/$', views.article_detail),\n",
    "]"
   ]
  }
 ],
 "metadata": {
  "kernelspec": {
   "display_name": "Python 3",
   "language": "python",
   "name": "python3"
  },
  "language_info": {
   "codemirror_mode": {
    "name": "ipython",
    "version": 3
   },
   "file_extension": ".py",
   "mimetype": "text/x-python",
   "name": "python",
   "nbconvert_exporter": "python",
   "pygments_lexer": "ipython3",
   "version": "3.7.0"
  }
 },
 "nbformat": 4,
 "nbformat_minor": 2
}
