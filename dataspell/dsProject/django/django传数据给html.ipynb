{
 "cells": [
  {
   "cell_type": "markdown",
   "metadata": {},
   "source": [
    "# django与html 数据传输中的编码解码问题\n",
    "\n",
    "## 一、遇到的问题\n",
    "    1.html回传给django的参数如果包含中文，在django中获取到是乱码。在pycharm中测试可能没有问题，但是打包后会遇到各种问题。\n",
    "    2.django传送给html的参数，如果通过js接收，莫名奇妙会变成变量名，还会报错undefined。\n",
    "    3.html接收参数后，回传给django，中文部分会乱码。"
   ]
  },
  {
   "cell_type": "markdown",
   "metadata": {
    "slideshow": {
     "slide_type": "-"
    }
   },
   "source": [
    "## 二、编码与解码的方法\n",
    "\n",
    "### 1.django部分"
   ]
  },
  {
   "cell_type": "code",
   "execution_count": 10,
   "metadata": {
    "collapsed": false
   },
   "outputs": [
    {
     "name": "stdout",
     "output_type": "stream",
     "text": [
      "编码 :%3F..%E4%BD%A0_-%E5%A5%BD\n",
      "编码2:?..%E4%BD%A0_-%E5%A5%BD\n"
     ]
    }
   ],
   "source": [
    "from urllib import parse #这个库用来编码解码的。\n",
    "\n",
    "#编码\n",
    "txt=\"?..你_-好\"\n",
    "bianma=parse.quote(txt)\n",
    "print(\"编码 :%s\"%bianma)\n",
    "\n",
    "#安全转码，只转码中文字符\n",
    "import string\n",
    "bianma2=parse.quote(txt,safe=string.printable)\n",
    "print(\"编码2:%s\"%bianma2)"
   ]
  },
  {
   "cell_type": "code",
   "execution_count": 8,
   "metadata": {
    "collapsed": false
   },
   "outputs": [
    {
     "name": "stdout",
     "output_type": "stream",
     "text": [
      "解码:你_-好\n"
     ]
    }
   ],
   "source": [
    "#解码\n",
    "jiema=parse.unquote(bianma)\n",
    "print(\"解码:%s\"%jiema)"
   ]
  },
  {
   "cell_type": "markdown",
   "metadata": {},
   "source": [
    "## 2.html部分\n",
    "    html本身是静态语言，直接显示传过来的参数不会有影响。\n",
    "    关键是接收到的参数通过url形式再反传给django的参数如果带有中文，会显示乱码。示例如下"
   ]
  },
  {
   "cell_type": "raw",
   "metadata": {},
   "source": [
    "/*result是django传过来的参数,如result=[{'path':resultPath,'name':fileName}]*/\n",
    "{% for i in result %}\n",
    "\n",
    "/*下方href中?前面的是链接，?后面的就是传给django的参数，再django函数中通过request.GET.get('path')这样的形式获取*/\n",
    "<a href='download/?path={{ i.path }}&name={{ i.name }}' id=\"show_result\">我是链接</a>\n",
    "\n",
    "{% endfor %}"
   ]
  },
  {
   "cell_type": "markdown",
   "metadata": {},
   "source": [
    "**上面的方法将参数回传“127.0.0.1/download/”的页面，django接收到参数后，如果里面带有中文，就会显示乱码**"
   ]
  },
  {
   "cell_type": "markdown",
   "metadata": {},
   "source": [
    "## 3.js部分"
   ]
  },
  {
   "cell_type": "raw",
   "metadata": {},
   "source": [
    "<script language=\"javascript\">\n",
    "    var txt=\"你_-好\"\n",
    "    var bianma=escape(txt)/*编码*/\n",
    "    console.log(bianma)\n",
    "    var jiema=unescape(get_name)/*解码*/\n",
    "    console.log(jiema)\n",
    "</script>"
   ]
  },
  {
   "cell_type": "markdown",
   "metadata": {},
   "source": [
    "# 三、html与django参数的接收与发送\n",
    "## 1.dango传递参数"
   ]
  },
  {
   "cell_type": "markdown",
   "metadata": {},
   "source": [
    "## 2.html部分\n",
    "### （1）使用方法\n",
    "    使用以下方法遍历django传递过来的参数。即上面的两个参数[{'path':resultPath,'name':fileName}]\n",
    "    {% for “value值” in “key值” %}......{% endfor %}\n",
    "\n",
    "    在省略号中使用{{ “value值”.“参数名” }}获取参数信息\n",
    "### （2）注意\n",
    "    通过js获取参数后，貌似参数值变成了变量名，解码的时候会报错。而使用html通过上面的方法不受影响（因为本身就是静态语言）。"
   ]
  },
  {
   "cell_type": "markdown",
   "metadata": {},
   "source": [
    "# 3.js部分（重要）"
   ]
  },
  {
   "cell_type": "markdown",
   "metadata": {},
   "source": [
    "js如果要接收参数需要加引号，如var a=\"{{ i.name }}\"；否则莫名其妙会变成变量。"
   ]
  },
  {
   "cell_type": "code",
   "execution_count": 10,
   "metadata": {
    "collapsed": false
   },
   "outputs": [
    {
     "ename": "SyntaxError",
     "evalue": "invalid syntax (<ipython-input-10-a0fba58fd8d4>, line 1)",
     "output_type": "error",
     "traceback": [
      "\u001b[0;36m  File \u001b[0;32m\"<ipython-input-10-a0fba58fd8d4>\"\u001b[0;36m, line \u001b[0;32m1\u001b[0m\n\u001b[0;31m    <div class=\"result-style\">\u001b[0m\n\u001b[0m    ^\u001b[0m\n\u001b[0;31mSyntaxError\u001b[0m\u001b[0;31m:\u001b[0m invalid syntax\n"
     ]
    }
   ],
   "source": [
    "<div class=\"result-style\">\n",
    "        {% for i in result %}\n",
    "            <table class=\"table-style\">\n",
    "                <script language=\"javascript\">\n",
    "                    var get_name={{ i.name }}\n",
    "                    var name=unescape(get_name.toString())\n",
    "\n",
    "                    if (name == \"\" || name == null || name == undefined){\n",
    "                        document.getElementById('show_result').innerHTML=name\n",
    "                    }else {\n",
    "                        document.getElementById('show_result').innerHTML=\"oo\"\n",
    "                    }\n",
    "                    console.log('name is',name)\n",
    "\n",
    "                </script>\n",
    "                \n",
    "                <tr >\n",
    "                    <a href='download/?path={{ i.path }}&name={{ i.name }}' id=\"show_result\">无搜索结果</a>\n",
    "                </tr>\n",
    "            </table>\n",
    "        {% endfor %}\n",
    "    </div>"
   ]
  },
  {
   "cell_type": "markdown",
   "metadata": {},
   "source": [
    "# 四、解决方案\n",
    "## 1.解决思路（没有印象，后续完善）\n",
    "    先通过django进行编码（将编码的参数 和 不编码的参数分成两个变量都传递过去，这样方面html处理）\n",
    "        ↓\n",
    "    html接收参数后不进行解码，直接显示。\n",
    "    js接收传输，必须要加引号。再使用unescape进行解码。（这一步貌似遇到问题，记不清了，后面遇到问题再修改）\n",
    "        ↓\n",
    "    html发送把参数回传时，使用编码过的参数"
   ]
  }
 ],
 "metadata": {
  "anaconda-cloud": {},
  "kernelspec": {
   "display_name": "Python 3",
   "language": "python",
   "name": "python3"
  },
  "language_info": {
   "codemirror_mode": {
    "name": "ipython",
    "version": 3
   },
   "file_extension": ".py",
   "mimetype": "text/x-python",
   "name": "python",
   "nbconvert_exporter": "python",
   "pygments_lexer": "ipython3",
   "version": "3.7.0"
  }
 },
 "nbformat": 4,
 "nbformat_minor": 2
}
