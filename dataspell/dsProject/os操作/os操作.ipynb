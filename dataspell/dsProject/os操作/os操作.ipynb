{
 "cells": [
  {
   "cell_type": "markdown",
   "metadata": {},
   "source": [
    "# 获取系统appdata或temp文件夹"
   ]
  },
  {
   "cell_type": "code",
   "execution_count": 2,
   "metadata": {},
   "outputs": [
    {
     "name": "stdout",
     "output_type": "stream",
     "text": [
      "C:\\Users\\JuneXu\\AppData\\Local\\Temp\n",
      "C:\\Users\\JuneXu\\AppData\\Local\n"
     ]
    }
   ],
   "source": [
    "import os\n",
    "print( os.getenv('TEMP'))\n",
    "print(os.getenv('LOCALAPPDATA'))"
   ]
  },
  {
   "cell_type": "markdown",
   "metadata": {},
   "source": [
    "# 字符串合并为合并为一个路径"
   ]
  },
  {
   "cell_type": "code",
   "execution_count": 5,
   "metadata": {},
   "outputs": [
    {
     "name": "stdout",
     "output_type": "stream",
     "text": [
      ".\\aaa\\b\n"
     ]
    }
   ],
   "source": [
    "import os\n",
    "a='.\\\\aaa'\n",
    "b='b'\n",
    "c=os.path.join(a,b)\n",
    "print(c)"
   ]
  },
  {
   "cell_type": "markdown",
   "metadata": {},
   "source": [
    "# 获取python的工作路径"
   ]
  },
  {
   "cell_type": "markdown",
   "metadata": {},
   "source": [
    "jupoyter中执行效果不一样"
   ]
  },
  {
   "cell_type": "code",
   "execution_count": 1,
   "metadata": {},
   "outputs": [
    {
     "name": "stdout",
     "output_type": "stream",
     "text": [
      "D:\\design\\jupyterNotebook\\os操作\n"
     ]
    }
   ],
   "source": [
    "import os\n",
    "pth=os.getcwd()\n",
    "print(pth)"
   ]
  },
  {
   "cell_type": "markdown",
   "metadata": {},
   "source": [
    "# 获取当前项目路径"
   ]
  },
  {
   "cell_type": "markdown",
   "metadata": {},
   "source": [
    "jupoyter中执行效果不一样"
   ]
  },
  {
   "cell_type": "code",
   "execution_count": null,
   "metadata": {},
   "outputs": [],
   "source": [
    "import os\n",
    "pth2=os.path.abspath(os.path.dirname(__file__))\n",
    "print(pth2)"
   ]
  }
 ],
 "metadata": {
  "kernelspec": {
   "display_name": "Python 3",
   "language": "python",
   "name": "python3"
  },
  "language_info": {
   "codemirror_mode": {
    "name": "ipython",
    "version": 3
   },
   "file_extension": ".py",
   "mimetype": "text/x-python",
   "name": "python",
   "nbconvert_exporter": "python",
   "pygments_lexer": "ipython3",
   "version": "3.7.0"
  }
 },
 "nbformat": 4,
 "nbformat_minor": 2
}
