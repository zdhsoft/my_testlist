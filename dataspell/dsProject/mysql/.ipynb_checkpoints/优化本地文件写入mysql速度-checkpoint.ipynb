{
 "cells": [
  {
   "cell_type": "code",
   "execution_count": 1,
   "metadata": {},
   "outputs": [
    {
     "ename": "SyntaxError",
     "evalue": "invalid character in identifier (<ipython-input-1-038a7eac1aa1>, line 1)",
     "output_type": "error",
     "traceback": [
      "\u001b[1;36m  File \u001b[1;32m\"<ipython-input-1-038a7eac1aa1>\"\u001b[1;36m, line \u001b[1;32m1\u001b[0m\n\u001b[1;33m    作者：yellow\u001b[0m\n\u001b[1;37m            ^\u001b[0m\n\u001b[1;31mSyntaxError\u001b[0m\u001b[1;31m:\u001b[0m invalid character in identifier\n"
     ]
    }
   ],
   "source": [
    "# 作者：yellow\n",
    "# 链接：https://www.zhihu.com/question/39824989/answer/120884748\n",
    "# 来源：知乎\n",
    "# 著作权归作者所有。商业转载请联系作者获得授权，非商业转载请注明出处。\n",
    "\n",
    "\"\"\"\n",
    "优化本地文件写入数据库效率（MS SQL Server）\n",
    "//////////////////////////////////////\n",
    "// 读取本地文件（.csv）;\n",
    "// 按块分批写入（动态构造 INSERT 内容）；\n",
    "// 整体变相实现类 BULK INSERT 功能。\n",
    "\"\"\"\n",
    "\n",
    "__author__ = 'yellow'\n",
    "__version__ = 'v0.1'\n",
    "__date__ = '2020/04/01'\n",
    "\n",
    "\n",
    "import time\n",
    "\n",
    "import pymssql\n",
    "import pandas as pd\n",
    "\n",
    "DB_CONNECT_CONFIG = {\n",
    "    'server': '',\n",
    "    'database': '',\n",
    "    'user': '',\n",
    "    'password': ''\n",
    "}\n",
    "\n",
    "\n",
    "def file_loader(src_file: str, dst_tbl: str, chunk_size=80):\n",
    "    \"\"\"\n",
    "    读取本地文件，写入数据库\n",
    "    ////////////////////\n",
    "    // src_file    ->  本地文件路径（CSV）\n",
    "    // dst_tbl     ->  目标数据表\n",
    "    // chunk_size  ->  每批写入行数\n",
    "    \"\"\"\n",
    "    with open(src_file, 'r') as f:\n",
    "        rows = f.readlines()\n",
    "\n",
    "    wrapper = lambda x: \"('\" + x.strip('\\r\\n').replace(',', \"', '\") + \"')\"\n",
    "    rows = list(map(wrapper, rows))\n",
    "    \n",
    "    tic = time.perf_counter()\n",
    "    with pymssql.connect(**DB_CONNECT_CONFIG) as conn:\n",
    "        with conn.cursor() as cursor:\n",
    "            n, k = len(rows) // chunk_size, len(rows) % chunk_size\n",
    "            for i in range(n):\n",
    "                _rs = ', '.join(rows[i*chunk_size:(i+1)*chunk_size])\n",
    "                cursor.execute(f\"INSERT INTO {dst_tbl} VALUES\" + _rs)\n",
    "            if k:\n",
    "                _rs = ', '.join(rows[-k:])\n",
    "                cursor.execute(f\"INSERT INTO {dst_tbl} VALUES\" + _rs)\n",
    "        conn.commit()\n",
    "\n",
    "    toc = time.perf_counter() - tic\n",
    "    print(f\"[{time.asctime()}] >>> {src_file} -> {dst_tbl}. | TTE: {toc:4.1f} sec.\")"
   ]
  }
 ],
 "metadata": {
  "kernelspec": {
   "display_name": "Python 3",
   "language": "python",
   "name": "python3"
  },
  "language_info": {
   "codemirror_mode": {
    "name": "ipython",
    "version": 3
   },
   "file_extension": ".py",
   "mimetype": "text/x-python",
   "name": "python",
   "nbconvert_exporter": "python",
   "pygments_lexer": "ipython3",
   "version": "3.7.0"
  }
 },
 "nbformat": 4,
 "nbformat_minor": 2
}
