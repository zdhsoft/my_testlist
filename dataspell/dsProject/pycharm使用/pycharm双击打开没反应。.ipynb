{
 "cells": [
  {
   "cell_type": "markdown",
   "metadata": {},
   "source": [
    "## pycharm双击打开没反应。\n",
    "## 原因：误删破解文件\n",
    "## 解决方案：\n",
    "### 1.下载破解文件（jar格式），最好保存到pycharm根目录中避免误删。\n",
    "### 2.然后pycharm根目录中找到bin文件夹，找到两个文件pycharm64.exe.vmoptions和pycharm.exe.vmoptions。\n",
    "### 3.在两个文件最后添加\n",
    "        -javaagent:后面再加上jar文件路径。如-javaagent:E:\\importProgram\\PyCharm 2018.1.4\\bin\\jetbrains-agent.jar\n"
   ]
  }
 ],
 "metadata": {
  "kernelspec": {
   "display_name": "Python 3",
   "language": "python",
   "name": "python3"
  },
  "language_info": {
   "codemirror_mode": {
    "name": "ipython",
    "version": 3
   },
   "file_extension": ".py",
   "mimetype": "text/x-python",
   "name": "python",
   "nbconvert_exporter": "python",
   "pygments_lexer": "ipython3",
   "version": "3.7.0"
  }
 },
 "nbformat": 4,
 "nbformat_minor": 2
}
