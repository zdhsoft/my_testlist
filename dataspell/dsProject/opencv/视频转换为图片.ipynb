{
 "cells": [
  {
   "cell_type": "markdown",
   "metadata": {},
   "source": [
    "# 视频转换为图片"
   ]
  },
  {
   "cell_type": "code",
   "execution_count": 3,
   "metadata": {},
   "outputs": [
    {
     "ename": "ModuleNotFoundError",
     "evalue": "No module named 'cv2'",
     "output_type": "error",
     "traceback": [
      "\u001b[1;31m---------------------------------------------------------------------------\u001b[0m",
      "\u001b[1;31mModuleNotFoundError\u001b[0m                       Traceback (most recent call last)",
      "\u001b[1;32m<ipython-input-3-cbd51eb531f5>\u001b[0m in \u001b[0;36m<module>\u001b[1;34m()\u001b[0m\n\u001b[0;32m      1\u001b[0m \u001b[1;33m\u001b[0m\u001b[0m\n\u001b[1;32m----> 2\u001b[1;33m \u001b[1;32mimport\u001b[0m \u001b[0mcv2\u001b[0m\u001b[1;33m\u001b[0m\u001b[0m\n\u001b[0m\u001b[0;32m      3\u001b[0m \u001b[1;32mimport\u001b[0m \u001b[0margparse\u001b[0m\u001b[1;33m\u001b[0m\u001b[0m\n\u001b[0;32m      4\u001b[0m \u001b[1;32mimport\u001b[0m \u001b[0mos\u001b[0m\u001b[1;33m\u001b[0m\u001b[0m\n\u001b[0;32m      5\u001b[0m \u001b[1;33m\u001b[0m\u001b[0m\n",
      "\u001b[1;31mModuleNotFoundError\u001b[0m: No module named 'cv2'"
     ]
    }
   ],
   "source": [
    "\n",
    "import cv2\n",
    "import argparse\n",
    "import os\n",
    "\n",
    "\n",
    "def parse_args():\n",
    "    \"\"\"\n",
    "    Parse input arguments\n",
    "    \"\"\"\n",
    "    parser = argparse.ArgumentParser(description='Process pic')\n",
    "    parser.add_argument('--input', help='video to process', dest='input', default=None, type=str)\n",
    "    parser.add_argument('--output', help='pic to store', dest='output', default=None, type=str)\n",
    "    # default为间隔多少帧截取一张图片\n",
    "    parser.add_argument('--skip_frame', dest='skip_frame', help='skip number of video', default=20, type=int)\n",
    "    # input为输入视频的路径 ，output为输出存放图片的路径\n",
    "    args = parser.parse_args(['--input', r'.\\image\\q.mp4', '--output', r'.\\image'])\n",
    "    return args\n",
    "\n",
    "\n",
    "def process_video(i_video, o_video, num):\n",
    "    cap = cv2.VideoCapture(i_video)\n",
    "    num_frame = cap.get(cv2.CAP_PROP_FRAME_COUNT)\n",
    "    expand_name = '.jpg'\n",
    "    if not cap.isOpened():\n",
    "        print(\"Please check the path.\")\n",
    "    cnt = 0\n",
    "    count = 0\n",
    "    while 1:\n",
    "        ret, frame = cap.read()\n",
    "        cnt += 1\n",
    "        #  how\n",
    "        # many\n",
    "        # frame\n",
    "        # to\n",
    "        # cut\n",
    "        if cnt % num == 0:\n",
    "            count += 1\n",
    "            cv2.imwrite(os.path.join(o_video, str(count) + expand_name), frame)\n",
    "\n",
    "        if not ret:\n",
    "            break\n",
    "\n",
    "\n",
    "if __name__ == '__main__':\n",
    "    args = parse_args()\n",
    "    if not os.path.exists(args.output):\n",
    "        os.makedirs(args.output)\n",
    "    print('Called with args:')\n",
    "    print(args)\n",
    "    process_video(args.input, args.output, args.skip_frame)"
   ]
  }
 ],
 "metadata": {
  "kernelspec": {
   "display_name": "Python 3",
   "language": "python",
   "name": "python3"
  },
  "language_info": {
   "codemirror_mode": {
    "name": "ipython",
    "version": 3
   },
   "file_extension": ".py",
   "mimetype": "text/x-python",
   "name": "python",
   "nbconvert_exporter": "python",
   "pygments_lexer": "ipython3",
   "version": "3.7.0"
  }
 },
 "nbformat": 4,
 "nbformat_minor": 2
}
