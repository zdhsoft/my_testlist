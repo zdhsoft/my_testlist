{
 "cells": [
  {
   "cell_type": "markdown",
   "metadata": {},
   "source": [
    "# 一、安装\n",
    "#### 最新版本的opencv功能少了很多功能，所以需要下载旧版本的。\n",
    "#### 如果之前已经安装过opencv，需要进行卸载：\n",
    "    pip uninstall opencv-python\n",
    "#### 然后再进行安装：\n",
    "    pip install opencv-python==3.4.2.16\n",
    "    pip install opencv-contrib-python==3.4.2.16\n"
   ]
  },
  {
   "cell_type": "markdown",
   "metadata": {},
   "source": [
    "# 二、相关模块\n",
    "### 1.aircv介绍：\n",
    "    aircv模块是实现通过opencv-python来进行图像定位，返回值主要为找到的中心坐标和相似度。\n",
    "    相似度的值>=0.99才能说明查找到的图片是一模一样的。\n",
    "### 2.主要功能：\n",
    "    ac.find_sift(imsrc, imsch)#查找一处，返回一个相似图像的坐标。？\n",
    "    ac.find_all_sift(imsrc, imsch, maxcnt = 0)#查找多处，返回多个相似图像的坐标。\n",
    "    ac.find_template(imsrc, imsch)#直接匹图片\n",
    "    ac.find_all_template(imsrc, imsch)#直接匹配多个相似图片，返回多个坐标值\n",
    "### 3.函数区别：\n",
    "    通过实际测试，find_template比find_sift种方法的运行速度要快很多，但是准确率来讲暂时没测试出哪个更好。\n",
    "### 4.功能演示"
   ]
  },
  {
   "cell_type": "code",
   "execution_count": 5,
   "metadata": {},
   "outputs": [
    {
     "name": "stdout",
     "output_type": "stream",
     "text": [
      "{'result': (750.0, 314.0), 'rectangle': [(740, 303), (741, 326), (760, 325), (760, 303)], 'confidence': (7, 7)}\n"
     ]
    }
   ],
   "source": [
    "import aircv as ac\n",
    "\n",
    "def find_img_coordinate(mainImg_path,searchImg_path):\n",
    "    '''\n",
    "    :param mainImg_path: 主图片路径\n",
    "    :param searchImg_path: 搜索图片的路径\n",
    "    :return:\n",
    "    '''\n",
    "    imsrc=ac.imread(mainImg_path)\n",
    "    imsch=ac.imread(searchImg_path)\n",
    "    return ac.find_sift(imsrc,imsch)\n",
    "\n",
    "\n",
    "#使用方法\n",
    "result=find_img_coordinate(r'D:\\design\\python\\mhxy\\5.PNG',r'D:\\design\\python\\mhxy\\s501.PNG')\n",
    "print(result)"
   ]
  },
  {
   "cell_type": "markdown",
   "metadata": {},
   "source": [
    "返回值含义：\n",
    "* result:找到的坐标\n",
    "* rectangle：图形四周的坐标\n",
    "* confidence：（网上查找到是一段小数，指的应该是匹配程度）查找图片匹配成功的特征点 除以 总的特征点"
   ]
  },
  {
   "cell_type": "code",
   "execution_count": null,
   "metadata": {},
   "outputs": [],
   "source": []
  }
 ],
 "metadata": {
  "kernelspec": {
   "display_name": "Python 3",
   "language": "python",
   "name": "python3"
  },
  "language_info": {
   "codemirror_mode": {
    "name": "ipython",
    "version": 3
   },
   "file_extension": ".py",
   "mimetype": "text/x-python",
   "name": "python",
   "nbconvert_exporter": "python",
   "pygments_lexer": "ipython3",
   "version": "3.7.0"
  }
 },
 "nbformat": 4,
 "nbformat_minor": 2
}
