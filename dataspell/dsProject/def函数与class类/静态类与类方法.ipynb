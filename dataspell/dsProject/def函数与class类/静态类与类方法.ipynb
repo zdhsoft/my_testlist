{
 "cells": [
  {
   "cell_type": "markdown",
   "metadata": {},
   "source": [
    "# 静态类"
   ]
  },
  {
   "cell_type": "code",
   "execution_count": 27,
   "metadata": {},
   "outputs": [
    {
     "name": "stdout",
     "output_type": "stream",
     "text": [
      "china\n",
      "china\n"
     ]
    }
   ],
   "source": [
    "class People():\n",
    "    country = 'china'\n",
    "    @staticmethod\n",
    "    def getCountry():\n",
    "        return People.country\n",
    "    \n",
    "    \n",
    "print( People.getCountry())\n",
    "\n",
    "a=People()\n",
    "print( a.getCountry())"
   ]
  },
  {
   "cell_type": "code",
   "execution_count": 36,
   "metadata": {},
   "outputs": [
    {
     "name": "stdout",
     "output_type": "stream",
     "text": [
      "china\n",
      "china\n"
     ]
    }
   ],
   "source": [
    "class People():\n",
    "    country='china'\n",
    "    def getCountry(cls):#cls 即class，需要把class传进去\n",
    "        return People.country\n",
    "\n",
    "print( People.getCountry(People())) #需要把自己传进去，否则会报错缺少self\n",
    "\n",
    "a=People()\n",
    "print( a.getCountry())"
   ]
  },
  {
   "cell_type": "code",
   "execution_count": 41,
   "metadata": {},
   "outputs": [
    {
     "name": "stdout",
     "output_type": "stream",
     "text": [
      "china\n",
      "china\n"
     ]
    }
   ],
   "source": [
    "class People():\n",
    "    def __init__(self):\n",
    "        self.country='china'\n",
    "    def getCountry(self):#把自己传进去\n",
    "        return self.country\n",
    "\n",
    "print( People.getCountry(People())) #需要把自己People()传进去，否则会报错缺少self\n",
    "\n",
    "a=People()\n",
    "print( a.getCountry())"
   ]
  },
  {
   "cell_type": "markdown",
   "metadata": {},
   "source": [
    "# 类方法"
   ]
  },
  {
   "cell_type": "code",
   "execution_count": 44,
   "metadata": {},
   "outputs": [
    {
     "name": "stdout",
     "output_type": "stream",
     "text": [
      "china\n",
      "china\n"
     ]
    }
   ],
   "source": [
    "class People(object):\n",
    "    country = 'china'\n",
    "    #类⽅法，⽤classmethod来进⾏修饰\n",
    "    @classmethod\n",
    "    def getCountry(cls):\n",
    "        return cls.country\n",
    "p = People()\n",
    "print(p.getCountry()) #可以⽤过实例对象引⽤\n",
    "print( People.getCountry()) #可以通过类对象引⽤"
   ]
  },
  {
   "cell_type": "code",
   "execution_count": 52,
   "metadata": {},
   "outputs": [
    {
     "name": "stdout",
     "output_type": "stream",
     "text": [
      "china\n",
      "china\n",
      "japan\n",
      "japan\n",
      "japan\n"
     ]
    }
   ],
   "source": [
    "#对类中的变量进行修改\n",
    "class People(object):\n",
    "    country = 'china'\n",
    "    #类⽅法，⽤classmethod来进⾏修饰\n",
    "    @classmethod\n",
    "    def getCountry(cls):\n",
    "        return cls.country\n",
    "    \n",
    "    @classmethod\n",
    "    def setCountry(cls,country):\n",
    "        cls.country = country\n",
    "\n",
    "\n",
    "p = People()\n",
    "print(p.getCountry()) #可以⽤过实例对象引⽤\n",
    "print (People.getCountry()) #可以通过类对象引⽤\n",
    "\n",
    "p.setCountry('japan')#对类中的变量进行修改\n",
    "print (p.getCountry())\n",
    "print (People.getCountry())\n",
    "b=People()\n",
    "print(b.getCountry())"
   ]
  },
  {
   "cell_type": "code",
   "execution_count": 1,
   "metadata": {},
   "outputs": [
    {
     "ename": "SyntaxError",
     "evalue": "invalid syntax (<ipython-input-1-ac4df5dacfe0>, line 16)",
     "output_type": "error",
     "traceback": [
      "\u001b[1;36m  File \u001b[1;32m\"<ipython-input-1-ac4df5dacfe0>\"\u001b[1;36m, line \u001b[1;32m16\u001b[0m\n\u001b[1;33m    def getCity(self,cls)\u001b[0m\n\u001b[1;37m                         ^\u001b[0m\n\u001b[1;31mSyntaxError\u001b[0m\u001b[1;31m:\u001b[0m invalid syntax\n"
     ]
    }
   ],
   "source": [
    "#这类修改方法不会修改原参数\n",
    "class People(object):\n",
    "    city='changshu'\n",
    "    def __init__(self):\n",
    "        self.country = 'china'\n",
    "        \n",
    "    #类⽅法，⽤classmethod来进⾏修饰\n",
    "    def getCountry(self):\n",
    "        return self.country\n",
    "    \n",
    "    def setCountry(self,country):\n",
    "        self.country = country\n",
    "    \n",
    "    def setCity(self,cls,city):\n",
    "        People.city=city\n",
    "    def getCity(self,cls)\n",
    "        return People.city\n",
    "a=People()\n",
    "a.setCountry('inda')\n",
    "print(a.getCountry())\n",
    "\n",
    "print(People.getCountry(People()))\n",
    "\n",
    "a.setCity(People(),People(),'shenzhen')\n",
    "print(a.getCity)\n",
    "\n",
    "print(People.getCity(People,People))"
   ]
  }
 ],
 "metadata": {
  "kernelspec": {
   "display_name": "Python 3",
   "language": "python",
   "name": "python3"
  },
  "language_info": {
   "codemirror_mode": {
    "name": "ipython",
    "version": 3
   },
   "file_extension": ".py",
   "mimetype": "text/x-python",
   "name": "python",
   "nbconvert_exporter": "python",
   "pygments_lexer": "ipython3",
   "version": "3.7.0"
  }
 },
 "nbformat": 4,
 "nbformat_minor": 2
}
