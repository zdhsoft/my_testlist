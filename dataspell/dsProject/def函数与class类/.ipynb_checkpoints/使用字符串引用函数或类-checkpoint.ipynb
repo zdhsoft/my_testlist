{
 "cells": [
  {
   "cell_type": "markdown",
   "metadata": {},
   "source": [
    "# locals()方法"
   ]
  },
  {
   "cell_type": "code",
   "execution_count": 24,
   "metadata": {},
   "outputs": [
    {
     "name": "stdout",
     "output_type": "stream",
     "text": [
      "lili has been created successfully!\n",
      "haha has been created successfully!\n",
      "my name is lili !\n",
      "my name is haha !\n"
     ]
    }
   ],
   "source": [
    "#首先是类函数\n",
    "class testmode:\n",
    "    def __init__(self,name):\n",
    "        self.name=name\n",
    "        print(\"{} has been created successfully!\".format(name))\n",
    "    def run(self):\n",
    "        print('my name is {} !'.format(self.name))\n",
    "\n",
    "mode_list=locals()# 创建locals()对象\n",
    "#举例程序自动生成两个类\n",
    "def creat(list):\n",
    "    for i in list:\n",
    "        mode_list[i]=testmode(i)\n",
    "l=['lili','haha']\n",
    "creat(l)\n",
    "\n",
    "#测试在creat函数外使用过字符串调用字符串函数\n",
    "mode_list['lili'].run()\n",
    "mode_list['haha'].run()"
   ]
  },
  {
   "cell_type": "markdown",
   "metadata": {},
   "source": [
    "# vars()['name']方法"
   ]
  },
  {
   "cell_type": "code",
   "execution_count": 4,
   "metadata": {},
   "outputs": [
    {
     "name": "stdout",
     "output_type": "stream",
     "text": [
      "my name is dorlolo\n",
      "dorlolo’s mode：test is running\n",
      "\n",
      "my name is tamimi\n",
      "tamimi’s mode：test is running\n",
      "\n"
     ]
    }
   ],
   "source": [
    "class user:\n",
    "    def __init__(self,name):\n",
    "        self.name=name\n",
    "        print('my name is {}'.format(name))\n",
    "    def test(self):\n",
    "        print(\"{}’s mode：test is running\\n\".format(self.name))\n",
    "\n",
    "\n",
    "list=['dorlolo','tamimi']\n",
    "for i in list:\n",
    "    vars()[i]=user(i)\n",
    "    vars()[i].test()\n"
   ]
  },
  {
   "cell_type": "markdown",
   "metadata": {},
   "source": [
    "* 优点：构造简单，适用于一些无需外部调用的小型程序，\n",
    "* 缺点：如果在class或者def中使用vars()['name']方法，外部将无法调用。例如"
   ]
  },
  {
   "cell_type": "code",
   "execution_count": 25,
   "metadata": {},
   "outputs": [
    {
     "name": "stdout",
     "output_type": "stream",
     "text": [
      "my name is king\n",
      "my name is mao\n"
     ]
    },
    {
     "ename": "KeyError",
     "evalue": "'king'",
     "output_type": "error",
     "traceback": [
      "\u001b[1;31m---------------------------------------------------------------------------\u001b[0m",
      "\u001b[1;31mKeyError\u001b[0m                                  Traceback (most recent call last)",
      "\u001b[1;32m<ipython-input-25-1a272026a484>\u001b[0m in \u001b[0;36m<module>\u001b[1;34m()\u001b[0m\n\u001b[0;32m      7\u001b[0m \u001b[0mrun1\u001b[0m\u001b[1;33m(\u001b[0m\u001b[0mlist\u001b[0m\u001b[1;33m)\u001b[0m\u001b[1;33m\u001b[0m\u001b[0m\n\u001b[0;32m      8\u001b[0m \u001b[1;33m\u001b[0m\u001b[0m\n\u001b[1;32m----> 9\u001b[1;33m \u001b[0mvars\u001b[0m\u001b[1;33m(\u001b[0m\u001b[1;33m)\u001b[0m\u001b[1;33m[\u001b[0m\u001b[0mlist\u001b[0m\u001b[1;33m[\u001b[0m\u001b[1;36m0\u001b[0m\u001b[1;33m]\u001b[0m\u001b[1;33m]\u001b[0m\u001b[1;33m.\u001b[0m\u001b[0mtest\u001b[0m\u001b[1;33m(\u001b[0m\u001b[1;33m)\u001b[0m\u001b[1;31m#外部无法引用\u001b[0m\u001b[1;33m\u001b[0m\u001b[0m\n\u001b[0m\u001b[0;32m     10\u001b[0m \u001b[0mvars\u001b[0m\u001b[1;33m(\u001b[0m\u001b[1;33m)\u001b[0m\u001b[1;33m[\u001b[0m\u001b[1;34m'mao'\u001b[0m\u001b[1;33m]\u001b[0m\u001b[1;33m.\u001b[0m\u001b[0mtest\u001b[0m\u001b[1;33m(\u001b[0m\u001b[1;33m)\u001b[0m\u001b[1;31m#外部无法引用\u001b[0m\u001b[1;33m\u001b[0m\u001b[0m\n",
      "\u001b[1;31mKeyError\u001b[0m: 'king'"
     ]
    }
   ],
   "source": [
    "def run1(list):\n",
    "    for i in list:\n",
    "        vars()[i]=user(i)\n",
    "\n",
    "list=['king','mao']\n",
    "#创建字符串函数\n",
    "run1(list)\n",
    "\n",
    "vars()[list[0]].test()#外部无法引用\n",
    "vars()['mao'].test()#外部无法引用\n"
   ]
  },
  {
   "cell_type": "markdown",
   "metadata": {},
   "source": [
    "有的人可能会问，为什么不使用return 反回变量名？这样不就可以在外部被调用了吗？<br>\n",
    "那么，请注意这里程序设计目的是使用字符串作为变量名来调用函数，否则就没有意义了!\n",
    "\n",
    "在笔者关于tkiner的文章——“自动创建并生成对象”中有实际案例"
   ]
  },
  {
   "cell_type": "code",
   "execution_count": 32,
   "metadata": {},
   "outputs": [
    {
     "name": "stdout",
     "output_type": "stream",
     "text": [
      "my name is hebei\n",
      "my name is beijing\n",
      "hebei’s mode：test is running\n",
      "\n"
     ]
    },
    {
     "ename": "ValueError",
     "evalue": "'beijing' is not in list",
     "output_type": "error",
     "traceback": [
      "\u001b[1;31m---------------------------------------------------------------------------\u001b[0m",
      "\u001b[1;31mValueError\u001b[0m                                Traceback (most recent call last)",
      "\u001b[1;32m<ipython-input-32-216343dabf1a>\u001b[0m in \u001b[0;36m<module>\u001b[1;34m()\u001b[0m\n\u001b[0;32m     11\u001b[0m \u001b[1;33m\u001b[0m\u001b[0m\n\u001b[0;32m     12\u001b[0m \u001b[0mget_modes\u001b[0m\u001b[1;33m[\u001b[0m\u001b[1;36m0\u001b[0m\u001b[1;33m]\u001b[0m\u001b[1;33m.\u001b[0m\u001b[0mtest\u001b[0m\u001b[1;33m(\u001b[0m\u001b[1;33m)\u001b[0m\u001b[1;31m#只能通过位置引用\u001b[0m\u001b[1;33m\u001b[0m\u001b[0m\n\u001b[1;32m---> 13\u001b[1;33m \u001b[0mget_modes\u001b[0m\u001b[1;33m[\u001b[0m\u001b[0mget_modes\u001b[0m\u001b[1;33m.\u001b[0m\u001b[0mindex\u001b[0m\u001b[1;33m(\u001b[0m\u001b[1;34m'beijing'\u001b[0m\u001b[1;33m)\u001b[0m\u001b[1;33m]\u001b[0m\u001b[1;33m.\u001b[0m\u001b[0mtest\u001b[0m\u001b[1;33m(\u001b[0m\u001b[1;33m)\u001b[0m\u001b[1;31m#使用字符串定位会报错\u001b[0m\u001b[1;33m\u001b[0m\u001b[0m\n\u001b[0m",
      "\u001b[1;31mValueError\u001b[0m: 'beijing' is not in list"
     ]
    }
   ],
   "source": [
    "def run2(list):\n",
    "    mode_list=[]\n",
    "    for i in list:\n",
    "        vars()[i]=user(i)\n",
    "        mode_list.append(vars()[i])#这里测试尝试将字符串函数添加到数组，再尝试外部引用\n",
    "    return mode_list\n",
    "\n",
    "list=['hebei','beijing']\n",
    "#创建字符串函数\n",
    "get_modes=run2(list)\n",
    "\n",
    "get_modes[0].test()#只能通过位置引用\n",
    "get_modes[get_modes.index('beijing')].test()#使用字符串定位会报错"
   ]
  }
 ],
 "metadata": {
  "kernelspec": {
   "display_name": "Python 3",
   "language": "python",
   "name": "python3"
  },
  "language_info": {
   "codemirror_mode": {
    "name": "ipython",
    "version": 3
   },
   "file_extension": ".py",
   "mimetype": "text/x-python",
   "name": "python",
   "nbconvert_exporter": "python",
   "pygments_lexer": "ipython3",
   "version": "3.7.0"
  }
 },
 "nbformat": 4,
 "nbformat_minor": 2
}
