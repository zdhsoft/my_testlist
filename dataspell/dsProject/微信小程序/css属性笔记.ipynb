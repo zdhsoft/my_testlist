{
 "cells": [
  {
   "cell_type": "markdown",
   "metadata": {},
   "source": [
    "# view元素 水平居中、上下左右"
   ]
  },
  {
   "cell_type": "markdown",
   "metadata": {},
   "source": [
    "## 首先父元素使用如下属性"
   ]
  },
  {
   "cell_type": "code",
   "execution_count": null,
   "metadata": {},
   "outputs": [],
   "source": [
    ".center_farther .right_farther .left_farther .top_farther .bottom_farther{\n",
    "  display: flex;\n",
    "  position: relative;/*父元素位置要设置为相对*/ \n",
    "}"
   ]
  },
  {
   "cell_type": "markdown",
   "metadata": {},
   "source": [
    "## 其次子元素添加如下属性即可"
   ]
  },
  {
   "cell_type": "code",
   "execution_count": null,
   "metadata": {},
   "outputs": [],
   "source": [
    ".center{\n",
    "  align-items: center;\n",
    "  margin: 0 auto;\n",
    "}\n",
    "\n",
    ".right_alone{\n",
    "  /* 单独元素靠右*/\n",
    "  display: inline;\n",
    "  float: right;\n",
    "}\n",
    "\n",
    ".right{\n",
    "  /* 悬浮靠右，用于和其它元素右对齐 */\n",
    "  position: absolute; \n",
    "  right: 0;\n",
    "}"
   ]
  },
  {
   "cell_type": "markdown",
   "metadata": {},
   "source": [
    "# 文字的垂直居中"
   ]
  },
  {
   "cell_type": "code",
   "execution_count": null,
   "metadata": {},
   "outputs": [],
   "source": [
    "首先给父元素添加css属性\n",
    "{\n",
    "  height: 100%;\n",
    "}\n",
    "其次在文字元素添加css属性\n",
    "{\n",
    "  display: flex;\n",
    "  align-items: center;\n",
    "}"
   ]
  },
  {
   "cell_type": "markdown",
   "metadata": {},
   "source": [
    "# 多元素的很纵向布局"
   ]
  },
  {
   "cell_type": "markdown",
   "metadata": {},
   "source": [
    "## 纵向布局"
   ]
  },
  {
   "cell_type": "code",
   "execution_count": 1,
   "metadata": {},
   "outputs": [],
   "source": [
    ".flex-row{\n",
    "    display:flex;\n",
    "    flex-direction: row;\n",
    "}"
   ]
  },
  {
   "cell_type": "markdown",
   "metadata": {},
   "source": [
    "## 横向布局"
   ]
  },
  {
   "cell_type": "code",
   "execution_count": 2,
   "metadata": {},
   "outputs": [],
   "source": [
    ".flex-column{\n",
    "    display:flex;\n",
    "    flex-direction: column;\n",
    "}"
   ]
  },
  {
   "cell_type": "markdown",
   "metadata": {},
   "source": [
    "# 设置圆形背景样式"
   ]
  },
  {
   "cell_type": "code",
   "execution_count": null,
   "metadata": {},
   "outputs": [],
   "source": [
    ".clickYes {\n",
    "  width: 60rpx;\n",
    "  border-radius: 50%;\n",
    "  text-align: center;\n",
    "  color: #fff;\n",
    "  background-color: green;\n",
    "  margin: 0 auto;\n",
    "}"
   ]
  },
  {
   "cell_type": "markdown",
   "metadata": {},
   "source": [
    "# 将元素悬浮在顶部"
   ]
  },
  {
   "cell_type": "code",
   "execution_count": null,
   "metadata": {},
   "outputs": [],
   "source": [
    ".section-fixed {\n",
    "  position: fixed;\n",
    "  top: 0;\n",
    "  z-index:9；\n",
    "}"
   ]
  },
  {
   "cell_type": "markdown",
   "metadata": {},
   "source": [
    "# 设置显示层级"
   ]
  },
  {
   "cell_type": "code",
   "execution_count": null,
   "metadata": {},
   "outputs": [],
   "source": [
    "z-index:9;"
   ]
  },
  {
   "cell_type": "markdown",
   "metadata": {},
   "source": [
    "设置的值愈大，就在越顶层"
   ]
  },
  {
   "cell_type": "markdown",
   "metadata": {},
   "source": [
    "# 添加按钮点击效果"
   ]
  },
  {
   "cell_type": "markdown",
   "metadata": {},
   "source": [
    "在元素中添加如下属性 hover-class=\"css属性名称\""
   ]
  },
  {
   "cell_type": "markdown",
   "metadata": {},
   "source": [
    "如<view hover-class=\"click_friend_list\">hello</view>\n",
    "#css文件中需要click_friend_list"
   ]
  }
 ],
 "metadata": {
  "kernelspec": {
   "display_name": "Python 3",
   "language": "python",
   "name": "python3"
  },
  "language_info": {
   "codemirror_mode": {
    "name": "ipython",
    "version": 3
   },
   "file_extension": ".py",
   "mimetype": "text/x-python",
   "name": "python",
   "nbconvert_exporter": "python",
   "pygments_lexer": "ipython3",
   "version": "3.7.0"
  }
 },
 "nbformat": 4,
 "nbformat_minor": 2
}
