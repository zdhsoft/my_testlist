{
 "cells": [
  {
   "cell_type": "markdown",
   "metadata": {},
   "source": [
    "# 图像显示"
   ]
  },
  {
   "cell_type": "markdown",
   "metadata": {},
   "source": [
    "## 获取网络上的图片，很简单"
   ]
  },
  {
   "cell_type": "code",
   "execution_count": null,
   "metadata": {},
   "outputs": [],
   "source": [
    "<image src=\"链接/本地路径\" class=\"img\"></image>"
   ]
  },
  {
   "cell_type": "markdown",
   "metadata": {},
   "source": [
    "具体例子:"
   ]
  },
  {
   "cell_type": "markdown",
   "metadata": {},
   "source": [
    "## js中改变图片路径要把图片数据变为数组"
   ]
  },
  {
   "cell_type": "markdown",
   "metadata": {},
   "source": [
    "wxml中"
   ]
  },
  {
   "cell_type": "code",
   "execution_count": null,
   "metadata": {},
   "outputs": [],
   "source": [
    "<image src=\"{{img}}\" class=\"img\" bindtap=\"changeImg\"></image>"
   ]
  },
  {
   "cell_type": "markdown",
   "metadata": {},
   "source": [
    "js中"
   ]
  },
  {
   "cell_type": "code",
   "execution_count": null,
   "metadata": {},
   "outputs": [],
   "source": [
    "Page({\n",
    "    data:{\n",
    "        img:\"img/img1.png\",\n",
    "    },\n",
    "    \n",
    "    changeImg: function(e) {\n",
    "        var path=\"img/img2.png\"\n",
    "        self.setData({\n",
    "          img: path.split(',')//这里，需要转换为数组，也就是加上.split(\",\")\n",
    "        })\n",
    "    },\n",
    "    \n",
    "})"
   ]
  },
  {
   "cell_type": "markdown",
   "metadata": {},
   "source": [
    "# 图片点击预览与扫描二维码"
   ]
  },
  {
   "cell_type": "markdown",
   "metadata": {},
   "source": [
    "* 关于扫描二维码：<br>\n",
    "小程序只支持扫描小程序码，不支持扫描普通二维码。<p>\n",
    "* 以下代码为点击图片出现预览界面.\n"
   ]
  },
  {
   "cell_type": "markdown",
   "metadata": {},
   "source": [
    "## wxml中的代码"
   ]
  },
  {
   "cell_type": "code",
   "execution_count": null,
   "metadata": {},
   "outputs": [],
   "source": [
    "<text class='search_no'>点击可保存及分享二维码</text>\n",
    "<view class='view_img' >\n",
    "    <image class='img' bindtap=\"previewImage\" src='{{scene}}'></image>\n",
    "</view>"
   ]
  },
  {
   "cell_type": "markdown",
   "metadata": {},
   "source": [
    "## js中的代码"
   ]
  },
  {
   "cell_type": "code",
   "execution_count": null,
   "metadata": {},
   "outputs": [],
   "source": [
    "var app = getApp();\n",
    "Page({\n",
    "  data: {\n",
    "    scene: ''\n",
    "  },\n",
    "  onLoad: function (options) {\n",
    "    var that = this\n",
    "    var scene_img = '' //这里添加图片的地址\n",
    "    that.setData({\n",
    "      scene: scene_img\n",
    "    })\n",
    "  },\n",
    "  previewImage: function (e) {\n",
    "    wx.previewImage({\n",
    "      urls: this.data.scene.split(',')\n",
    "      // 需要预览的图片http链接  使用split把字符串转数组。不然会报错\n",
    "    })\n",
    "  }\n",
    "})\n",
    "————————————————\n",
    "版权声明：本文为CSDN博主「a_莲」的原创文章，遵循 CC 4.0 BY-SA 版权协议，转载请附上原文出处链接及本声明。\n",
    "原文链接：https://blog.csdn.net/qq_41241504/article/details/97112066"
   ]
  }
 ],
 "metadata": {
  "kernelspec": {
   "display_name": "Python 3",
   "language": "python",
   "name": "python3"
  },
  "language_info": {
   "codemirror_mode": {
    "name": "ipython",
    "version": 3
   },
   "file_extension": ".py",
   "mimetype": "text/x-python",
   "name": "python",
   "nbconvert_exporter": "python",
   "pygments_lexer": "ipython3",
   "version": "3.7.0"
  }
 },
 "nbformat": 4,
 "nbformat_minor": 2
}
