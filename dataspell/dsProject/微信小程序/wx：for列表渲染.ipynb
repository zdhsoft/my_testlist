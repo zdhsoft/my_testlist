{
 "cells": [
  {
   "cell_type": "markdown",
   "metadata": {},
   "source": [
    "# wx:for循环创建元素的使用方法"
   ]
  },
  {
   "cell_type": "markdown",
   "metadata": {},
   "source": [
    "## js文件中有如下数据"
   ]
  },
  {
   "cell_type": "code",
   "execution_count": null,
   "metadata": {},
   "outputs": [],
   "source": [
    "Page({\n",
    "  data: {\n",
    "    creatElements: ['姓名', '电话', '邮箱']\n",
    "  },\n",
    "    \n",
    "})"
   ]
  },
  {
   "cell_type": "markdown",
   "metadata": {},
   "source": [
    "## wxml中的写法"
   ]
  },
  {
   "cell_type": "code",
   "execution_count": null,
   "metadata": {},
   "outputs": [],
   "source": [
    "<view wx:for=\"{{creatElements}}\" style=\"padding-top:15px;text-align: center;\">\n",
    "  <label>{{index}}</label>\n",
    "  <button>{{item}}</button>\n",
    "</view>"
   ]
  },
  {
   "cell_type": "markdown",
   "metadata": {},
   "source": [
    "### 预览效果<br>\n",
    "<img style=\"float: left;\" src=\"./res/wxfor0.png\" width=\"25%\">"
   ]
  },
  {
   "cell_type": "markdown",
   "metadata": {},
   "source": [
    "### index和item相当于python中的写法"
   ]
  },
  {
   "cell_type": "code",
   "execution_count": 3,
   "metadata": {},
   "outputs": [
    {
     "name": "stdout",
     "output_type": "stream",
     "text": [
      "0\n",
      "姓名\n",
      "1\n",
      "电话\n",
      "2\n",
      "邮箱\n"
     ]
    }
   ],
   "source": [
    "creatElements= ['姓名', '电话', '邮箱']\n",
    "for index,item in enumerate(creatElements):\n",
    "    print(index)\n",
    "    print(item)"
   ]
  },
  {
   "cell_type": "markdown",
   "metadata": {},
   "source": [
    "# 其它类型的数据循环渲染,重点讲述index和item的理解（懂的可以跳过）"
   ]
  },
  {
   "cell_type": "markdown",
   "metadata": {},
   "source": [
    "## 如果wx:for=\"12346789\"，也就是携带的值为字符串。他会把字符串分割成单个字符"
   ]
  },
  {
   "cell_type": "markdown",
   "metadata": {},
   "source": [
    "## 字典形式的"
   ]
  },
  {
   "cell_type": "code",
   "execution_count": null,
   "metadata": {},
   "outputs": [],
   "source": [
    "Page({\n",
    "  data: {\n",
    "    creatElements:{\n",
    "      姓名: 'green',\n",
    "      \"电话\": \"blue\",\n",
    "      邮箱: \"black\"，\n",
    "      '邮箱': \"red\"\n",
    "    } ,\n",
    "  },\n",
    "})"
   ]
  },
  {
   "cell_type": "markdown",
   "metadata": {},
   "source": [
    "wxml中的代码不变"
   ]
  },
  {
   "cell_type": "code",
   "execution_count": null,
   "metadata": {},
   "outputs": [],
   "source": [
    "<view wx:for=\"{{creatElements}}\" wx:key='key' style=\"padding-top:15px;text-align: center;\">\n",
    "  <label>{{index}}</label>\n",
    "  <button>{{item}}</button>\n",
    "</view>"
   ]
  },
  {
   "cell_type": "markdown",
   "metadata": {},
   "source": [
    "### 预览 "
   ]
  },
  {
   "cell_type": "markdown",
   "metadata": {},
   "source": [
    "下图可见，index变为了字典的key，而item则是对应key的值。<br>\n",
    "\"邮箱\"这个键值重复所以被覆盖"
   ]
  },
  {
   "cell_type": "markdown",
   "metadata": {},
   "source": [
    "<img style=\"float: left;\" src=\"./res/wxfor1.png\" width=\"25%\">"
   ]
  },
  {
   "cell_type": "markdown",
   "metadata": {},
   "source": [
    "###  通过函数修改值"
   ]
  },
  {
   "cell_type": "markdown",
   "metadata": {},
   "source": [
    "举例为将邮箱的item设置为\"orange\"<br>\n",
    "缺点是要该的话需要一起修改"
   ]
  },
  {
   "cell_type": "code",
   "execution_count": null,
   "metadata": {},
   "outputs": [],
   "source": [
    "onLoad:function(){\n",
    "    let obj=this.data.creatElements//先拿到字典\n",
    "    obj.邮箱=\"orange\"//在修改值\n",
    "    console.log(obj)\n",
    "    //保存\n",
    "    this.setData({\n",
    "      creatElements: obj,\n",
    "    })\n",
    "  }"
   ]
  },
  {
   "cell_type": "markdown",
   "metadata": {},
   "source": [
    "## 数组中加入多重字典"
   ]
  },
  {
   "cell_type": "markdown",
   "metadata": {},
   "source": [
    "js"
   ]
  },
  {
   "cell_type": "code",
   "execution_count": null,
   "metadata": {},
   "outputs": [],
   "source": [
    "Page({\n",
    "  data: {\n",
    "    creatElements: [\n",
    "      { show: \"电话\", css: \"blue\" },\n",
    "      { show: '邮箱', css: \"black\" },\n",
    "      { show: '邮箱', css: \"red\" }\n",
    "    ]\n",
    "  },\n",
    "})"
   ]
  },
  {
   "cell_type": "markdown",
   "metadata": {},
   "source": [
    "wsml"
   ]
  },
  {
   "cell_type": "code",
   "execution_count": null,
   "metadata": {},
   "outputs": [],
   "source": [
    "<view wx:for=\"{{creatElements}}\" wx:key='key' style=\"margin-top:25px;text-align: center;border: 1px solid #70bcf6;  \">\n",
    "  <label>{{index}}</label>\n",
    "  <button>{{item.show}}</button>\n",
    "  <button>{{item.css}}</button>\n",
    "</view>"
   ]
  },
  {
   "cell_type": "markdown",
   "metadata": {},
   "source": [
    "### 预览"
   ]
  },
  {
   "cell_type": "markdown",
   "metadata": {},
   "source": [
    "index值是数字类型，可以使用如 <code>key:{ show: \"电话\", css: \"blue\" }</code>来为index命名。<br>\n",
    "但是没有定义键名，所以邮箱不会覆盖。"
   ]
  },
  {
   "cell_type": "markdown",
   "metadata": {},
   "source": [
    "<img style=\"float: left;\" src=\"./res/wxfor2.png\" width=\"25%\">"
   ]
  },
  {
   "cell_type": "markdown",
   "metadata": {},
   "source": [
    "# 关于wx:for 中的属性 wx:key=\"{{index}}\""
   ]
  },
  {
   "cell_type": "markdown",
   "metadata": {},
   "source": [
    "这个参数类似html中的id。值应当是唯一且不可变的。默认是wx:key=\"key\"\n",
    "这个按照官网文档说明，有对元素排序的功能"
   ]
  },
  {
   "cell_type": "markdown",
   "metadata": {},
   "source": [
    "#  通过data-xxx属性来使绑定参数"
   ]
  },
  {
   "cell_type": "markdown",
   "metadata": {},
   "source": [
    "## 设置方法"
   ]
  },
  {
   "cell_type": "markdown",
   "metadata": {},
   "source": [
    "该元素将会携带参数elementDate，值为数组dateList中isToday的值"
   ]
  },
  {
   "cell_type": "code",
   "execution_count": null,
   "metadata": {},
   "outputs": [],
   "source": [
    "<view wx:for='{{dateList}}' wx:key=\"*this\" data-elementDate='{{item.isToday}}' bindtap=\"getday\">"
   ]
  },
  {
   "cell_type": "markdown",
   "metadata": {},
   "source": [
    "## 获取该参数的方法\n",
    "e.target.dataset.参数名 或者e.currentTarget.dataset.参数名<br>\n",
    "因为不好确认，可以通过console.log查看一下"
   ]
  },
  {
   "cell_type": "code",
   "execution_count": null,
   "metadata": {},
   "outputs": [],
   "source": [
    "getday:function(e){\n",
    "    console.log(e)\n",
    "    console.log(\"target\",e.target.dataset.elementDate)\n",
    "    console.log(\"currentTarget\",e.currentTarget.dataset.elementDate)\n",
    "    let v=e.currentTarget.dataset.elementDate//或者e.target.dataset.elementDate;\n",
    "    console.log(v)\n",
    "}"
   ]
  },
  {
   "cell_type": "markdown",
   "metadata": {},
   "source": [
    "# 为元素设置不同的CLASS"
   ]
  },
  {
   "cell_type": "code",
   "execution_count": null,
   "metadata": {},
   "outputs": [],
   "source": [
    "Page({\n",
    "  data: {\n",
    "      dateList:[\n",
    "          {day:'2020-01-01'},\n",
    "          {day:'2020-01-02'},\n",
    "      ]\n",
    "    today: '2020-01-01',\n",
    "  },\n",
    "})"
   ]
  },
  {
   "cell_type": "code",
   "execution_count": null,
   "metadata": {},
   "outputs": [],
   "source": [
    "<view wx:for='{{dateList}}' wx:key=\"*this\" class='{{isToday == item.isToday ? \"nowDay\" : \"\"}}'  bindtap=\"getday\" >"
   ]
  },
  {
   "cell_type": "markdown",
   "metadata": {},
   "source": [
    "## 内容解析"
   ]
  },
  {
   "cell_type": "code",
   "execution_count": null,
   "metadata": {},
   "outputs": [],
   "source": [
    "class='{{today == item.day ? \"nowDay\" : \"\"}}'"
   ]
  },
  {
   "cell_type": "markdown",
   "metadata": {},
   "source": [
    "* today是js文件的预设好的参数\n",
    "* item.day为wx:for遍历是dateList中的day\n",
    "* 如果today等于item.day，class则使用nowDay，否则为空即不使用"
   ]
  },
  {
   "cell_type": "markdown",
   "metadata": {},
   "source": [
    "<code>class='{{today? \"nowDay\" : \"\"}}'</code>"
   ]
  },
  {
   "cell_type": "markdown",
   "metadata": {},
   "source": [
    "* 如果today为真，class则使用nowDay，否则为空即不使用"
   ]
  }
 ],
 "metadata": {
  "kernelspec": {
   "display_name": "Python 3",
   "language": "python",
   "name": "python3"
  },
  "language_info": {
   "codemirror_mode": {
    "name": "ipython",
    "version": 3
   },
   "file_extension": ".py",
   "mimetype": "text/x-python",
   "name": "python",
   "nbconvert_exporter": "python",
   "pygments_lexer": "ipython3",
   "version": "3.7.0"
  }
 },
 "nbformat": 4,
 "nbformat_minor": 2
}
