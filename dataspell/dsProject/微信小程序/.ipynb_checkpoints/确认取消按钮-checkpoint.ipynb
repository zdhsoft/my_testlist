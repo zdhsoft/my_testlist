{
 "cells": [
  {
   "cell_type": "code",
   "execution_count": null,
   "metadata": {},
   "outputs": [],
   "source": [
    "wx.showModal({\n",
    "  title: '提示',\n",
    "  content: '这是一个模态弹窗',\n",
    "  success (res) {\n",
    "    if (res.confirm) {\n",
    "      console.log('用户点击确定')\n",
    "    } else if (res.cancel) {\n",
    "      console.log('用户点击取消')\n",
    "    }\n",
    "  }\n",
    "})"
   ]
  }
 ],
 "metadata": {
  "kernelspec": {
   "display_name": "Python 3",
   "language": "python",
   "name": "python3"
  },
  "language_info": {
   "codemirror_mode": {
    "name": "ipython",
    "version": 3
   },
   "file_extension": ".py",
   "mimetype": "text/x-python",
   "name": "python",
   "nbconvert_exporter": "python",
   "pygments_lexer": "ipython3",
   "version": "3.7.0"
  }
 },
 "nbformat": 4,
 "nbformat_minor": 2
}
