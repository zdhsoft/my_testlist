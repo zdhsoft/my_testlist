{
 "cells": [
  {
   "cell_type": "markdown",
   "metadata": {},
   "source": [
    "# navigateTo和navigateBack的基本用法"
   ]
  },
  {
   "cell_type": "markdown",
   "metadata": {},
   "source": [
    "## navigateTo 保存当前页面并跳转到其它页面"
   ]
  },
  {
   "cell_type": "markdown",
   "metadata": {},
   "source": [
    "常用于做设置界面或临时跳转"
   ]
  },
  {
   "cell_type": "code",
   "execution_count": null,
   "metadata": {},
   "outputs": [],
   "source": [
    "wx.navigateTo({\n",
    "      url: '../functionModule/chooseDate/chooseDate',\n",
    "    })"
   ]
  },
  {
   "cell_type": "markdown",
   "metadata": {},
   "source": [
    "## navigateBack"
   ]
  },
  {
   "cell_type": "code",
   "execution_count": null,
   "metadata": {},
   "outputs": [],
   "source": [
    "//返回到保存的上一页\n",
    "wx.navigateBack({\n",
    "              delta: 1\n",
    "            })"
   ]
  },
  {
   "cell_type": "markdown",
   "metadata": {},
   "source": [
    "## 获取保存的页面内容"
   ]
  },
  {
   "cell_type": "code",
   "execution_count": null,
   "metadata": {},
   "outputs": [],
   "source": [
    "var pages = getCurrentPages();//获取保存的页面\n",
    "var currPage = pages[pages.length - 1]; //当前页面\n",
    "var prevPage = pages[pages.length - 2]; //上一个页面"
   ]
  },
  {
   "cell_type": "markdown",
   "metadata": {},
   "source": [
    "# 传递参数给给上一页或前几页"
   ]
  },
  {
   "cell_type": "markdown",
   "metadata": {},
   "source": [
    "js中可以直接获取到上一页或前几页的data数据，直接赋值即可。"
   ]
  },
  {
   "cell_type": "markdown",
   "metadata": {},
   "source": [
    "## 比如你当前页的js文件中有一个数据名为test"
   ]
  },
  {
   "cell_type": "code",
   "execution_count": null,
   "metadata": {},
   "outputs": [],
   "source": [
    "//第一页\n",
    "Page({\n",
    "    test:1\n",
    "})"
   ]
  },
  {
   "cell_type": "markdown",
   "metadata": {},
   "source": [
    "## 并做了以下跳转"
   ]
  },
  {
   "cell_type": "code",
   "execution_count": null,
   "metadata": {},
   "outputs": [],
   "source": [
    "x.navigateTo({\n",
    "      url: '../page2/page2',\n",
    "    })"
   ]
  },
  {
   "cell_type": "markdown",
   "metadata": {},
   "source": [
    "## 在第二页的js文件某个函数中，可以做如下操作，直接把值赋给上一页的test"
   ]
  },
  {
   "cell_type": "code",
   "execution_count": null,
   "metadata": {},
   "outputs": [],
   "source": [
    "setLastPageData() {\n",
    "    var pages = getCurrentPages();//获取保存的页面\n",
    "    var prevPage = pages[pages.length - 2];//-2为获取上一页\n",
    "    //将值赋值给上一页的data，相当于在上一页使用的this.setData\n",
    "    prevPage.setData({\n",
    "      date: date\n",
    "    })\n",
    "    //返回上一页\n",
    "    wx.navigateBack({\n",
    "      delta: 1\n",
    "    })\n",
    "    \n",
    "}"
   ]
  },
  {
   "cell_type": "markdown",
   "metadata": {},
   "source": [
    "## 返回上一页后，如果有xml元素引用了test这个值，页面显示也会随之改变"
   ]
  },
  {
   "cell_type": "markdown",
   "metadata": {},
   "source": [
    "# 将参数传递给下一个页面"
   ]
  },
  {
   "cell_type": "markdown",
   "metadata": {},
   "source": [
    "## 只是传递简单的字符串或变量"
   ]
  },
  {
   "cell_type": "markdown",
   "metadata": {},
   "source": [
    "### 当前页跳转链接加上以下内容即可\n",
    "?key1=value1&key2=value2来传递参数"
   ]
  },
  {
   "cell_type": "code",
   "execution_count": null,
   "metadata": {},
   "outputs": [],
   "source": [
    "var fb_id = 132\n",
    "wx.navigateTo({\n",
    "      url: `../free/sellers/sellers?fb_id=${fb_id}`,\n",
    "    })"
   ]
  },
  {
   "cell_type": "markdown",
   "metadata": {},
   "source": [
    "### 然后在下一页的onLoad函数中接收"
   ]
  },
  {
   "cell_type": "code",
   "execution_count": null,
   "metadata": {},
   "outputs": [],
   "source": [
    "onLoad: function (options) {\n",
    "    var fb_id = options.fb_id;\n",
    "}"
   ]
  },
  {
   "cell_type": "markdown",
   "metadata": {},
   "source": [
    "## 传递数组给下一页"
   ]
  },
  {
   "cell_type": "markdown",
   "metadata": {},
   "source": [
    "### 当前页"
   ]
  },
  {
   "cell_type": "code",
   "execution_count": null,
   "metadata": {},
   "outputs": [],
   "source": [
    "let friendList = encodeURIComponent(JSON.stringify(this.data.friendList))\n",
    "    wx.navigateTo({\n",
    "      url: '../functionModule/chooseFriends/chooseFriends?friendList=' + friendList,\n",
    "    })"
   ]
  },
  {
   "cell_type": "markdown",
   "metadata": {},
   "source": [
    "### 下一页"
   ]
  },
  {
   "cell_type": "code",
   "execution_count": null,
   "metadata": {},
   "outputs": [],
   "source": [
    "onLoad:function(options){\n",
    "    //如果数组为空，上方内容运行时会报错，所以要用try\n",
    "    try {\n",
    "      let acceptList = JSON.parse(decodeURIComponent(e.friendList))\n",
    "      console.log(\"accept last page ddata :\", acceptList)\n",
    "      \n",
    "    } catch (e) {\n",
    "      let acceptList=[]\n",
    "    }"
   ]
  },
  {
   "cell_type": "markdown",
   "metadata": {},
   "source": [
    "### 注意：\n",
    "* 字节比较长的数组一定要加上encodeURIComponent和decodeURIComponent，否则接收到的内容不全；\n",
    "* 如果只是字节比较短的数组，可以直接去掉encodeURIComponent和decodeURIComponent。"
   ]
  }
 ],
 "metadata": {
  "kernelspec": {
   "display_name": "Python 3",
   "language": "python",
   "name": "python3"
  },
  "language_info": {
   "codemirror_mode": {
    "name": "ipython",
    "version": 3
   },
   "file_extension": ".py",
   "mimetype": "text/x-python",
   "name": "python",
   "nbconvert_exporter": "python",
   "pygments_lexer": "ipython3",
   "version": "3.7.0"
  }
 },
 "nbformat": 4,
 "nbformat_minor": 2
}
