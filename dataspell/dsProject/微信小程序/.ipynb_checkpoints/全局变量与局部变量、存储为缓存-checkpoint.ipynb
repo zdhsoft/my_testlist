{
 "cells": [
  {
   "cell_type": "markdown",
   "metadata": {},
   "source": [
    "# 全局变量与局部变量介绍\n",
    "* 全局变量是存储在app.js中的变量<br>\n",
    "* 局部变量是存储在各个页面的变量<br>"
   ]
  },
  {
   "cell_type": "markdown",
   "metadata": {},
   "source": [
    "全局缓存图示,globalData是自定义的，但是考虑到规范性，不建议改<br>\n",
    "<img style=\"float: left;\" src=\"./res/cash0.png\" width=\"25%\">"
   ]
  },
  {
   "cell_type": "markdown",
   "metadata": {},
   "source": [
    "局部缓存图示,变量名data是默认的<br>\n",
    "<img style=\"float: left;\" src=\"./res/cash1.png\" width=\"50%\">"
   ]
  },
  {
   "cell_type": "markdown",
   "metadata": {},
   "source": [
    "# 变量调用方法"
   ]
  },
  {
   "cell_type": "markdown",
   "metadata": {},
   "source": [
    "## 全局变量的获取"
   ]
  },
  {
   "cell_type": "code",
   "execution_count": null,
   "metadata": {},
   "outputs": [],
   "source": [
    "const app = getApp()\n",
    "var a = app.globalData.headImg"
   ]
  },
  {
   "cell_type": "markdown",
   "metadata": {},
   "source": [
    "## 全局变量的保存"
   ]
  },
  {
   "cell_type": "code",
   "execution_count": null,
   "metadata": {},
   "outputs": [],
   "source": [
    "const app = getApp()\n",
    "app.globalData.headImg=\"123.png\""
   ]
  },
  {
   "cell_type": "markdown",
   "metadata": {},
   "source": [
    "## 局部变量的获取"
   ]
  },
  {
   "cell_type": "code",
   "execution_count": null,
   "metadata": {},
   "outputs": [],
   "source": [
    "test: function(e) {\n",
    "    var a = this.data.loginIMG//即获取data中的loginIMG参数\n",
    "  },\n",
    "#上述操作在不分情况下可能会无法使用，需要做如下设置\n",
    "test: function(e) {\n",
    "    var self=this//开头就存储this，因为往下，this的含义可能就变了\n",
    "    //...\n",
    "    //...\n",
    "    //...\n",
    "    var a = self.data.loginIMG//用开头声明的self来调用变量\n",
    "  },"
   ]
  },
  {
   "cell_type": "markdown",
   "metadata": {},
   "source": [
    "## 局部变量保存"
   ]
  },
  {
   "cell_type": "code",
   "execution_count": null,
   "metadata": {},
   "outputs": [],
   "source": [
    "this.setData({\n",
    "        loginIMG: '你好',\n",
    "    });"
   ]
  },
  {
   "cell_type": "code",
   "execution_count": null,
   "metadata": {},
   "outputs": [],
   "source": [
    "//只修数组中的单个参数并保存\n",
    "this.setData({\n",
    "      ['friendList.' + x + '[' + 0 + '].choosed']: true,\n",
    "      choiceList: choiceList\n",
    "    })\n",
    "\n",
    "//data中的变量\n",
    "friendList:{\n",
    "    x:[{name:\"张三\",choosed:false},{name:\"李四\",choosed:false}]\n",
    "}"
   ]
  },
  {
   "cell_type": "markdown",
   "metadata": {},
   "source": [
    "# 将变量存入缓存storage\n",
    "官方文档 https://developers.weixin.qq.com/miniprogram/dev/api/storage/wx.getStorageInfo.html"
   ]
  },
  {
   "cell_type": "markdown",
   "metadata": {},
   "source": [
    "## 多个存储"
   ]
  },
  {
   "cell_type": "code",
   "execution_count": null,
   "metadata": {},
   "outputs": [],
   "source": [
    "wx.setStorage({\n",
    "  key:\"value\",\n",
    "  data:\"value\"\n",
    "})"
   ]
  },
  {
   "cell_type": "markdown",
   "metadata": {},
   "source": [
    "## 单个存储"
   ]
  },
  {
   "cell_type": "code",
   "execution_count": null,
   "metadata": {},
   "outputs": [],
   "source": [
    "wx.setStorageSync('key', 'value')\n",
    "\n",
    "#或\n",
    "\n",
    "try {\n",
    "  wx.setStorageSync('key', 'value')\n",
    "} catch (e) { }"
   ]
  },
  {
   "cell_type": "markdown",
   "metadata": {},
   "source": [
    "## 获取"
   ]
  },
  {
   "cell_type": "code",
   "execution_count": null,
   "metadata": {},
   "outputs": [],
   "source": [
    "\n",
    "wx.getStorageSync(KEY)\n",
    "wx.getStorageInfoSync"
   ]
  },
  {
   "cell_type": "markdown",
   "metadata": {},
   "source": [
    "## 删除单个缓存变量"
   ]
  },
  {
   "cell_type": "code",
   "execution_count": null,
   "metadata": {},
   "outputs": [],
   "source": [
    "\n",
    "wx.removeStorageSync(KEY)\n",
    "#或\n",
    "wx.removeStorage({\n",
    "  key: 'key',//需要删除的键\n",
    "  success (res) {//如果删除成功，执行以下操作\n",
    "    console.log(res)\n",
    "  }\n",
    "})\n",
    "\n",
    "#或\n",
    "try {\n",
    "  wx.removeStorageSync('key')\n",
    "} catch (e) {\n",
    "  // Do something when catch error\n",
    "}"
   ]
  },
  {
   "cell_type": "markdown",
   "metadata": {},
   "source": [
    "## 清楚全部缓存"
   ]
  },
  {
   "cell_type": "code",
   "execution_count": null,
   "metadata": {},
   "outputs": [],
   "source": [
    "wx.clearStorageSync()"
   ]
  }
 ],
 "metadata": {
  "kernelspec": {
   "display_name": "Python 3",
   "language": "python",
   "name": "python3"
  },
  "language_info": {
   "codemirror_mode": {
    "name": "ipython",
    "version": 3
   },
   "file_extension": ".py",
   "mimetype": "text/x-python",
   "name": "python",
   "nbconvert_exporter": "python",
   "pygments_lexer": "ipython3",
   "version": "3.7.0"
  }
 },
 "nbformat": 4,
 "nbformat_minor": 2
}
