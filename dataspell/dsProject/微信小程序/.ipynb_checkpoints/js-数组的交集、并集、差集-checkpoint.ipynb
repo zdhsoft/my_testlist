{
 "cells": [
  {
   "cell_type": "code",
   "execution_count": null,
   "metadata": {},
   "outputs": [],
   "source": [
    "var a = [1,2,3,4,5]\n",
    "var b = [2,4,6,8,10]\n",
    "//交集\n",
    "var c = a.filter(function(v){ return b.indexOf(v) > -1 })\n",
    "//差集\n",
    "var d = a.filter(function(v){ return b.indexOf(v) == -1 })\n",
    "//补集\n",
    "var e = a.filter(function(v){ return !(b.indexOf(v) > -1) })\n",
    " .concat(b.filter(function(v){ return !(a.indexOf(v) > -1)}))\n",
    "//并集\n",
    "var f = a.concat(b.filter(function(v){ return !(a.indexOf(v) > -1)}));\n",
    "console.log(\"数组a：\", a);"
   ]
  }
 ],
 "metadata": {
  "kernelspec": {
   "display_name": "Python 3",
   "language": "python",
   "name": "python3"
  },
  "language_info": {
   "codemirror_mode": {
    "name": "ipython",
    "version": 3
   },
   "file_extension": ".py",
   "mimetype": "text/x-python",
   "name": "python",
   "nbconvert_exporter": "python",
   "pygments_lexer": "ipython3",
   "version": "3.7.0"
  }
 },
 "nbformat": 4,
 "nbformat_minor": 2
}
