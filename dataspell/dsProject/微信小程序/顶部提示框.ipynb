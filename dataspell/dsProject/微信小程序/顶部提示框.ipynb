{
 "cells": [
  {
   "cell_type": "markdown",
   "metadata": {},
   "source": [
    "# wxml部分"
   ]
  },
  {
   "cell_type": "code",
   "execution_count": null,
   "metadata": {},
   "outputs": [],
   "source": [
    "<view class=\"message\">\n",
    "    <text class=\"message_anit {{show?'show':''}}\" style=\"background: {{mesg_color}};\">{{mesg_text}}</text>\n",
    "</view>"
   ]
  },
  {
   "cell_type": "markdown",
   "metadata": {},
   "source": [
    "# xcss部分"
   ]
  },
  {
   "cell_type": "code",
   "execution_count": null,
   "metadata": {},
   "outputs": [],
   "source": [
    ".message {\n",
    "  height:100%;\n",
    "  display: flex;\n",
    "  flex-direction: column;\n",
    "  align-items: center;\n",
    "}\n",
    ".message_anit{\n",
    "  width: 100%;\n",
    "  height: 40px;\n",
    "  position: absolute;\n",
    "  color: white;\n",
    "  font-size: 16px;\n",
    "  line-height: 40px;\n",
    "  top: -40px;\n",
    "  text-align: center;\n",
    "}\n",
    ".show{\n",
    "  top: -40px;\n",
    "  animation: show 2s;\n",
    "  animation-timing-function:ease;\n",
    "}\n",
    "/* 动画 */\n",
    "@keyframes show\n",
    "{\n",
    "  0% {top:-40px;}\n",
    "  10% {top:0rpx;}\n",
    "  80% {top:0rpx;}\n",
    "  100% {top:-40px;}\n",
    "}"
   ]
  },
  {
   "cell_type": "markdown",
   "metadata": {},
   "source": [
    "# js部分"
   ]
  },
  {
   "cell_type": "code",
   "execution_count": null,
   "metadata": {},
   "outputs": [],
   "source": [
    "const app = getApp()\n",
    "\n",
    "Page({\n",
    "\n",
    "  data: {\n",
    "    mesg_text: '',\n",
    "    mesg_color: '',\n",
    "    mesg_show: 0,\n",
    "  },\n",
    "  \n",
    "\n",
    "\n",
    "  \n",
    "  onLoad: function() {\n",
    "    var self = this\n",
    "    self.showMessage('请先登陆', 'red')\n",
    "  },\n",
    "\n",
    "  \n",
    "  //========================== 顶部消息显示函数\n",
    "  // 调用方法，例如\n",
    "  //   var that = this;\n",
    "  //   that.showMessage('你好', 'green')\n",
    "  showMessage: function (text, bgcolor) {\n",
    "    let that = this;\n",
    "    this.setData({\n",
    "      mesg_text: text,\n",
    "      mesg_color: bgcolor,\n",
    "      show: 1,\n",
    "    })\n",
    "    setTimeout(function () {\n",
    "      that.setData({\n",
    "        show: 0\n",
    "      })\n",
    "    }, 2000)\n",
    "  },\n",
    "\n",
    "\n",
    "\n",
    "})"
   ]
  },
  {
   "cell_type": "markdown",
   "metadata": {},
   "source": [
    "# 预览效果"
   ]
  },
  {
   "cell_type": "markdown",
   "metadata": {},
   "source": [
    "<img style=\"float: left;\" src=\"./res/demo0.png\" width=\"25%\">"
   ]
  }
 ],
 "metadata": {
  "kernelspec": {
   "display_name": "Python 3",
   "language": "python",
   "name": "python3"
  },
  "language_info": {
   "codemirror_mode": {
    "name": "ipython",
    "version": 3
   },
   "file_extension": ".py",
   "mimetype": "text/x-python",
   "name": "python",
   "nbconvert_exporter": "python",
   "pygments_lexer": "ipython3",
   "version": "3.7.0"
  }
 },
 "nbformat": 4,
 "nbformat_minor": 2
}
