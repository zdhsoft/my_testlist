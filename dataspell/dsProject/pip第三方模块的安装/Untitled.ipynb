{
 "cells": [
  {
   "cell_type": "markdown",
   "metadata": {},
   "source": [
    "# 报错合集"
   ]
  },
  {
   "cell_type": "markdown",
   "metadata": {},
   "source": [
    "## 报错信息：While reading from '/Users/***/.pip/pip.conf' [line 4]: option 'extra-index-url' in section 'global' already exists"
   ]
  },
  {
   "cell_type": "raw",
   "metadata": {},
   "source": [
    "1. 打开报错路径\n",
    "2. 填写以下内容\n",
    "\n",
    "[global]\n",
    "index-url=https://mirrors.aliyun.com/pypi/simple/\n",
    "extra-index-url=\n",
    "  https://pypi.tuna.tsinghua.edu.cn/simple/\n",
    "  https://pypi.mirrors.ustc.edu.cn/simple/\n",
    "  https://pypi.douban.com/simple/\n",
    "  \n",
    "[install]\n",
    "trusted-host=mirrors.aliyun.com"
   ]
  }
 ],
 "metadata": {
  "kernelspec": {
   "display_name": "Python 3",
   "language": "python",
   "name": "python3"
  },
  "language_info": {
   "codemirror_mode": {
    "name": "ipython",
    "version": 3
   },
   "file_extension": ".py",
   "mimetype": "text/x-python",
   "name": "python",
   "nbconvert_exporter": "python",
   "pygments_lexer": "ipython3",
   "version": "3.7.0"
  }
 },
 "nbformat": 4,
 "nbformat_minor": 2
}
