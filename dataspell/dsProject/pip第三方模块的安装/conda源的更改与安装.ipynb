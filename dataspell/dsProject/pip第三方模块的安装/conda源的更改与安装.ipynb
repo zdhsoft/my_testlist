{
 "cells": [
  {
   "cell_type": "markdown",
   "metadata": {},
   "source": [
    "# 1.conda源的更改"
   ]
  },
  {
   "cell_type": "raw",
   "metadata": {},
   "source": [
    "#添加源\n",
    "conda config --add channels https://mirrors.tuna.tsinghua.edu.cn/anaconda/pkgs/free/\n",
    "#确认\n",
    "conda config --set show_channel_urls yes"
   ]
  },
  {
   "cell_type": "markdown",
   "metadata": {},
   "source": [
    "## 免费源\n",
    "    国内镜像地址：\n",
    "    阿里云 http://mirrors.aliyun.com/pypi/simple/\n",
    "    中国科技大学 https://pypi.mirrors.ustc.edu.cn/simple/\n",
    "    豆瓣(douban) http://pypi.douban.com/simple/\n",
    "    清华大学 https://pypi.tuna.tsinghua.edu.cn/simple/\n",
    "    中国科学技术大学 http://pypi.mirrors.ustc.edu.cn/simple/\n"
   ]
  },
  {
   "cell_type": "markdown",
   "metadata": {},
   "source": [
    "# 2.恢复为默认源"
   ]
  },
  {
   "cell_type": "raw",
   "metadata": {},
   "source": [
    "conda config --remove-key channels"
   ]
  },
  {
   "cell_type": "markdown",
   "metadata": {},
   "source": [
    "# 3.离线安装"
   ]
  },
  {
   "cell_type": "raw",
   "metadata": {},
   "source": [
    "1.将下载的安装包放入conda中的pkgs文件夹。（镜像源下载：http://pypi.doubanio.com/simple）（anaconda官方源：https://anaconda.org/anaconda/repo）\n",
    "2.下载下来一般是json5-0.8.5.tar.gz，解压出来变为json5-0.8.5命名的文件夹\n",
    "3.安装 conda install json5==0.8.5 --offline （ps： ==3.10.版本号可以不用输入）\n",
    "也可以 conda install --use-local json5或whl文件名\n",
    "4.bz2后缀的压缩包 直接使用conda install 文件路径  即可安装"
   ]
  }
 ],
 "metadata": {
  "kernelspec": {
   "display_name": "Python 3",
   "language": "python",
   "name": "python3"
  },
  "language_info": {
   "codemirror_mode": {
    "name": "ipython",
    "version": 3
   },
   "file_extension": ".py",
   "mimetype": "text/x-python",
   "name": "python",
   "nbconvert_exporter": "python",
   "pygments_lexer": "ipython3",
   "version": "3.7.0"
  }
 },
 "nbformat": 4,
 "nbformat_minor": 2
}
