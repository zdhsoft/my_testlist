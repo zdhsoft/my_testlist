{
 "cells": [
  {
   "cell_type": "markdown",
   "metadata": {},
   "source": [
    "selenium的安装"
   ]
  },
  {
   "cell_type": "markdown",
   "metadata": {},
   "source": [
    "使用教程https://selenium-python-zh.readthedocs.io/en/latest/navigating.html"
   ]
  },
  {
   "cell_type": "markdown",
   "metadata": {},
   "source": [
    "# 滚动条操作：使元素与页面底部对齐"
   ]
  },
  {
   "cell_type": "code",
   "execution_count": null,
   "metadata": {},
   "outputs": [],
   "source": [
    "chrome.execute_script(\"arguments[0].scrollIntoView(false);\", 元素)#取缔啊false为顶部对齐"
   ]
  },
  {
   "cell_type": "code",
   "execution_count": null,
   "metadata": {},
   "outputs": [],
   "source": [
    "#拖动滚动条至底部\n",
    "js1=\"document.documentElement.scrollTop=10000\"\n",
    "driver.execute_script(js1)\n",
    "#拖动滚动条至顶部\n",
    "js2=\"document.documentElement.scrollTop=0\"\n",
    "driver.execute_script(js2)"
   ]
  },
  {
   "cell_type": "markdown",
   "metadata": {},
   "source": [
    "# 关闭左上角自动化提示"
   ]
  },
  {
   "cell_type": "code",
   "execution_count": null,
   "metadata": {},
   "outputs": [],
   "source": [
    "options.add_experimental_option('prefs', prefs)  # 关掉浏览器左上角的通知提示\n",
    "options.add_argument(\"disable-infobars\")  # 关闭'chrome正受到自动测试软件的控制'提示"
   ]
  },
  {
   "cell_type": "markdown",
   "metadata": {},
   "source": [
    "#获取元素内的属性"
   ]
  },
  {
   "cell_type": "code",
   "execution_count": null,
   "metadata": {},
   "outputs": [],
   "source": [
    "a=article_element.find_elements_by_tag_name('a')[0]\n",
    "h = a.get_attribute('href')#获取href属性"
   ]
  }
 ],
 "metadata": {
  "kernelspec": {
   "display_name": "Python 3",
   "language": "python",
   "name": "python3"
  },
  "language_info": {
   "codemirror_mode": {
    "name": "ipython",
    "version": 3
   },
   "file_extension": ".py",
   "mimetype": "text/x-python",
   "name": "python",
   "nbconvert_exporter": "python",
   "pygments_lexer": "ipython3",
   "version": "3.7.0"
  }
 },
 "nbformat": 4,
 "nbformat_minor": 2
}
