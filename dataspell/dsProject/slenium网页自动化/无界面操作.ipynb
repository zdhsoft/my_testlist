{
 "cells": [
  {
   "cell_type": "code",
   "execution_count": null,
   "metadata": {},
   "outputs": [],
   "source": [
    "from selenium import webdriver                 \n",
    "\n",
    "chrome_options = webdriver.ChromeOptions()    \n",
    "\n",
    "chrome_options.add_argument('--no-sandbox')#解决DevToolsActivePort文件不存在的报错\n",
    "chrome_options.add_argument('--disable-gpu') #谷歌文档提到需要加上这个属性来规避bug\n",
    "chrome_options.add_argument('--headless') #浏览器不提供可视化页面. linux下如果系统不支持可视化不加这条会启动失败\n",
    "                           \n",
    "driver = webdriver.Chrome(chrome_options=chrome_options)                             \n",
    "driver.get('http://www.baidu.com')                                                   \n",
    "driver.save_screenshot('/Users/hnbl009/gitfile/webtest/pyhon_zh_web/logs/ceshi.png')"
   ]
  },
  {
   "cell_type": "markdown",
   "metadata": {},
   "source": [
    "# 其它"
   ]
  },
  {
   "cell_type": "code",
   "execution_count": null,
   "metadata": {},
   "outputs": [],
   "source": [
    "chrome_options.add_argument('window-size=1920x3000') #指定浏览器分辨率\n",
    "chrome_options.add_argument('--hide-scrollbars') #隐藏滚动条, 应对一些特殊页面\n",
    "chrome_options.add_argument('blink-settings=imagesEnabled=false') #不加载图片, 提升速度"
   ]
  }
 ],
 "metadata": {
  "kernelspec": {
   "display_name": "Python 3",
   "language": "python",
   "name": "python3"
  },
  "language_info": {
   "codemirror_mode": {
    "name": "ipython",
    "version": 3
   },
   "file_extension": ".py",
   "mimetype": "text/x-python",
   "name": "python",
   "nbconvert_exporter": "python",
   "pygments_lexer": "ipython3",
   "version": "3.7.0"
  }
 },
 "nbformat": 4,
 "nbformat_minor": 2
}
