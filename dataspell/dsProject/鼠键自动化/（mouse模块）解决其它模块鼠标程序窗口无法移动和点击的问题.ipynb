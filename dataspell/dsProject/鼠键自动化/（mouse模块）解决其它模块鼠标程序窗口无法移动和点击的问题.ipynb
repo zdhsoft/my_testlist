{
 "cells": [
  {
   "cell_type": "markdown",
   "metadata": {},
   "source": [
    "## 前沿\n",
    "    想制作一个梦幻西游脚本软件，但是使用pymouse、win32、pyautogui、大漠插件时一旦将鼠标移入游戏窗口就没有任何反应了，最后发现可能是因为游戏中的鼠标是图形而非真正意义上的鼠标。\n",
    "    测试好几天发现通过按键精灵测可以实现移动和点击，但是由于感觉功能没有python强大，一直想寻求python中的解决方案，然后再geihub上找到一个叫mouse的模块，测试下来移动和点击都能完美解决。"
   ]
  },
  {
   "cell_type": "code",
   "execution_count": null,
   "metadata": {},
   "outputs": [],
   "source": [
    "import mouse,time\n",
    "time.sleep(2)\n",
    "mouse.click()#点击\n",
    "time.sleep(1)\n",
    "mouse.move(1517, 242)#移动"
   ]
  }
 ],
 "metadata": {
  "kernelspec": {
   "display_name": "Python 3",
   "language": "python",
   "name": "python3"
  },
  "language_info": {
   "codemirror_mode": {
    "name": "ipython",
    "version": 3
   },
   "file_extension": ".py",
   "mimetype": "text/x-python",
   "name": "python",
   "nbconvert_exporter": "python",
   "pygments_lexer": "ipython3",
   "version": "3.7.0"
  }
 },
 "nbformat": 4,
 "nbformat_minor": 2
}
