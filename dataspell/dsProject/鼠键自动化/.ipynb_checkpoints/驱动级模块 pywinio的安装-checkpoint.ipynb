{
 "cells": [
  {
   "cell_type": "markdown",
   "metadata": {},
   "source": [
    "# 驱动级模块 pywinio的安装\n",
    "---\n",
    "## 一.模块介绍\n",
    "    pywinio模块的前身是rabird.winio，官方介绍的不是很清楚走了很多弯路。\n",
    "    官方介绍说电脑需要连接p/2接口的键盘，也就是老式的圆形接口，但是我笔记本没有接键盘也直接能用！难道我的联想拯救者自带键盘是p/2接口的？\n",
    "---\n",
    "\n",
    "## 二.模块的安装\n",
    "[（参考文章）](https://blog.csdn.net/xjzs123/article/details/83177991)\n",
    "\n",
    "### 1.cmd窗口中输入pip3 install pywinio \n",
    "我第一次报错了，可能是网络问题，但是第二次成功了。也可以在pycharm中应该也能搜索该模块安装。\n",
    "### 2.进入python的根目录找到：Lib\\site-packages\\winiobinary\\data\\3.0然后安装证书。\n",
    "具体操作如下：<p>\n",
    "（1）右键WinIO64.sys，选择属性-数字签名<p>\n",
    "（2）选择签名点击详细信息<p>\n",
    "（3）点击查看证书<p>\n",
    "（4）点击安装证书<p>\n",
    "（5）点击下一步<p>\n",
    "（6）点击“浏览“选择”受信任的根证书颁发机构\"<p>\n",
    "（7）直接下一步然后完成<p>\n",
    " 注意：网上很多人都说测试代码时报错577，要仅bios中开启msc功能，但是我电脑找了半天没有，最后我是安装WinIO32.sys的证书解决的。如果还是报错，尝试把这个文件夹中的两个exe文件都以管理员身份运行后关闭再试试。。反正我安装证书时打开过这两个文件，最后就解决了。"
   ]
  }
 ],
 "metadata": {
  "kernelspec": {
   "display_name": "Python 3",
   "language": "python",
   "name": "python3"
  },
  "language_info": {
   "codemirror_mode": {
    "name": "ipython",
    "version": 3
   },
   "file_extension": ".py",
   "mimetype": "text/x-python",
   "name": "python",
   "nbconvert_exporter": "python",
   "pygments_lexer": "ipython3",
   "version": "3.7.0"
  }
 },
 "nbformat": 4,
 "nbformat_minor": 2
}
