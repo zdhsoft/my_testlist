{
 "cells": [
  {
   "cell_type": "markdown",
   "metadata": {},
   "source": [
    "# 鼠标、键盘事件监听"
   ]
  },
  {
   "cell_type": "code",
   "execution_count": null,
   "metadata": {},
   "outputs": [],
   "source": [
    "import PyHook3 as ph\n",
    "import pythoncom\n",
    "def OnMouseEvent(event):\n",
    "  print('MessageName:',event.MessageName)  #事件名称\n",
    "  print('Message:',event.Message)          #windows消息常量\n",
    "  print('Time:',event.Time)                #事件发生的时间戳\n",
    "  print('Window:',event.Window)            #窗口句柄\n",
    "  print('WindowName:',event.WindowName)    #窗口标题\n",
    "  print('Position:',event.Position)        #事件发生时相对于整个屏幕的坐标\n",
    "  print('Wheel:',event.Wheel)              #鼠标滚轮\n",
    "  print('Injected:',event.Injected)        #判断这个事件是否由程序方式生成，而不是正常的人为触发。\n",
    "\n",
    "  print('---')\n",
    "  # 返回True代表将事件继续传给其他句柄，为False则停止传递，即被拦截\n",
    "  return True\n",
    "def OnKeyboardEvent(event):\n",
    "  print('MessageName:',event.MessageName)          #同上，共同属性不再赘述\n",
    "  print('Message:',event.Message)\n",
    "  print('Time:',event.Time)\n",
    "  print('Window:',event.Window)\n",
    "  print('WindowName:',event.WindowName)\n",
    "  print('Ascii:', event.Ascii, chr(event.Ascii))   #按键的ASCII码\n",
    "  print('Key:', event.Key)                         #按键的名称\n",
    "  print('KeyID:', event.KeyID)                     #按键的虚拟键值\n",
    "  print('ScanCode:', event.ScanCode)               #按键扫描码\n",
    "  print('Extended:', event.Extended)               #判断是否为增强键盘的扩展键\n",
    "  print('Injected:', event.Injected)\n",
    "  print('Alt', event.Alt)                          #是某同时按下Alt\n",
    "  print('Transition', event.Transition)            #判断转换状态\n",
    "  print('---')\n",
    "\n",
    "  # 同上\n",
    "  return True\n",
    "\n",
    "ph.MouseAllButtonsDown = OnMouseEvent\n",
    "\n",
    "\n",
    "def main():\n",
    "    # 创建一个“钩子”管理对象\n",
    "    hm = ph.HookManager()\n",
    "    # 监听所有键盘事件\n",
    "    hm.KeyDown = OnKeyboardEvent\n",
    "    # 设置键盘“钩子”\n",
    "    hm.HookKeyboard()\n",
    "    # 监听所有鼠标事件\n",
    "    hm.MouseAll = OnMouseEvent\n",
    "    # 设置鼠标“钩子”\n",
    "    hm.HookMouse()\n",
    "    # 进入循环，如不手动关闭，程序将一直处于监听状态\n",
    "    pythoncom.PumpMessages()\n",
    "\n",
    "if __name__ == \"__main__\":\n",
    "    main()\n"
   ]
  }
 ],
 "metadata": {
  "kernelspec": {
   "display_name": "Python 3",
   "language": "python",
   "name": "python3"
  },
  "language_info": {
   "codemirror_mode": {
    "name": "ipython",
    "version": 3
   },
   "file_extension": ".py",
   "mimetype": "text/x-python",
   "name": "python",
   "nbconvert_exporter": "python",
   "pygments_lexer": "ipython3",
   "version": "3.7.0"
  }
 },
 "nbformat": 4,
 "nbformat_minor": 2
}
