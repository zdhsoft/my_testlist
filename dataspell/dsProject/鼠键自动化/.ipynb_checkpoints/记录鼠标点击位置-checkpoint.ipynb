{
 "cells": [
  {
   "cell_type": "markdown",
   "metadata": {},
   "source": [
    "记录鼠标点击位置"
   ]
  },
  {
   "cell_type": "code",
   "execution_count": null,
   "metadata": {},
   "outputs": [],
   "source": [
    "#!/usr/bin/env python\n",
    "# -*- coding:utf-8 -*-\n",
    "#author:June_xu\n",
    "import pyautogui as mk\n",
    "import time,pythoncom,os,shelve,subprocess,sys\n",
    "import PyHook3 as pyHook\n",
    "\n",
    "# print(os.getcwd())\n",
    "click_position_records={}\n",
    "def read_records_log():\n",
    "    global f,click_position_records\n",
    "    f=shelve.open(\"mouseRecords\")\n",
    "    if f:\n",
    "        click_position_records=f.get(\"click_position_records\")\n",
    "\n",
    "click_timer=1\n",
    "def record_mouse(event):\n",
    "    global click_position_records, click_timer,f,q\n",
    "    if event.Message==513:\n",
    "        x,y=event.Position\n",
    "        color=mk.screenshot().getpixel((x,y))\n",
    "        click_info=[x,y,color[0],color[1],color[2]]\n",
    "        click_position_records[click_timer] = click_info\n",
    "        print(\"第%s次点击 Position：(%s,%s) color:%s\"%(click_timer,x,y,color))\n",
    "        click_timer += 1\n",
    "        return True\n",
    "    elif event.Message==519:\n",
    "        f[\"click_position_records\"]=click_position_records\n",
    "        print(\"退出记录器\")\n",
    "        myName=os.path.basename(sys.argv[0]).split(\".\")[0]\n",
    "        time.sleep(1)\n",
    "        subprocess.call(\"taskkill /f /im %s /t\"%\"python.exe\")\n",
    "        raise Exception(\"记录终止\")\n",
    "\n",
    "\n",
    "def listen_mouse_event():\n",
    "    global click_position_records,click_timer,listener_switch\n",
    "    listener = pyHook.HookManager()\n",
    "    listener.MouseAllButtonsDown=record_mouse\n",
    "    listener.HookMouse()\n",
    "    pythoncom.PumpMessages()\n",
    "\n",
    "\n",
    "read_records_log()\n",
    "listen_mouse_event()"
   ]
  }
 ],
 "metadata": {
  "kernelspec": {
   "display_name": "Python 3",
   "language": "python",
   "name": "python3"
  },
  "language_info": {
   "codemirror_mode": {
    "name": "ipython",
    "version": 3
   },
   "file_extension": ".py",
   "mimetype": "text/x-python",
   "name": "python",
   "nbconvert_exporter": "python",
   "pygments_lexer": "ipython3",
   "version": "3.7.0"
  }
 },
 "nbformat": 4,
 "nbformat_minor": 2
}
