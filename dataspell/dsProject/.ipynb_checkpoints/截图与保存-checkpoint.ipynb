{
 "cells": [
  {
   "cell_type": "markdown",
   "metadata": {},
   "source": [
    "# 截图与保存"
   ]
  },
  {
   "cell_type": "markdown",
   "metadata": {},
   "source": [
    "方法一："
   ]
  },
  {
   "cell_type": "code",
   "execution_count": 1,
   "metadata": {},
   "outputs": [],
   "source": [
    "from PIL import ImageGrab\n",
    "pic = ImageGrab.grab()\n",
    "#pic.save('1.jpg')"
   ]
  },
  {
   "cell_type": "markdown",
   "metadata": {},
   "source": [
    "方法二："
   ]
  },
  {
   "cell_type": "code",
   "execution_count": 2,
   "metadata": {},
   "outputs": [
    {
     "ename": "error",
     "evalue": "(5, 'OpenClipboard', '拒绝访问。')",
     "output_type": "error",
     "traceback": [
      "\u001b[1;31m---------------------------------------------------------------------------\u001b[0m",
      "\u001b[1;31merror\u001b[0m                                     Traceback (most recent call last)",
      "\u001b[1;32m<ipython-input-2-8d94beabc39a>\u001b[0m in \u001b[0;36m<module>\u001b[1;34m\u001b[0m\n\u001b[0;32m     39\u001b[0m \u001b[0mSIZEOF_BITMAPINFOHEADER\u001b[0m \u001b[1;33m=\u001b[0m \u001b[0mctypes\u001b[0m\u001b[1;33m.\u001b[0m\u001b[0msizeof\u001b[0m\u001b[1;33m(\u001b[0m\u001b[0mBITMAPINFOHEADER\u001b[0m\u001b[1;33m)\u001b[0m\u001b[1;33m\u001b[0m\u001b[0m\n\u001b[0;32m     40\u001b[0m \u001b[1;33m\u001b[0m\u001b[0m\n\u001b[1;32m---> 41\u001b[1;33m \u001b[0mwin32clipboard\u001b[0m\u001b[1;33m.\u001b[0m\u001b[0mOpenClipboard\u001b[0m\u001b[1;33m(\u001b[0m\u001b[1;33m)\u001b[0m\u001b[1;33m\u001b[0m\u001b[0m\n\u001b[0m\u001b[0;32m     42\u001b[0m \u001b[1;32mtry\u001b[0m\u001b[1;33m:\u001b[0m\u001b[1;33m\u001b[0m\u001b[0m\n\u001b[0;32m     43\u001b[0m     \u001b[1;32mif\u001b[0m \u001b[0mwin32clipboard\u001b[0m\u001b[1;33m.\u001b[0m\u001b[0mIsClipboardFormatAvailable\u001b[0m\u001b[1;33m(\u001b[0m\u001b[0mwin32clipboard\u001b[0m\u001b[1;33m.\u001b[0m\u001b[0mCF_DIB\u001b[0m\u001b[1;33m)\u001b[0m\u001b[1;33m:\u001b[0m\u001b[1;33m\u001b[0m\u001b[0m\n",
      "\u001b[1;31merror\u001b[0m: (5, 'OpenClipboard', '拒绝访问。')"
     ]
    }
   ],
   "source": [
    "#第一步：截图\n",
    "import win32api\n",
    "import win32con\n",
    "win32api.keybd_event(win32con.VK_SNAPSHOT, 0)#0是全屏，1是窗口截图\n",
    "\n",
    "#第二步：存储，实在太长了不高兴看。。。还报错。。\n",
    "import ctypes\n",
    "from ctypes.wintypes import *\n",
    "import win32clipboard\n",
    "from win32con import *\n",
    "import sys\n",
    "\n",
    "class BITMAPFILEHEADER(ctypes.Structure):\n",
    "    _pack_ = 1  # structure field byte alignment\n",
    "    _fields_ = [\n",
    "        ('bfType', WORD),  # file type (\"BM\")\n",
    "        ('bfSize', DWORD),  # file size in bytes\n",
    "        ('bfReserved1', WORD),  # must be zero\n",
    "        ('bfReserved2', WORD),  # must be zero\n",
    "        ('bfOffBits', DWORD),  # byte offset to the pixel array\n",
    "    ]\n",
    "SIZEOF_BITMAPFILEHEADER = ctypes.sizeof(BITMAPFILEHEADER)\n",
    "\n",
    "class BITMAPINFOHEADER(ctypes.Structure):\n",
    "    _pack_ = 1  # structure field byte alignment\n",
    "    _fields_ = [\n",
    "        ('biSize', DWORD),\n",
    "        ('biWidth', LONG),\n",
    "        ('biHeight', LONG),\n",
    "        ('biPLanes', WORD),\n",
    "        ('biBitCount', WORD),\n",
    "        ('biCompression', DWORD),\n",
    "        ('biSizeImage', DWORD),\n",
    "        ('biXPelsPerMeter', LONG),\n",
    "        ('biYPelsPerMeter', LONG),\n",
    "        ('biClrUsed', DWORD),\n",
    "        ('biClrImportant', DWORD)\n",
    "    ]\n",
    "SIZEOF_BITMAPINFOHEADER = ctypes.sizeof(BITMAPINFOHEADER)\n",
    "\n",
    "win32clipboard.OpenClipboard()\n",
    "try:\n",
    "    if win32clipboard.IsClipboardFormatAvailable(win32clipboard.CF_DIB):\n",
    "        data = win32clipboard.GetClipboardData(win32clipboard.CF_DIB)\n",
    "    else:\n",
    "        print('clipboard does not contain an image in DIB format')\n",
    "        sys.exit(1)\n",
    "finally:\n",
    "    win32clipboard.CloseClipboard()\n",
    "\n",
    "bmih = BITMAPINFOHEADER()\n",
    "ctypes.memmove(ctypes.pointer(bmih), data, SIZEOF_BITMAPINFOHEADER)\n",
    "\n",
    "if bmih.biCompression != BI_BITFIELDS:  # RGBA?\n",
    "    print('insupported compression type {}'.format(bmih.biCompression))\n",
    "    sys.exit(1)\n",
    "\n",
    "bmfh = BITMAPFILEHEADER()\n",
    "ctypes.memset(ctypes.pointer(bmfh), 0, SIZEOF_BITMAPFILEHEADER)  # zero structure\n",
    "bmfh.bfType = ord('B') | (ord('M') << 8)\n",
    "bmfh.bfSize = SIZEOF_BITMAPFILEHEADER + len(data)  # file size\n",
    "SIZEOF_COLORTABLE = 0\n",
    "bmfh.bfOffBits = SIZEOF_BITMAPFILEHEADER + SIZEOF_BITMAPINFOHEADER + SIZEOF_COLORTABLE\n",
    "\n",
    "bmp_filename = 'clipboard.bmp'\n",
    "with open(bmp_filename, 'wb') as bmp_file:\n",
    "    bmp_file.write(bmfh)\n",
    "    bmp_file.write(data)\n",
    "\n",
    "print('file \"{}\" created from clipboard image'.format(bmp_filename))\n"
   ]
  }
 ],
 "metadata": {
  "kernelspec": {
   "display_name": "Python 3",
   "language": "python",
   "name": "python3"
  },
  "language_info": {
   "codemirror_mode": {
    "name": "ipython",
    "version": 3
   },
   "file_extension": ".py",
   "mimetype": "text/x-python",
   "name": "python",
   "nbconvert_exporter": "python",
   "pygments_lexer": "ipython3",
   "version": "3.7.0"
  }
 },
 "nbformat": 4,
 "nbformat_minor": 2
}
