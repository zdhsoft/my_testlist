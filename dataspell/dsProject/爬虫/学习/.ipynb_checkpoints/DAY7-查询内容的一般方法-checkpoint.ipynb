{
 "cells": [
  {
   "cell_type": "code",
   "execution_count": null,
   "metadata": {},
   "outputs": [],
   "source": [
    "import requests\n",
    "from bs4 import beautifulsoup\n",
    "\n",
    "soup.find_all('a')#查找所有的a标签，包括子节点\n",
    "soup.find_all(['a','b'])#查找所有的a标签和b标签，包括子节点b\n",
    "soup.find_all('a',text='上一页')#查找显示值为上一下的a标签\n",
    "soup.find_all(\"div\",'showpage')#查找class为showpage的div\n",
    "soup.find_all('a',text='上一页')[0]['href']#返回href的属性值\n",
    "\n",
    "for tag in soup.find_all(True):\n",
    "    print(tag.name)#打印出所有标签名\n",
    "    \n",
    "soup.find_all('a'，recursive=False)#只查询父标签\n",
    "soup.find_all(strring=\"basic python\")#查找带有basic python的字符串，返回的值也是basic python没什么用\n",
    "\n",
    "import re\n",
    "soup.find_all(strring=re.compile(\"python\"))#查找带有python字样的字符串\n",
    "\n"
   ]
  },
  {
   "cell_type": "markdown",
   "metadata": {},
   "source": [
    "# find_all拓展方法"
   ]
  },
  {
   "cell_type": "markdown",
   "metadata": {},
   "source": [
    " <img style=\"float: left;\" src=\"./res/find_all拓展方法.PNG\" width=\"50%\">"
   ]
  }
 ],
 "metadata": {
  "kernelspec": {
   "display_name": "Python 3",
   "language": "python",
   "name": "python3"
  },
  "language_info": {
   "codemirror_mode": {
    "name": "ipython",
    "version": 3
   },
   "file_extension": ".py",
   "mimetype": "text/x-python",
   "name": "python",
   "nbconvert_exporter": "python",
   "pygments_lexer": "ipython3",
   "version": "3.7.0"
  }
 },
 "nbformat": 4,
 "nbformat_minor": 2
}
