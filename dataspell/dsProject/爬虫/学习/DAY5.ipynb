{
 "cells": [
  {
   "cell_type": "markdown",
   "metadata": {},
   "source": [
    "# 实战"
   ]
  },
  {
   "cell_type": "markdown",
   "metadata": {},
   "source": [
    "## 携带参数发送请求"
   ]
  },
  {
   "cell_type": "code",
   "execution_count": 12,
   "metadata": {},
   "outputs": [
    {
     "data": {
      "text/plain": [
       "200"
      ]
     },
     "execution_count": 12,
     "metadata": {},
     "output_type": "execute_result"
    }
   ],
   "source": [
    "import requests\n",
    "kv={\"wd\":\"python\"}\n",
    "r=requests.get(\"http://www.baidu.com/s\",params=kv)\n",
    "r.encoding=r.apparent_encoding\n",
    "\n",
    "r.status_code"
   ]
  },
  {
   "cell_type": "code",
   "execution_count": 13,
   "metadata": {},
   "outputs": [
    {
     "data": {
      "text/plain": [
       "'<!DOCTYPE html>\\n<html lang=\"zh-CN\">\\n<head>\\n    <meta charset=\"utf-8\">\\n    <title>百度安全验证</title>\\n    <meta http-equiv=\"Content-Type\" content=\"text/html; charset=utf-8\">\\n    <meta name=\"apple-mobile-web-app-capable\" content=\"yes\">\\n    <meta name=\"apple-mobile-web-app-status-bar-style\" content=\"black\">\\n    <meta name=\"viewport\" content=\"width=device-width, user-scalable=no, initial-scale=1.0, minimum-scale=1.0, maximum-scale=1.0\">\\n    <meta name=\"format-detection\" content=\"telephone=no, email=no\">\\n    <link rel=\"shortcut icon\" href=\"https://www.baidu.com/favicon.ico\" type=\"image/x-icon\">\\n    <link rel=\"icon\" sizes=\"any\" mask href=\"https://www.baidu.com/img/baidu.svg\">\\n    <meta http-equiv=\"X-UA-Compatible\" content=\"IE=Edge\">\\n    <meta http-equiv=\"Content-Security-Policy\" content=\"upgrade-insecure-requests\">\\n    <link rel=\"stylesheet\" href=\"https://wappass.bdimg.com/static/touch/css/api/mkdjump_8befa48.css\" />\\n</head>\\n<body>\\n    <div class=\"timeout hide\">\\n        <div class=\"timeout-img\"></div>\\n        <div class=\"timeout-title\">网络不给力，请稍后重试</div>\\n        <button type=\"button\" class=\"timeout-button\">返回首页</button>\\n    </div>\\n    <div class=\"timeout-feedback hide\">\\n        <div class=\"timeout-feedback-icon\"></div>\\n        <p class=\"timeout-feedback-title\">问题反馈</p>\\n    </div>\\n\\n<script src=\"https://wappass.baidu.com/static/machine/js/api/mkd.js\"></script>\\n<script src=\"https://wappass.bdimg.com/static/touch/js/mkdjump_2e06726.js\"></script>\\n</body>\\n</html>'"
      ]
     },
     "execution_count": 13,
     "metadata": {},
     "output_type": "execute_result"
    }
   ],
   "source": [
    "r.text[:2000]"
   ]
  },
  {
   "cell_type": "code",
   "execution_count": 8,
   "metadata": {},
   "outputs": [
    {
     "data": {
      "text/plain": [
       "'https://wappass.baidu.com/static/captcha/tuxing.html?&ak=c27bbc89afca0463650ac9bde68ebe06&backurl=https%3A%2F%2Fwww.baidu.com%2Fs%3Fwd%3Dpython&logid=12126914009502520729&signature=08987069246424eb67a675244a52ddfc&timestamp=1586876625'"
      ]
     },
     "execution_count": 8,
     "metadata": {},
     "output_type": "execute_result"
    }
   ],
   "source": [
    "r.request.url"
   ]
  },
  {
   "cell_type": "markdown",
   "metadata": {},
   "source": [
    "## 出现百度安全验证，没有真正的出现搜索结果 "
   ]
  },
  {
   "cell_type": "markdown",
   "metadata": {},
   "source": [
    "## 查看实际的请求链接"
   ]
  },
  {
   "cell_type": "markdown",
   "metadata": {},
   "source": [
    "百度的基本请求参数wd没有变，但是还有其它参数"
   ]
  },
  {
   "cell_type": "markdown",
   "metadata": {},
   "source": [
    " <img style=\"float: left;\" src=\"./res/百度一下.PNG\" width=\"100%\">"
   ]
  },
  {
   "cell_type": "markdown",
   "metadata": {},
   "source": [
    "## 尝试添加部分参数"
   ]
  },
  {
   "cell_type": "code",
   "execution_count": 28,
   "metadata": {},
   "outputs": [],
   "source": [
    "kv={\n",
    "    'ie':\"utf-8\",\n",
    "    \"newi\":\"1\",\n",
    "    \"mod\":\"1\",\n",
    "    \"isbd\":\"1\",\n",
    "    \"isid\":\"e6e7cd590004d389\",\n",
    "    \"rsv_spt\":\"1\",\n",
    "    \"rsv_iqid\":\"0xb746b2880005c11c\",\n",
    "    \"issp\":\"1\",\n",
    "    \"f\":\"8\",\n",
    "    \"rsv_bp\":\"1\",\n",
    "    \"sv_idx\":\"2\",\n",
    "}"
   ]
  },
  {
   "cell_type": "markdown",
   "metadata": {},
   "source": [
    "## 再加个chrome的请求头"
   ]
  },
  {
   "cell_type": "code",
   "execution_count": 34,
   "metadata": {},
   "outputs": [],
   "source": [
    "hd={'user-agent':\"Mozilla/5.0 (Windows NT 10.0; Win64; x64) AppleWebKit/537.36 (KHTML, like Gecko) Chrome/77.0.3865.120 Safari/537.36\"}"
   ]
  },
  {
   "cell_type": "code",
   "execution_count": 29,
   "metadata": {},
   "outputs": [
    {
     "data": {
      "text/plain": [
       "200"
      ]
     },
     "execution_count": 29,
     "metadata": {},
     "output_type": "execute_result"
    }
   ],
   "source": [
    "import requests\n",
    "# kv={\"wd\":\"python\"}\n",
    "r=requests.get(\"https://www.baidu.com/s\",params=kv,headers=hd)\n",
    "r.encoding=r.apparent_encoding\n",
    "\n",
    "r.status_code"
   ]
  },
  {
   "cell_type": "code",
   "execution_count": 46,
   "metadata": {},
   "outputs": [
    {
     "data": {
      "text/plain": [
       "'<!DOCTYPE html>\\n<!--STATUS OK-->\\n\\r\\n\\r\\n\\r\\n\\r\\n\\r\\n\\r\\n\\r\\n\\r\\n\\r\\n\\r\\n\\r\\n\\r\\n\\r\\n\\r\\n\\r\\n\\r\\n\\r\\n\\r\\n\\r\\n\\r\\n\\r\\n\\r\\n\\r\\n\\r\\n\\r\\n\\r\\n\\r\\n\\r\\n\\r\\n\\r\\n\\r\\n\\r\\n\\r\\n\\r\\n\\r\\n\\r\\n\\r\\n\\r\\n\\r\\n\\r\\n\\r\\n\\r\\n\\r\\n\\r\\n\\r\\n\\r\\n\\r\\n\\r\\n\\r\\n\\r\\n\\r\\n\\r\\n\\r\\n\\r\\n\\r\\n\\r\\n\\t\\r\\n\\r\\n\\r\\n\\r\\n\\r\\n\\r\\n\\r\\n\\r\\n\\r\\n\\r\\n\\r\\n\\r\\n\\r\\n\\n\\n\\n<html>\\n\\t<head>\\n\\t\\t\\n\\t\\t<meta http-equiv=\"X-UA-Compatible\" content=\"IE=edge,chrome=1\">\\n\\t\\t<meta http-equiv=\"content-type\" content=\"text/html;charset=utf-8\">\\n\\t\\t<meta content=\"always\" name=\"referrer\">\\n        <meta name=\"theme-color\" content=\"#2932e1\">\\n        <link rel=\"shortcut icon\" href=\"/favicon.ico\" type=\"image/x-icon\" />\\n        <link rel=\"icon\" sizes=\"any\" mask href=\"//www.baidu.com/img/baidu_85beaf5496f291521eb75ba38eacbd87.svg\">\\n        <link rel=\"search\" type=\"application/opensearchdescription+xml\" href=\"/content-search.xml\" title=\"百度搜索\" />\\n\\t\\t\\n\\t\\t\\n<title>python_百度搜索</title>\\n\\n\\t\\t\\n\\n\\t\\t\\n<style data-for=\"result\" type=\"text/css\" id=\"css_newi_result\">body{color:#333;background:#fff;padding:6px 0 0;margin:0;position:relative;min-width:900px}\\nbody,th,td,.p1,.p2{font-family:arial}\\np,form,ol,ul,li,dl,dt,dd,h3{margin:0;padd'"
      ]
     },
     "execution_count": 46,
     "metadata": {},
     "output_type": "execute_result"
    }
   ],
   "source": [
    "r.text[:1000]"
   ]
  },
  {
   "cell_type": "markdown",
   "metadata": {},
   "source": [
    "## 网页返回成功"
   ]
  },
  {
   "cell_type": "markdown",
   "metadata": {},
   "source": [
    "## 查看请求链接"
   ]
  },
  {
   "cell_type": "code",
   "execution_count": 47,
   "metadata": {},
   "outputs": [
    {
     "data": {
      "text/plain": [
       "'https://www.baidu.com/s?ie=utf-8&newi=1&mod=1&isbd=1&isid=e6e7cd590004d389&wd=python&rsv_spt=1&rsv_iqid=0xb746b2880005c11c&issp=1&f=8&rsv_bp=1&sv_idx=2'"
      ]
     },
     "execution_count": 47,
     "metadata": {},
     "output_type": "execute_result"
    }
   ],
   "source": [
    "r.request.url"
   ]
  }
 ],
 "metadata": {
  "kernelspec": {
   "display_name": "Python 3",
   "language": "python",
   "name": "python3"
  },
  "language_info": {
   "codemirror_mode": {
    "name": "ipython",
    "version": 3
   },
   "file_extension": ".py",
   "mimetype": "text/x-python",
   "name": "python",
   "nbconvert_exporter": "python",
   "pygments_lexer": "ipython3",
   "version": "3.7.0"
  }
 },
 "nbformat": 4,
 "nbformat_minor": 2
}
